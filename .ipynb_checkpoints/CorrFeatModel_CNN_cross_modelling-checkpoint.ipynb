{
 "cells": [
  {
   "cell_type": "code",
   "execution_count": null,
   "id": "390fa1e1",
   "metadata": {},
   "outputs": [],
   "source": [
    "import torch\n",
    "import torchvision.models as models\n",
    "import numpy as np\n",
    "from tqdm import tqdm\n",
    "import matplotlib.pylab as plt\n",
    "from insilico_Exp_torch import TorchScorer\n",
    "from GAN_utils import upconvGAN\n",
    "from ZO_HessAware_Optimizers import CholeskyCMAES\n",
    "from layer_hook_utils import get_module_names, register_hook_by_module_names, layername_dict"
   ]
  },
  {
   "cell_type": "markdown",
   "id": "6c8a2461",
   "metadata": {},
   "source": [
    "First prepare our network models. "
   ]
  },
  {
   "cell_type": "code",
   "execution_count": 1,
   "id": "02fef6e5",
   "metadata": {
    "collapsed": true
   },
   "outputs": [
    {
     "name": "stderr",
     "output_type": "stream",
     "text": [
      "C:\\ProgramData\\Anaconda3\\lib\\site-packages\\torch\\nn\\functional.py:718: UserWarning: Named tensors and all their associated APIs are an experimental feature and subject to change. Please do not use them for anything important until they are released as stable. (Triggered internally at  ..\\c10/core/TensorImpl.h:1156.)\n",
      "  return torch.max_pool2d(input, kernel_size, stride, padding, dilation, ceil_mode)\n"
     ]
    },
    {
     "name": "stdout",
     "output_type": "stream",
     "text": [
      "------------------------------------------------------------------------------\n",
      "      Layer Id       inshape       outshape           Type                 ReadableStr \n",
      "==============================================================================\n",
      "        0        (3, 227, 227) (3, 227, 227)           Input                      Image\n",
      "        1        (3, 227, 227) (64, 114, 114)          Conv2d               .Conv2dconv1\n",
      "        2        (64, 114, 114) (64, 114, 114)     BatchNorm2d            .BatchNorm2dbn1\n",
      "        3        (64, 114, 114) (64, 114, 114)            ReLU                  .ReLUrelu\n",
      "        4        (64, 114, 114) (64, 57, 57)       MaxPool2d          .MaxPool2dmaxpool\n",
      "        5        (64, 57, 57) (64, 57, 57)          Conv2d      .layer1.0.Conv2dconv1\n",
      "        6        (64, 57, 57) (64, 57, 57)     BatchNorm2d   .layer1.0.BatchNorm2dbn1\n",
      "        7        (64, 57, 57) (64, 57, 57)            ReLU         .layer1.0.ReLUrelu\n",
      "        8        (64, 57, 57) (64, 57, 57)          Conv2d      .layer1.0.Conv2dconv2\n",
      "        9        (64, 57, 57) (64, 57, 57)     BatchNorm2d   .layer1.0.BatchNorm2dbn2\n",
      "        10       (64, 57, 57) (64, 57, 57)            ReLU         .layer1.0.ReLUrelu\n",
      "        11       (64, 57, 57) (256, 57, 57)          Conv2d      .layer1.0.Conv2dconv3\n",
      "        12       (256, 57, 57) (256, 57, 57)     BatchNorm2d   .layer1.0.BatchNorm2dbn3\n",
      "        13       (64, 57, 57) (256, 57, 57)          Conv2d  .layer1.0.downsample.Conv2d0\n",
      "        14       (256, 57, 57) (256, 57, 57)     BatchNorm2d  .layer1.0.downsample.BatchNorm2d1\n",
      "        15       (256, 57, 57) (256, 57, 57)            ReLU         .layer1.0.ReLUrelu\n",
      "        16       (64, 57, 57) (256, 57, 57)      Bottleneck        .layer1.Bottleneck0\n",
      "        17       (256, 57, 57) (64, 57, 57)          Conv2d      .layer1.1.Conv2dconv1\n",
      "        18       (64, 57, 57) (64, 57, 57)     BatchNorm2d   .layer1.1.BatchNorm2dbn1\n",
      "        19       (64, 57, 57) (64, 57, 57)            ReLU         .layer1.1.ReLUrelu\n",
      "        20       (64, 57, 57) (64, 57, 57)          Conv2d      .layer1.1.Conv2dconv2\n",
      "        21       (64, 57, 57) (64, 57, 57)     BatchNorm2d   .layer1.1.BatchNorm2dbn2\n",
      "        22       (64, 57, 57) (64, 57, 57)            ReLU         .layer1.1.ReLUrelu\n",
      "        23       (64, 57, 57) (256, 57, 57)          Conv2d      .layer1.1.Conv2dconv3\n",
      "        24       (256, 57, 57) (256, 57, 57)     BatchNorm2d   .layer1.1.BatchNorm2dbn3\n",
      "        25       (256, 57, 57) (256, 57, 57)            ReLU         .layer1.1.ReLUrelu\n",
      "        26       (256, 57, 57) (256, 57, 57)      Bottleneck        .layer1.Bottleneck1\n",
      "        27       (256, 57, 57) (64, 57, 57)          Conv2d      .layer1.2.Conv2dconv1\n",
      "        28       (64, 57, 57) (64, 57, 57)     BatchNorm2d   .layer1.2.BatchNorm2dbn1\n",
      "        29       (64, 57, 57) (64, 57, 57)            ReLU         .layer1.2.ReLUrelu\n",
      "        30       (64, 57, 57) (64, 57, 57)          Conv2d      .layer1.2.Conv2dconv2\n",
      "        31       (64, 57, 57) (64, 57, 57)     BatchNorm2d   .layer1.2.BatchNorm2dbn2\n",
      "        32       (64, 57, 57) (64, 57, 57)            ReLU         .layer1.2.ReLUrelu\n",
      "        33       (64, 57, 57) (256, 57, 57)          Conv2d      .layer1.2.Conv2dconv3\n",
      "        34       (256, 57, 57) (256, 57, 57)     BatchNorm2d   .layer1.2.BatchNorm2dbn3\n",
      "        35       (256, 57, 57) (256, 57, 57)            ReLU         .layer1.2.ReLUrelu\n",
      "        36       (256, 57, 57) (256, 57, 57)      Bottleneck        .layer1.Bottleneck2\n",
      "        37       (256, 57, 57) (128, 57, 57)          Conv2d      .layer2.0.Conv2dconv1\n",
      "        38       (128, 57, 57) (128, 57, 57)     BatchNorm2d   .layer2.0.BatchNorm2dbn1\n",
      "        39       (128, 57, 57) (128, 57, 57)            ReLU         .layer2.0.ReLUrelu\n",
      "        40       (128, 57, 57) (128, 29, 29)          Conv2d      .layer2.0.Conv2dconv2\n",
      "        41       (128, 29, 29) (128, 29, 29)     BatchNorm2d   .layer2.0.BatchNorm2dbn2\n",
      "        42       (128, 29, 29) (128, 29, 29)            ReLU         .layer2.0.ReLUrelu\n",
      "        43       (128, 29, 29) (512, 29, 29)          Conv2d      .layer2.0.Conv2dconv3\n",
      "        44       (512, 29, 29) (512, 29, 29)     BatchNorm2d   .layer2.0.BatchNorm2dbn3\n",
      "        45       (256, 57, 57) (512, 29, 29)          Conv2d  .layer2.0.downsample.Conv2d0\n",
      "        46       (512, 29, 29) (512, 29, 29)     BatchNorm2d  .layer2.0.downsample.BatchNorm2d1\n",
      "        47       (512, 29, 29) (512, 29, 29)            ReLU         .layer2.0.ReLUrelu\n",
      "        48       (256, 57, 57) (512, 29, 29)      Bottleneck        .layer2.Bottleneck0\n",
      "        49       (512, 29, 29) (128, 29, 29)          Conv2d      .layer2.1.Conv2dconv1\n",
      "        50       (128, 29, 29) (128, 29, 29)     BatchNorm2d   .layer2.1.BatchNorm2dbn1\n",
      "        51       (128, 29, 29) (128, 29, 29)            ReLU         .layer2.1.ReLUrelu\n",
      "        52       (128, 29, 29) (128, 29, 29)          Conv2d      .layer2.1.Conv2dconv2\n",
      "        53       (128, 29, 29) (128, 29, 29)     BatchNorm2d   .layer2.1.BatchNorm2dbn2\n",
      "        54       (128, 29, 29) (128, 29, 29)            ReLU         .layer2.1.ReLUrelu\n",
      "        55       (128, 29, 29) (512, 29, 29)          Conv2d      .layer2.1.Conv2dconv3\n",
      "        56       (512, 29, 29) (512, 29, 29)     BatchNorm2d   .layer2.1.BatchNorm2dbn3\n",
      "        57       (512, 29, 29) (512, 29, 29)            ReLU         .layer2.1.ReLUrelu\n",
      "        58       (512, 29, 29) (512, 29, 29)      Bottleneck        .layer2.Bottleneck1\n",
      "        59       (512, 29, 29) (128, 29, 29)          Conv2d      .layer2.2.Conv2dconv1\n",
      "        60       (128, 29, 29) (128, 29, 29)     BatchNorm2d   .layer2.2.BatchNorm2dbn1\n",
      "        61       (128, 29, 29) (128, 29, 29)            ReLU         .layer2.2.ReLUrelu\n",
      "        62       (128, 29, 29) (128, 29, 29)          Conv2d      .layer2.2.Conv2dconv2\n",
      "        63       (128, 29, 29) (128, 29, 29)     BatchNorm2d   .layer2.2.BatchNorm2dbn2\n",
      "        64       (128, 29, 29) (128, 29, 29)            ReLU         .layer2.2.ReLUrelu\n",
      "        65       (128, 29, 29) (512, 29, 29)          Conv2d      .layer2.2.Conv2dconv3\n",
      "        66       (512, 29, 29) (512, 29, 29)     BatchNorm2d   .layer2.2.BatchNorm2dbn3\n",
      "        67       (512, 29, 29) (512, 29, 29)            ReLU         .layer2.2.ReLUrelu\n",
      "        68       (512, 29, 29) (512, 29, 29)      Bottleneck        .layer2.Bottleneck2\n",
      "        69       (512, 29, 29) (128, 29, 29)          Conv2d      .layer2.3.Conv2dconv1\n",
      "        70       (128, 29, 29) (128, 29, 29)     BatchNorm2d   .layer2.3.BatchNorm2dbn1\n",
      "        71       (128, 29, 29) (128, 29, 29)            ReLU         .layer2.3.ReLUrelu\n",
      "        72       (128, 29, 29) (128, 29, 29)          Conv2d      .layer2.3.Conv2dconv2\n",
      "        73       (128, 29, 29) (128, 29, 29)     BatchNorm2d   .layer2.3.BatchNorm2dbn2\n",
      "        74       (128, 29, 29) (128, 29, 29)            ReLU         .layer2.3.ReLUrelu\n",
      "        75       (128, 29, 29) (512, 29, 29)          Conv2d      .layer2.3.Conv2dconv3\n",
      "        76       (512, 29, 29) (512, 29, 29)     BatchNorm2d   .layer2.3.BatchNorm2dbn3\n",
      "        77       (512, 29, 29) (512, 29, 29)            ReLU         .layer2.3.ReLUrelu\n",
      "        78       (512, 29, 29) (512, 29, 29)      Bottleneck        .layer2.Bottleneck3\n",
      "        79       (512, 29, 29) (256, 29, 29)          Conv2d      .layer3.0.Conv2dconv1\n",
      "        80       (256, 29, 29) (256, 29, 29)     BatchNorm2d   .layer3.0.BatchNorm2dbn1\n",
      "        81       (256, 29, 29) (256, 29, 29)            ReLU         .layer3.0.ReLUrelu\n",
      "        82       (256, 29, 29) (256, 15, 15)          Conv2d      .layer3.0.Conv2dconv2\n",
      "        83       (256, 15, 15) (256, 15, 15)     BatchNorm2d   .layer3.0.BatchNorm2dbn2\n",
      "        84       (256, 15, 15) (256, 15, 15)            ReLU         .layer3.0.ReLUrelu\n",
      "        85       (256, 15, 15) (1024, 15, 15)          Conv2d      .layer3.0.Conv2dconv3\n",
      "        86       (1024, 15, 15) (1024, 15, 15)     BatchNorm2d   .layer3.0.BatchNorm2dbn3\n",
      "        87       (512, 29, 29) (1024, 15, 15)          Conv2d  .layer3.0.downsample.Conv2d0\n",
      "        88       (1024, 15, 15) (1024, 15, 15)     BatchNorm2d  .layer3.0.downsample.BatchNorm2d1\n",
      "        89       (1024, 15, 15) (1024, 15, 15)            ReLU         .layer3.0.ReLUrelu\n",
      "        90       (512, 29, 29) (1024, 15, 15)      Bottleneck        .layer3.Bottleneck0\n",
      "        91       (1024, 15, 15) (256, 15, 15)          Conv2d      .layer3.1.Conv2dconv1\n",
      "        92       (256, 15, 15) (256, 15, 15)     BatchNorm2d   .layer3.1.BatchNorm2dbn1\n",
      "        93       (256, 15, 15) (256, 15, 15)            ReLU         .layer3.1.ReLUrelu\n",
      "        94       (256, 15, 15) (256, 15, 15)          Conv2d      .layer3.1.Conv2dconv2\n",
      "        95       (256, 15, 15) (256, 15, 15)     BatchNorm2d   .layer3.1.BatchNorm2dbn2\n",
      "        96       (256, 15, 15) (256, 15, 15)            ReLU         .layer3.1.ReLUrelu\n",
      "        97       (256, 15, 15) (1024, 15, 15)          Conv2d      .layer3.1.Conv2dconv3\n",
      "        98       (1024, 15, 15) (1024, 15, 15)     BatchNorm2d   .layer3.1.BatchNorm2dbn3\n",
      "        99       (1024, 15, 15) (1024, 15, 15)            ReLU         .layer3.1.ReLUrelu\n",
      "        100      (1024, 15, 15) (1024, 15, 15)      Bottleneck        .layer3.Bottleneck1\n",
      "        101      (1024, 15, 15) (256, 15, 15)          Conv2d      .layer3.2.Conv2dconv1\n",
      "        102      (256, 15, 15) (256, 15, 15)     BatchNorm2d   .layer3.2.BatchNorm2dbn1\n",
      "        103      (256, 15, 15) (256, 15, 15)            ReLU         .layer3.2.ReLUrelu\n",
      "        104      (256, 15, 15) (256, 15, 15)          Conv2d      .layer3.2.Conv2dconv2\n",
      "        105      (256, 15, 15) (256, 15, 15)     BatchNorm2d   .layer3.2.BatchNorm2dbn2\n",
      "        106      (256, 15, 15) (256, 15, 15)            ReLU         .layer3.2.ReLUrelu\n",
      "        107      (256, 15, 15) (1024, 15, 15)          Conv2d      .layer3.2.Conv2dconv3\n",
      "        108      (1024, 15, 15) (1024, 15, 15)     BatchNorm2d   .layer3.2.BatchNorm2dbn3\n",
      "        109      (1024, 15, 15) (1024, 15, 15)            ReLU         .layer3.2.ReLUrelu\n",
      "        110      (1024, 15, 15) (1024, 15, 15)      Bottleneck        .layer3.Bottleneck2\n",
      "        111      (1024, 15, 15) (256, 15, 15)          Conv2d      .layer3.3.Conv2dconv1\n",
      "        112      (256, 15, 15) (256, 15, 15)     BatchNorm2d   .layer3.3.BatchNorm2dbn1\n",
      "        113      (256, 15, 15) (256, 15, 15)            ReLU         .layer3.3.ReLUrelu\n",
      "        114      (256, 15, 15) (256, 15, 15)          Conv2d      .layer3.3.Conv2dconv2\n",
      "        115      (256, 15, 15) (256, 15, 15)     BatchNorm2d   .layer3.3.BatchNorm2dbn2\n",
      "        116      (256, 15, 15) (256, 15, 15)            ReLU         .layer3.3.ReLUrelu\n",
      "        117      (256, 15, 15) (1024, 15, 15)          Conv2d      .layer3.3.Conv2dconv3\n",
      "        118      (1024, 15, 15) (1024, 15, 15)     BatchNorm2d   .layer3.3.BatchNorm2dbn3\n",
      "        119      (1024, 15, 15) (1024, 15, 15)            ReLU         .layer3.3.ReLUrelu\n",
      "        120      (1024, 15, 15) (1024, 15, 15)      Bottleneck        .layer3.Bottleneck3\n",
      "        121      (1024, 15, 15) (256, 15, 15)          Conv2d      .layer3.4.Conv2dconv1\n",
      "        122      (256, 15, 15) (256, 15, 15)     BatchNorm2d   .layer3.4.BatchNorm2dbn1\n",
      "        123      (256, 15, 15) (256, 15, 15)            ReLU         .layer3.4.ReLUrelu\n",
      "        124      (256, 15, 15) (256, 15, 15)          Conv2d      .layer3.4.Conv2dconv2\n",
      "        125      (256, 15, 15) (256, 15, 15)     BatchNorm2d   .layer3.4.BatchNorm2dbn2\n",
      "        126      (256, 15, 15) (256, 15, 15)            ReLU         .layer3.4.ReLUrelu\n",
      "        127      (256, 15, 15) (1024, 15, 15)          Conv2d      .layer3.4.Conv2dconv3\n",
      "        128      (1024, 15, 15) (1024, 15, 15)     BatchNorm2d   .layer3.4.BatchNorm2dbn3\n",
      "        129      (1024, 15, 15) (1024, 15, 15)            ReLU         .layer3.4.ReLUrelu\n",
      "        130      (1024, 15, 15) (1024, 15, 15)      Bottleneck        .layer3.Bottleneck4\n",
      "        131      (1024, 15, 15) (256, 15, 15)          Conv2d      .layer3.5.Conv2dconv1\n",
      "        132      (256, 15, 15) (256, 15, 15)     BatchNorm2d   .layer3.5.BatchNorm2dbn1\n",
      "        133      (256, 15, 15) (256, 15, 15)            ReLU         .layer3.5.ReLUrelu\n",
      "        134      (256, 15, 15) (256, 15, 15)          Conv2d      .layer3.5.Conv2dconv2\n",
      "        135      (256, 15, 15) (256, 15, 15)     BatchNorm2d   .layer3.5.BatchNorm2dbn2\n",
      "        136      (256, 15, 15) (256, 15, 15)            ReLU         .layer3.5.ReLUrelu\n",
      "        137      (256, 15, 15) (1024, 15, 15)          Conv2d      .layer3.5.Conv2dconv3\n",
      "        138      (1024, 15, 15) (1024, 15, 15)     BatchNorm2d   .layer3.5.BatchNorm2dbn3\n",
      "        139      (1024, 15, 15) (1024, 15, 15)            ReLU         .layer3.5.ReLUrelu\n",
      "        140      (1024, 15, 15) (1024, 15, 15)      Bottleneck        .layer3.Bottleneck5\n",
      "        141      (1024, 15, 15) (512, 15, 15)          Conv2d      .layer4.0.Conv2dconv1\n",
      "        142      (512, 15, 15) (512, 15, 15)     BatchNorm2d   .layer4.0.BatchNorm2dbn1\n",
      "        143      (512, 15, 15) (512, 15, 15)            ReLU         .layer4.0.ReLUrelu\n",
      "        144      (512, 15, 15)  (512, 8, 8)          Conv2d      .layer4.0.Conv2dconv2\n",
      "        145       (512, 8, 8)  (512, 8, 8)     BatchNorm2d   .layer4.0.BatchNorm2dbn2\n",
      "        146       (512, 8, 8)  (512, 8, 8)            ReLU         .layer4.0.ReLUrelu\n",
      "        147       (512, 8, 8) (2048, 8, 8)          Conv2d      .layer4.0.Conv2dconv3\n",
      "        148      (2048, 8, 8) (2048, 8, 8)     BatchNorm2d   .layer4.0.BatchNorm2dbn3\n",
      "        149      (1024, 15, 15) (2048, 8, 8)          Conv2d  .layer4.0.downsample.Conv2d0\n",
      "        150      (2048, 8, 8) (2048, 8, 8)     BatchNorm2d  .layer4.0.downsample.BatchNorm2d1\n",
      "        151      (2048, 8, 8) (2048, 8, 8)            ReLU         .layer4.0.ReLUrelu\n",
      "        152      (1024, 15, 15) (2048, 8, 8)      Bottleneck        .layer4.Bottleneck0\n",
      "        153      (2048, 8, 8)  (512, 8, 8)          Conv2d      .layer4.1.Conv2dconv1\n",
      "        154       (512, 8, 8)  (512, 8, 8)     BatchNorm2d   .layer4.1.BatchNorm2dbn1\n",
      "        155       (512, 8, 8)  (512, 8, 8)            ReLU         .layer4.1.ReLUrelu\n",
      "        156       (512, 8, 8)  (512, 8, 8)          Conv2d      .layer4.1.Conv2dconv2\n",
      "        157       (512, 8, 8)  (512, 8, 8)     BatchNorm2d   .layer4.1.BatchNorm2dbn2\n",
      "        158       (512, 8, 8)  (512, 8, 8)            ReLU         .layer4.1.ReLUrelu\n",
      "        159       (512, 8, 8) (2048, 8, 8)          Conv2d      .layer4.1.Conv2dconv3\n",
      "        160      (2048, 8, 8) (2048, 8, 8)     BatchNorm2d   .layer4.1.BatchNorm2dbn3\n",
      "        161      (2048, 8, 8) (2048, 8, 8)            ReLU         .layer4.1.ReLUrelu\n",
      "        162      (2048, 8, 8) (2048, 8, 8)      Bottleneck        .layer4.Bottleneck1\n",
      "        163      (2048, 8, 8)  (512, 8, 8)          Conv2d      .layer4.2.Conv2dconv1\n",
      "        164       (512, 8, 8)  (512, 8, 8)     BatchNorm2d   .layer4.2.BatchNorm2dbn1\n",
      "        165       (512, 8, 8)  (512, 8, 8)            ReLU         .layer4.2.ReLUrelu\n",
      "        166       (512, 8, 8)  (512, 8, 8)          Conv2d      .layer4.2.Conv2dconv2\n",
      "        167       (512, 8, 8)  (512, 8, 8)     BatchNorm2d   .layer4.2.BatchNorm2dbn2\n",
      "        168       (512, 8, 8)  (512, 8, 8)            ReLU         .layer4.2.ReLUrelu\n",
      "        169       (512, 8, 8) (2048, 8, 8)          Conv2d      .layer4.2.Conv2dconv3\n",
      "        170      (2048, 8, 8) (2048, 8, 8)     BatchNorm2d   .layer4.2.BatchNorm2dbn3\n",
      "        171      (2048, 8, 8) (2048, 8, 8)            ReLU         .layer4.2.ReLUrelu\n",
      "        172      (2048, 8, 8) (2048, 8, 8)      Bottleneck        .layer4.Bottleneck2\n",
      "        173      (2048, 8, 8) (2048, 1, 1) AdaptiveAvgPool2d  .AdaptiveAvgPool2davgpool\n",
      "        174           (2048,)      (1000,)          Linear                  .Linearfc\n",
      "        175      (3, 227, 227)      (1000,)          ResNet                    .ResNet\n"
     ]
    }
   ],
   "source": [
    "G = upconvGAN(\"fc6\").cuda()\n",
    "G.requires_grad_(False)\n",
    "scorer = TorchScorer(\"resnet50\")\n",
    "module_names, module_types, module_spec = get_module_names(scorer.model, input_size=(3, 227, 227), device=\"cuda\");\n",
    "# scorer = TorchScorer(\"vgg16\")\n",
    "# scorer.select_unit((\"vgg16\", \"fc2\", 10, 10, 10))"
   ]
  },
  {
   "cell_type": "markdown",
   "id": "956d1a93",
   "metadata": {},
   "source": [
    "Next load up machineries from visual neuron modelling package. "
   ]
  },
  {
   "cell_type": "code",
   "execution_count": 2,
   "id": "f1ef915a",
   "metadata": {},
   "outputs": [
    {
     "name": "stderr",
     "output_type": "stream",
     "text": [
      "D:\\Github\\Visual_Neuron_Modelling\\featvis_lib.py:452: DeprecationWarning: invalid escape sequence \\O\n",
      "  figroot = \"E:\\OneDrive - Washington University in St. Louis\\corrFeatTsr_FactorVis\"\n",
      "D:\\Github\\Visual_Neuron_Modelling\\CorrFeatTsr_visualize_lib.py:412: DeprecationWarning: invalid escape sequence \\c\n",
      "  D = np.load(join(\"S:\\corrFeatTsr\",\"%s_Exp%d_EM_corrTsr.npz\"%(Animal,Expi)), allow_pickle=True)\n"
     ]
    }
   ],
   "source": [
    "import sys\n",
    "sys.path.append(r\"D:\\Github\\Visual_Neuron_Modelling\")\n",
    "from CorrFeatTsr_lib import Corr_Feat_Machine\n",
    "from featvis_lib import load_featnet, rectify_tsr, tsr_posneg_factorize\n",
    "from CorrFeatTsr_visualize_lib import CorrFeatScore"
   ]
  },
  {
   "cell_type": "code",
   "execution_count": 3,
   "id": "9437c3fc",
   "metadata": {},
   "outputs": [
    {
     "name": "stderr",
     "output_type": "stream",
     "text": [
      "C:\\ProgramData\\Anaconda3\\lib\\site-packages\\ipykernel\\ipkernel.py:287: DeprecationWarning: `should_run_async` will not call `transform_cell` automatically in the future. Please pass the result to `transformed_cell` argument and any exception that happen during thetransform in `preprocessing_exc_tuple` in IPython 7.17 and above.\n",
      "  and should_run_async(code)\n"
     ]
    }
   ],
   "source": [
    "def score_images(featNet, scorer, layername, imgtsr, preprocessor=lambda x:x, batchsize=40,):\n",
    "    \"\"\" Basic function to use scorers to load and score a bunch of imgfps. \n",
    "    :param featNet: a feature processing network nn.Module.\n",
    "    :param scorer: CorrFeatScore\n",
    "    :param layername: str, the layer you are generating the score from\n",
    "    :param imgfps: a list of full paths to the images.\n",
    "    :param imgloader: image loader, a function taking a list to full path as input and returns a preprocessed image\n",
    "        tensor.\n",
    "    :param batchsize: batch size in processing images. Usually 120 is fine with a 6gb gpu.\n",
    "    :return:\n",
    "        score_all: tensor of returned scores.\n",
    "\n",
    "    :Example:\n",
    "        scorer = CorrFeatScore()\n",
    "        scorer.register_hooks(net, layer, netname=netname)\n",
    "        scorer.register_weights({layer: DR_Wtsr})\n",
    "        pred_score = score_images(featnet, scorer, layer, imgfullpath_vect, imgloader=loadimg_preprocess, batchsize=80,)\n",
    "        scorer.clear_hook()\n",
    "        nlfunc, popt, pcov, scaling, nlpred_score = fitnl_predscore(pred_score.numpy(), score_vect)\n",
    "\n",
    "    \"\"\"\n",
    "    imgN = imgtsr.shape[0]\n",
    "    csr = 0\n",
    "    pbar = tqdm(total=imgN)\n",
    "    score_all = []\n",
    "    while csr < imgN:\n",
    "        cend = min(csr + batchsize, imgN)\n",
    "        input_tsr = preprocessor(imgtsr[csr:cend,:,:,:])  # imgpix=120, fullimgsz=224, borderblur=True\n",
    "        with torch.no_grad():\n",
    "            featNet(input_tsr.cuda()).cpu()\n",
    "            score = scorer.corrfeat_score(layername)\n",
    "        score_all.append(score.detach().clone().cpu())\n",
    "        pbar.update(cend - csr)\n",
    "        csr = cend\n",
    "    pbar.close()\n",
    "    score_all = torch.cat(tuple(score_all), dim=0)\n",
    "    return score_all"
   ]
  },
  {
   "cell_type": "code",
   "execution_count": 4,
   "id": "0fb7c3bf",
   "metadata": {},
   "outputs": [
    {
     "name": "stdout",
     "output_type": "stream",
     "text": [
      "Center position on the feature map is (4 4) of layer .layer4.Bottleneck0 \n"
     ]
    },
    {
     "name": "stderr",
     "output_type": "stream",
     "text": [
      "C:\\ProgramData\\Anaconda3\\lib\\site-packages\\ipykernel\\ipkernel.py:287: DeprecationWarning: `should_run_async` will not call `transform_cell` automatically in the future. Please pass the result to `transformed_cell` argument and any exception that happen during thetransform in `preprocessing_exc_tuple` in IPython 7.17 and above.\n",
      "  and should_run_async(code)\n"
     ]
    }
   ],
   "source": [
    "layer = \".layer4.Bottleneck0\"\n",
    "chan = 10\n",
    "layer_key = [k for k, v in module_names.items() if v == layer][0]\n",
    "feat_outshape = module_spec[layer_key]['outshape']\n",
    "assert len(feat_outshape) == 3  # fc layer will fail\n",
    "cent_pos = (feat_outshape[1]//2, feat_outshape[2]//2)\n",
    "print(\"Center position on the feature map is (%d %d) of layer %s (tensor shape %s)\"%(*cent_pos,layer))\n",
    "# scorer.select_unit((\"resnet50\", layer, chan, *cent_pos), allow_grad=True)"
   ]
  },
  {
   "cell_type": "code",
   "execution_count": 5,
   "id": "f9e96a99",
   "metadata": {},
   "outputs": [
    {
     "name": "stderr",
     "output_type": "stream",
     "text": [
      "C:\\ProgramData\\Anaconda3\\lib\\site-packages\\ipykernel\\ipkernel.py:287: DeprecationWarning: `should_run_async` will not call `transform_cell` automatically in the future. Please pass the result to `transformed_cell` argument and any exception that happen during thetransform in `preprocessing_exc_tuple` in IPython 7.17 and above.\n",
      "  and should_run_async(code)\n"
     ]
    },
    {
     "data": {
      "text/plain": [
       "(2048, 8, 8)"
      ]
     },
     "execution_count": 5,
     "metadata": {},
     "output_type": "execute_result"
    }
   ],
   "source": [
    "feat_outshape"
   ]
  },
  {
   "cell_type": "code",
   "execution_count": 37,
   "id": "7a7fb69c",
   "metadata": {},
   "outputs": [
    {
     "name": "stderr",
     "output_type": "stream",
     "text": [
      "C:\\ProgramData\\Anaconda3\\lib\\site-packages\\ipykernel\\ipkernel.py:287: DeprecationWarning: `should_run_async` will not call `transform_cell` automatically in the future. Please pass the result to `transformed_cell` argument and any exception that happen during thetransform in `preprocessing_exc_tuple` in IPython 7.17 and above.\n",
      "  and should_run_async(code)\n"
     ]
    }
   ],
   "source": [
    "# Target neuron network \n",
    "scorer = TorchScorer(\"resnet50\")\n",
    "scorer.select_unit((\"resnet50\", layer, 5, 5, 5), allow_grad=True)"
   ]
  },
  {
   "cell_type": "code",
   "execution_count": 38,
   "id": "1246489f",
   "metadata": {
    "scrolled": true
   },
   "outputs": [
    {
     "name": "stderr",
     "output_type": "stream",
     "text": [
      "C:\\ProgramData\\Anaconda3\\lib\\site-packages\\ipykernel\\ipkernel.py:287: DeprecationWarning: `should_run_async` will not call `transform_cell` automatically in the future. Please pass the result to `transformed_cell` argument and any exception that happen during thetransform in `preprocessing_exc_tuple` in IPython 7.17 and above.\n",
      "  and should_run_async(code)\n"
     ]
    },
    {
     "name": "stdout",
     "output_type": "stream",
     "text": [
      "Feature Correlator Destructed, Hooks deleted.\n"
     ]
    }
   ],
   "source": [
    "# Model Network\n",
    "VGG = models.vgg16(pretrained=True)\n",
    "VGG.requires_grad_(False).eval()\n",
    "VGG.features.cuda()\n",
    "# Multi-case modelling \n",
    "featFetcher = Corr_Feat_Machine()\n",
    "featFetcher.register_hooks(VGG, [\"conv2_2\", \"conv3_3\",\"conv4_3\", \"conv5_3\"], netname='vgg16', verbose=False)\n",
    "featFetcher.init_corr()"
   ]
  },
  {
   "cell_type": "code",
   "execution_count": 39,
   "id": "7fb28797",
   "metadata": {},
   "outputs": [
    {
     "name": "stderr",
     "output_type": "stream",
     "text": [
      "C:\\ProgramData\\Anaconda3\\lib\\site-packages\\ipykernel\\ipkernel.py:287: DeprecationWarning: `should_run_async` will not call `transform_cell` automatically in the future. Please pass the result to `transformed_cell` argument and any exception that happen during thetransform in `preprocessing_exc_tuple` in IPython 7.17 and above.\n",
      "  and should_run_async(code)\n",
      "100%|████████████████████████████████████████████████████████████████████████████████| 100/100 [01:21<00:00,  1.22it/s]\n"
     ]
    }
   ],
   "source": [
    "for i in tqdm(range(100)):\n",
    "    imgs = G.visualize(torch.randn(40,4096).cuda())\n",
    "    resp = scorer.score_tsr_wgrad(imgs, B=40)\n",
    "    with torch.no_grad():\n",
    "        VGG.features(imgs)\n",
    "    del imgs\n",
    "    featFetcher.update_corr(resp.cpu())\n",
    "\n",
    "featFetcher.calc_corr()"
   ]
  },
  {
   "cell_type": "code",
   "execution_count": null,
   "id": "d85eb6a5",
   "metadata": {},
   "outputs": [],
   "source": []
  },
  {
   "cell_type": "code",
   "execution_count": 40,
   "id": "0031ca7b",
   "metadata": {},
   "outputs": [
    {
     "name": "stderr",
     "output_type": "stream",
     "text": [
      "C:\\ProgramData\\Anaconda3\\lib\\site-packages\\ipykernel\\ipkernel.py:287: DeprecationWarning: `should_run_async` will not call `transform_cell` automatically in the future. Please pass the result to `transformed_cell` argument and any exception that happen during thetransform in `preprocessing_exc_tuple` in IPython 7.17 and above.\n",
      "  and should_run_async(code)\n"
     ]
    },
    {
     "data": {
      "image/png": "[encoded data removed]",
      "text/plain": [
       "<Figure size 432x288 with 2 Axes>"
      ]
     },
     "metadata": {
      "needs_background": "light"
     },
     "output_type": "display_data"
    }
   ],
   "source": [
    "plt.imshow(featFetcher.cctsr['conv5_3'].abs().mean(dim=0))\n",
    "plt.colorbar()\n",
    "plt.show()"
   ]
  },
  {
   "cell_type": "code",
   "execution_count": 31,
   "id": "11efcf6e",
   "metadata": {},
   "outputs": [
    {
     "name": "stderr",
     "output_type": "stream",
     "text": [
      "C:\\ProgramData\\Anaconda3\\lib\\site-packages\\ipykernel\\ipkernel.py:287: DeprecationWarning: `should_run_async` will not call `transform_cell` automatically in the future. Please pass the result to `transformed_cell` argument and any exception that happen during thetransform in `preprocessing_exc_tuple` in IPython 7.17 and above.\n",
      "  and should_run_async(code)\n"
     ]
    },
    {
     "data": {
      "image/png": "[encoded data removed]",
      "text/plain": [
       "<Figure size 432x288 with 2 Axes>"
      ]
     },
     "metadata": {
      "needs_background": "light"
     },
     "output_type": "display_data"
    }
   ],
   "source": [
    "plt.imshow(np.abs(Ttsr).mean(axis=0))\n",
    "plt.colorbar()\n",
    "plt.show()"
   ]
  },
  {
   "cell_type": "code",
   "execution_count": 46,
   "id": "adf2b6a0",
   "metadata": {},
   "outputs": [
    {
     "name": "stdout",
     "output_type": "stream",
     "text": [
      "Sparsity after T threshold 0.198\n",
      "NMF explained variance 0.404\n",
      "Factor0 norm 3.96\n",
      "Factor1 norm 2.69\n",
      "Factor2 norm 3.64\n",
      "Correlation to the corr coef tensor 0.775\n"
     ]
    },
    {
     "name": "stderr",
     "output_type": "stream",
     "text": [
      "C:\\ProgramData\\Anaconda3\\lib\\site-packages\\ipykernel\\ipkernel.py:287: DeprecationWarning: `should_run_async` will not call `transform_cell` automatically in the future. Please pass the result to `transformed_cell` argument and any exception that happen during thetransform in `preprocessing_exc_tuple` in IPython 7.17 and above.\n",
      "  and should_run_async(code)\n"
     ]
    },
    {
     "data": {
      "image/png": "[encoded data removed]",
      "text/plain": [
       "<Figure size 432x288 with 1 Axes>"
      ]
     },
     "metadata": {
      "needs_background": "light"
     },
     "output_type": "display_data"
    },
    {
     "data": {
      "image/png": "[encoded data removed]",
      "text/plain": [
       "<Figure size 583.2x360 with 9 Axes>"
      ]
     },
     "metadata": {
      "needs_background": "light"
     },
     "output_type": "display_data"
    }
   ],
   "source": [
    "cctsr = featFetcher.cctsr['conv5_3'].numpy()\n",
    "Ttsr = featFetcher.Ttsr['conv5_3'].numpy()\n",
    "rect_mode = \"Tthresh\"; thresh = (-2, 2)\n",
    "bdr = 1; NF = 3\n",
    "Hmat, Hmaps, ccfactor, FactStat = tsr_posneg_factorize(rectify_tsr(cctsr, rect_mode, thresh, Ttsr=Ttsr),\n",
    "                     bdr=bdr, Nfactor=NF, show=True,)"
   ]
  },
  {
   "cell_type": "code",
   "execution_count": 32,
   "id": "befb872e",
   "metadata": {},
   "outputs": [
    {
     "name": "stdout",
     "output_type": "stream",
     "text": [
      "Sparsity after T threshold 0.002\n",
      "NMF explained variance 0.423\n",
      "Factor0 norm 0.41\n",
      "Factor1 norm 0.52\n",
      "Factor2 norm 0.40\n",
      "Factor3 norm 0.31\n",
      "Factor4 norm 0.27\n",
      "Correlation to the corr coef tensor 0.816\n"
     ]
    },
    {
     "name": "stderr",
     "output_type": "stream",
     "text": [
      "C:\\ProgramData\\Anaconda3\\lib\\site-packages\\ipykernel\\ipkernel.py:287: DeprecationWarning: `should_run_async` will not call `transform_cell` automatically in the future. Please pass the result to `transformed_cell` argument and any exception that happen during thetransform in `preprocessing_exc_tuple` in IPython 7.17 and above.\n",
      "  and should_run_async(code)\n"
     ]
    },
    {
     "data": {
      "image/png": "[encoded data removed]",
      "text/plain": [
       "<Figure size 432x288 with 1 Axes>"
      ]
     },
     "metadata": {
      "needs_background": "light"
     },
     "output_type": "display_data"
    },
    {
     "data": {
      "image/png": "[encoded data removed]",
      "text/plain": [
       "<Figure size 972x360 with 15 Axes>"
      ]
     },
     "metadata": {
      "needs_background": "light"
     },
     "output_type": "display_data"
    }
   ],
   "source": [
    "cctsr = featFetcher.cctsr['conv5_3'].numpy()\n",
    "Ttsr = featFetcher.Ttsr['conv5_3'].numpy()\n",
    "rect_mode = \"Tthresh\"; thresh = (None, 5)\n",
    "bdr = 1; NF = 5\n",
    "Hmat, Hmaps, ccfactor, FactStat = tsr_posneg_factorize(rectify_tsr(cctsr, rect_mode, thresh, Ttsr=Ttsr),\n",
    "                     bdr=bdr, Nfactor=NF, show=True,)"
   ]
  },
  {
   "cell_type": "code",
   "execution_count": 21,
   "id": "71af37ae",
   "metadata": {},
   "outputs": [
    {
     "name": "stdout",
     "output_type": "stream",
     "text": [
      "Sparsity after T threshold 0.176\n",
      "NMF explained variance 0.251\n",
      "Factor0 norm 1.71\n",
      "Factor1 norm 1.39\n",
      "Factor2 norm 1.27\n",
      "Predictability of the corr coef tensor 0.675\n"
     ]
    },
    {
     "name": "stderr",
     "output_type": "stream",
     "text": [
      "C:\\ProgramData\\Anaconda3\\lib\\site-packages\\ipykernel\\ipkernel.py:287: DeprecationWarning: `should_run_async` will not call `transform_cell` automatically in the future. Please pass the result to `transformed_cell` argument and any exception that happen during thetransform in `preprocessing_exc_tuple` in IPython 7.17 and above.\n",
      "  and should_run_async(code)\n"
     ]
    },
    {
     "data": {
      "image/png": "[encoded data removed]",
      "text/plain": [
       "<Figure size 432x288 with 1 Axes>"
      ]
     },
     "metadata": {
      "needs_background": "light"
     },
     "output_type": "display_data"
    },
    {
     "data": {
      "image/png": "[encoded data removed]",
      "text/plain": [
       "<Figure size 583.2x360 with 12 Axes>"
      ]
     },
     "metadata": {
      "needs_background": "light"
     },
     "output_type": "display_data"
    },
    {
     "data": {
      "text/plain": [
       "(array([[0.03030812, 0.        , 0.00832545],\n",
       "        [0.06367926, 0.        , 0.0087316 ],\n",
       "        [0.10006683, 0.        , 0.01544208],\n",
       "        [0.11481267, 0.        , 0.00932776],\n",
       "        [0.09822372, 0.01378551, 0.00396773],\n",
       "        [0.05398016, 0.03415877, 0.00999234],\n",
       "        [0.031721  , 0.06534392, 0.00893798],\n",
       "        [0.01378691, 0.0923235 , 0.00161012],\n",
       "        [0.00805533, 0.1344424 , 0.        ],\n",
       "        [0.00522628, 0.14699627, 0.        ],\n",
       "        [0.00370796, 0.13073067, 0.00173703],\n",
       "        [0.        , 0.09853644, 0.01692281],\n",
       "        [0.01081227, 0.10905803, 0.04842342],\n",
       "        [0.04898953, 0.15549722, 0.08275552],\n",
       "        [0.04312215, 0.        , 0.        ],\n",
       "        [0.07880486, 0.        , 0.        ],\n",
       "        [0.11644247, 0.        , 0.        ],\n",
       "        [0.1205911 , 0.        , 0.        ],\n",
       "        [0.06866397, 0.00794371, 0.        ],\n",
       "        [0.01289567, 0.02098927, 0.        ],\n",
       "        [0.00339149, 0.03996951, 0.        ],\n",
       "        [0.00091814, 0.09733552, 0.        ],\n",
       "        [0.02085244, 0.20634659, 0.        ],\n",
       "        [0.02140819, 0.23845176, 0.        ],\n",
       "        [0.        , 0.1847606 , 0.        ],\n",
       "        [0.        , 0.1071502 , 0.        ],\n",
       "        [0.        , 0.10589433, 0.        ],\n",
       "        [0.        , 0.16398962, 0.03547549],\n",
       "        [0.08152181, 0.        , 0.        ],\n",
       "        [0.12742564, 0.        , 0.        ],\n",
       "        [0.19322945, 0.        , 0.        ],\n",
       "        [0.19287753, 0.        , 0.        ],\n",
       "        [0.11555969, 0.02457535, 0.        ],\n",
       "        [0.02149121, 0.02548176, 0.        ],\n",
       "        [0.00544276, 0.04169551, 0.        ],\n",
       "        [0.00879957, 0.11737728, 0.        ],\n",
       "        [0.0589477 , 0.28028926, 0.        ],\n",
       "        [0.06993924, 0.34758738, 0.        ],\n",
       "        [0.        , 0.26743105, 0.        ],\n",
       "        [0.        , 0.15451823, 0.        ],\n",
       "        [0.        , 0.13758461, 0.        ],\n",
       "        [0.        , 0.20841104, 0.0138057 ],\n",
       "        [0.12030979, 0.        , 0.        ],\n",
       "        [0.15423618, 0.        , 0.        ],\n",
       "        [0.21766219, 0.        , 0.        ],\n",
       "        [0.22892427, 0.00887898, 0.        ],\n",
       "        [0.181478  , 0.04251862, 0.        ],\n",
       "        [0.04916224, 0.04990104, 0.        ],\n",
       "        [0.01711549, 0.06241615, 0.        ],\n",
       "        [0.00867113, 0.13169715, 0.        ],\n",
       "        [0.02990592, 0.28674424, 0.        ],\n",
       "        [0.04869715, 0.3777495 , 0.01197377],\n",
       "        [0.        , 0.3271853 , 0.0256259 ],\n",
       "        [0.        , 0.22481386, 0.01654528],\n",
       "        [0.        , 0.197447  , 0.0292507 ],\n",
       "        [0.        , 0.28039476, 0.02927086],\n",
       "        [0.14268582, 0.        , 0.00611153],\n",
       "        [0.18057027, 0.        , 0.0009017 ],\n",
       "        [0.25216496, 0.00105859, 0.        ],\n",
       "        [0.25154877, 0.02890128, 0.        ],\n",
       "        [0.22866067, 0.06686904, 0.01962276],\n",
       "        [0.07813983, 0.0754329 , 0.0078936 ],\n",
       "        [0.02124777, 0.05395105, 0.02322866],\n",
       "        [0.        , 0.08448401, 0.04074226],\n",
       "        [0.        , 0.16899116, 0.09075902],\n",
       "        [0.0023138 , 0.2372491 , 0.16697542],\n",
       "        [0.        , 0.24310704, 0.15425345],\n",
       "        [0.        , 0.2018872 , 0.09140653],\n",
       "        [0.        , 0.18336183, 0.05502477],\n",
       "        [0.        , 0.2330845 , 0.04446599],\n",
       "        [0.17673524, 0.        , 0.008176  ],\n",
       "        [0.23550673, 0.        , 0.        ],\n",
       "        [0.28438267, 0.00832161, 0.        ],\n",
       "        [0.23505048, 0.03303995, 0.        ],\n",
       "        [0.20294748, 0.05799078, 0.04727591],\n",
       "        [0.07330512, 0.05870151, 0.04235137],\n",
       "        [0.01261041, 0.03120842, 0.05998024],\n",
       "        [0.        , 0.02978226, 0.08832933],\n",
       "        [0.        , 0.0416453 , 0.18894614],\n",
       "        [0.        , 0.07731449, 0.3163625 ],\n",
       "        [0.        , 0.09211911, 0.30762523],\n",
       "        [0.        , 0.08663238, 0.20053853],\n",
       "        [0.        , 0.09668318, 0.11344791],\n",
       "        [0.        , 0.13482197, 0.11488299],\n",
       "        [0.21812293, 0.        , 0.01379983],\n",
       "        [0.27475998, 0.        , 0.01062398],\n",
       "        [0.25876662, 0.00704659, 0.        ],\n",
       "        [0.15880476, 0.02185396, 0.00242955],\n",
       "        [0.10166079, 0.03107718, 0.03698698],\n",
       "        [0.0328666 , 0.02768196, 0.05248794],\n",
       "        [0.00270122, 0.00302353, 0.0567463 ],\n",
       "        [0.        , 0.        , 0.07623998],\n",
       "        [0.        , 0.        , 0.18410477],\n",
       "        [0.        , 0.        , 0.31915644],\n",
       "        [0.        , 0.        , 0.35317853],\n",
       "        [0.        , 0.01005442, 0.25828028],\n",
       "        [0.        , 0.019662  , 0.16039409],\n",
       "        [0.00641785, 0.04597932, 0.16968338],\n",
       "        [0.19142966, 0.        , 0.02960552],\n",
       "        [0.20503084, 0.        , 0.02136925],\n",
       "        [0.1470924 , 0.        , 0.00233122],\n",
       "        [0.07881106, 0.00473173, 0.00170151],\n",
       "        [0.05257139, 0.01091413, 0.01361211],\n",
       "        [0.03042397, 0.00635136, 0.02699709],\n",
       "        [0.00955044, 0.        , 0.03662313],\n",
       "        [0.01086326, 0.        , 0.06300657],\n",
       "        [0.02289649, 0.        , 0.14057368],\n",
       "        [0.01086509, 0.        , 0.27560195],\n",
       "        [0.        , 0.        , 0.36525464],\n",
       "        [0.        , 0.        , 0.317525  ],\n",
       "        [0.        , 0.        , 0.24563584],\n",
       "        [0.02029359, 0.        , 0.20257515],\n",
       "        [0.08624807, 0.        , 0.01935965],\n",
       "        [0.09363549, 0.        , 0.02076778],\n",
       "        [0.07126062, 0.        , 0.        ],\n",
       "        [0.05505544, 0.        , 0.00171858],\n",
       "        [0.04990659, 0.0123513 , 0.00555742],\n",
       "        [0.04023305, 0.        , 0.01530935],\n",
       "        [0.01983869, 0.        , 0.02073601],\n",
       "        [0.04022469, 0.        , 0.04349146],\n",
       "        [0.09438463, 0.        , 0.12116147],\n",
       "        [0.08180165, 0.        , 0.20589723],\n",
       "        [0.01913471, 0.        , 0.27893478],\n",
       "        [0.00184428, 0.        , 0.26238254],\n",
       "        [0.01903635, 0.        , 0.26947314],\n",
       "        [0.04341162, 0.        , 0.23283106],\n",
       "        [0.04582863, 0.        , 0.02225797],\n",
       "        [0.03239869, 0.        , 0.014033  ],\n",
       "        [0.02328887, 0.        , 0.01514169],\n",
       "        [0.0303816 , 0.009325  , 0.00478726],\n",
       "        [0.03822454, 0.00942722, 0.00543404],\n",
       "        [0.02638442, 0.        , 0.01576846],\n",
       "        [0.01933432, 0.        , 0.0013376 ],\n",
       "        [0.04158109, 0.        , 0.0203982 ],\n",
       "        [0.1077507 , 0.        , 0.0590537 ],\n",
       "        [0.0856136 , 0.        , 0.09238367],\n",
       "        [0.01456471, 0.        , 0.11199934],\n",
       "        [0.00803571, 0.        , 0.13774247],\n",
       "        [0.01723445, 0.        , 0.19781195],\n",
       "        [0.0514005 , 0.00129009, 0.17506187],\n",
       "        [0.03955474, 0.00782931, 0.02634466],\n",
       "        [0.02207396, 0.01038503, 0.01893696],\n",
       "        [0.01108185, 0.01264165, 0.01169077],\n",
       "        [0.00630012, 0.02189761, 0.01156479],\n",
       "        [0.01076067, 0.0238562 , 0.00541137],\n",
       "        [0.00598814, 0.0163463 , 0.00549683],\n",
       "        [0.00855554, 0.        , 0.00223935],\n",
       "        [0.02052549, 0.        , 0.00942044],\n",
       "        [0.05805698, 0.01419261, 0.03413664],\n",
       "        [0.05428599, 0.00538003, 0.05965044],\n",
       "        [0.00537025, 0.00422714, 0.05510423],\n",
       "        [0.        , 0.01490476, 0.05278714],\n",
       "        [0.        , 0.02060986, 0.06817674],\n",
       "        [0.        , 0.02809264, 0.05172345],\n",
       "        [0.04732794, 0.00398936, 0.05467363],\n",
       "        [0.03280785, 0.0128338 , 0.03336421],\n",
       "        [0.01423746, 0.01268124, 0.02193562],\n",
       "        [0.00591735, 0.03096498, 0.01583422],\n",
       "        [0.00701079, 0.0362461 , 0.01219814],\n",
       "        [0.00617744, 0.03423983, 0.01098606],\n",
       "        [0.00937312, 0.03183484, 0.00309438],\n",
       "        [0.01478714, 0.02653993, 0.        ],\n",
       "        [0.02287796, 0.03048635, 0.02753802],\n",
       "        [0.02709663, 0.02779656, 0.04401904],\n",
       "        [0.00318593, 0.02121619, 0.04527809],\n",
       "        [0.        , 0.03133161, 0.03113644],\n",
       "        [0.        , 0.04384514, 0.0324981 ],\n",
       "        [0.        , 0.04694548, 0.01657599],\n",
       "        [0.02672408, 0.00146465, 0.04683966],\n",
       "        [0.02484185, 0.01149038, 0.0421098 ],\n",
       "        [0.00992486, 0.01011927, 0.02066191],\n",
       "        [0.00637249, 0.01383834, 0.01215662],\n",
       "        [0.00601834, 0.03554743, 0.00875739],\n",
       "        [0.01461501, 0.04050737, 0.        ],\n",
       "        [0.02114995, 0.05998479, 0.        ],\n",
       "        [0.02587388, 0.06885139, 0.00348231],\n",
       "        [0.02073759, 0.07381215, 0.00841916],\n",
       "        [0.02065661, 0.06856494, 0.03462115],\n",
       "        [0.00936904, 0.0616696 , 0.04389627],\n",
       "        [0.00517435, 0.05699291, 0.02507564],\n",
       "        [0.00754793, 0.0826083 , 0.00985252],\n",
       "        [0.00402115, 0.08623181, 0.        ],\n",
       "        [0.03971885, 0.        , 0.07175285],\n",
       "        [0.0356656 , 0.00266011, 0.0631168 ],\n",
       "        [0.01802918, 0.00853349, 0.02997973],\n",
       "        [0.00951153, 0.0160805 , 0.00992458],\n",
       "        [0.01356041, 0.02869325, 0.00559764],\n",
       "        [0.02258623, 0.04593286, 0.        ],\n",
       "        [0.02320589, 0.05446769, 0.        ],\n",
       "        [0.01697015, 0.04740438, 0.        ],\n",
       "        [0.        , 0.04934515, 0.        ],\n",
       "        [0.00578869, 0.05004349, 0.0041775 ],\n",
       "        [0.00815511, 0.0562463 , 0.01648766],\n",
       "        [0.00924564, 0.07170346, 0.01604346],\n",
       "        [0.0209989 , 0.10106605, 0.01205822],\n",
       "        [0.01690658, 0.10011704, 0.00735128]], dtype=float32),\n",
       " array([[[0.03030812, 0.        , 0.00832545],\n",
       "         [0.06367926, 0.        , 0.0087316 ],\n",
       "         [0.10006683, 0.        , 0.01544208],\n",
       "         [0.11481267, 0.        , 0.00932776],\n",
       "         [0.09822372, 0.01378551, 0.00396773],\n",
       "         [0.05398016, 0.03415877, 0.00999234],\n",
       "         [0.031721  , 0.06534392, 0.00893798],\n",
       "         [0.01378691, 0.0923235 , 0.00161012],\n",
       "         [0.00805533, 0.1344424 , 0.        ],\n",
       "         [0.00522628, 0.14699627, 0.        ],\n",
       "         [0.00370796, 0.13073067, 0.00173703],\n",
       "         [0.        , 0.09853644, 0.01692281],\n",
       "         [0.01081227, 0.10905803, 0.04842342],\n",
       "         [0.04898953, 0.15549722, 0.08275552]],\n",
       " \n",
       "        [[0.04312215, 0.        , 0.        ],\n",
       "         [0.07880486, 0.        , 0.        ],\n",
       "         [0.11644247, 0.        , 0.        ],\n",
       "         [0.1205911 , 0.        , 0.        ],\n",
       "         [0.06866397, 0.00794371, 0.        ],\n",
       "         [0.01289567, 0.02098927, 0.        ],\n",
       "         [0.00339149, 0.03996951, 0.        ],\n",
       "         [0.00091814, 0.09733552, 0.        ],\n",
       "         [0.02085244, 0.20634659, 0.        ],\n",
       "         [0.02140819, 0.23845176, 0.        ],\n",
       "         [0.        , 0.1847606 , 0.        ],\n",
       "         [0.        , 0.1071502 , 0.        ],\n",
       "         [0.        , 0.10589433, 0.        ],\n",
       "         [0.        , 0.16398962, 0.03547549]],\n",
       " \n",
       "        [[0.08152181, 0.        , 0.        ],\n",
       "         [0.12742564, 0.        , 0.        ],\n",
       "         [0.19322945, 0.        , 0.        ],\n",
       "         [0.19287753, 0.        , 0.        ],\n",
       "         [0.11555969, 0.02457535, 0.        ],\n",
       "         [0.02149121, 0.02548176, 0.        ],\n",
       "         [0.00544276, 0.04169551, 0.        ],\n",
       "         [0.00879957, 0.11737728, 0.        ],\n",
       "         [0.0589477 , 0.28028926, 0.        ],\n",
       "         [0.06993924, 0.34758738, 0.        ],\n",
       "         [0.        , 0.26743105, 0.        ],\n",
       "         [0.        , 0.15451823, 0.        ],\n",
       "         [0.        , 0.13758461, 0.        ],\n",
       "         [0.        , 0.20841104, 0.0138057 ]],\n",
       " \n",
       "        [[0.12030979, 0.        , 0.        ],\n",
       "         [0.15423618, 0.        , 0.        ],\n",
       "         [0.21766219, 0.        , 0.        ],\n",
       "         [0.22892427, 0.00887898, 0.        ],\n",
       "         [0.181478  , 0.04251862, 0.        ],\n",
       "         [0.04916224, 0.04990104, 0.        ],\n",
       "         [0.01711549, 0.06241615, 0.        ],\n",
       "         [0.00867113, 0.13169715, 0.        ],\n",
       "         [0.02990592, 0.28674424, 0.        ],\n",
       "         [0.04869715, 0.3777495 , 0.01197377],\n",
       "         [0.        , 0.3271853 , 0.0256259 ],\n",
       "         [0.        , 0.22481386, 0.01654528],\n",
       "         [0.        , 0.197447  , 0.0292507 ],\n",
       "         [0.        , 0.28039476, 0.02927086]],\n",
       " \n",
       "        [[0.14268582, 0.        , 0.00611153],\n",
       "         [0.18057027, 0.        , 0.0009017 ],\n",
       "         [0.25216496, 0.00105859, 0.        ],\n",
       "         [0.25154877, 0.02890128, 0.        ],\n",
       "         [0.22866067, 0.06686904, 0.01962276],\n",
       "         [0.07813983, 0.0754329 , 0.0078936 ],\n",
       "         [0.02124777, 0.05395105, 0.02322866],\n",
       "         [0.        , 0.08448401, 0.04074226],\n",
       "         [0.        , 0.16899116, 0.09075902],\n",
       "         [0.0023138 , 0.2372491 , 0.16697542],\n",
       "         [0.        , 0.24310704, 0.15425345],\n",
       "         [0.        , 0.2018872 , 0.09140653],\n",
       "         [0.        , 0.18336183, 0.05502477],\n",
       "         [0.        , 0.2330845 , 0.04446599]],\n",
       " \n",
       "        [[0.17673524, 0.        , 0.008176  ],\n",
       "         [0.23550673, 0.        , 0.        ],\n",
       "         [0.28438267, 0.00832161, 0.        ],\n",
       "         [0.23505048, 0.03303995, 0.        ],\n",
       "         [0.20294748, 0.05799078, 0.04727591],\n",
       "         [0.07330512, 0.05870151, 0.04235137],\n",
       "         [0.01261041, 0.03120842, 0.05998024],\n",
       "         [0.        , 0.02978226, 0.08832933],\n",
       "         [0.        , 0.0416453 , 0.18894614],\n",
       "         [0.        , 0.07731449, 0.3163625 ],\n",
       "         [0.        , 0.09211911, 0.30762523],\n",
       "         [0.        , 0.08663238, 0.20053853],\n",
       "         [0.        , 0.09668318, 0.11344791],\n",
       "         [0.        , 0.13482197, 0.11488299]],\n",
       " \n",
       "        [[0.21812293, 0.        , 0.01379983],\n",
       "         [0.27475998, 0.        , 0.01062398],\n",
       "         [0.25876662, 0.00704659, 0.        ],\n",
       "         [0.15880476, 0.02185396, 0.00242955],\n",
       "         [0.10166079, 0.03107718, 0.03698698],\n",
       "         [0.0328666 , 0.02768196, 0.05248794],\n",
       "         [0.00270122, 0.00302353, 0.0567463 ],\n",
       "         [0.        , 0.        , 0.07623998],\n",
       "         [0.        , 0.        , 0.18410477],\n",
       "         [0.        , 0.        , 0.31915644],\n",
       "         [0.        , 0.        , 0.35317853],\n",
       "         [0.        , 0.01005442, 0.25828028],\n",
       "         [0.        , 0.019662  , 0.16039409],\n",
       "         [0.00641785, 0.04597932, 0.16968338]],\n",
       " \n",
       "        [[0.19142966, 0.        , 0.02960552],\n",
       "         [0.20503084, 0.        , 0.02136925],\n",
       "         [0.1470924 , 0.        , 0.00233122],\n",
       "         [0.07881106, 0.00473173, 0.00170151],\n",
       "         [0.05257139, 0.01091413, 0.01361211],\n",
       "         [0.03042397, 0.00635136, 0.02699709],\n",
       "         [0.00955044, 0.        , 0.03662313],\n",
       "         [0.01086326, 0.        , 0.06300657],\n",
       "         [0.02289649, 0.        , 0.14057368],\n",
       "         [0.01086509, 0.        , 0.27560195],\n",
       "         [0.        , 0.        , 0.36525464],\n",
       "         [0.        , 0.        , 0.317525  ],\n",
       "         [0.        , 0.        , 0.24563584],\n",
       "         [0.02029359, 0.        , 0.20257515]],\n",
       " \n",
       "        [[0.08624807, 0.        , 0.01935965],\n",
       "         [0.09363549, 0.        , 0.02076778],\n",
       "         [0.07126062, 0.        , 0.        ],\n",
       "         [0.05505544, 0.        , 0.00171858],\n",
       "         [0.04990659, 0.0123513 , 0.00555742],\n",
       "         [0.04023305, 0.        , 0.01530935],\n",
       "         [0.01983869, 0.        , 0.02073601],\n",
       "         [0.04022469, 0.        , 0.04349146],\n",
       "         [0.09438463, 0.        , 0.12116147],\n",
       "         [0.08180165, 0.        , 0.20589723],\n",
       "         [0.01913471, 0.        , 0.27893478],\n",
       "         [0.00184428, 0.        , 0.26238254],\n",
       "         [0.01903635, 0.        , 0.26947314],\n",
       "         [0.04341162, 0.        , 0.23283106]],\n",
       " \n",
       "        [[0.04582863, 0.        , 0.02225797],\n",
       "         [0.03239869, 0.        , 0.014033  ],\n",
       "         [0.02328887, 0.        , 0.01514169],\n",
       "         [0.0303816 , 0.009325  , 0.00478726],\n",
       "         [0.03822454, 0.00942722, 0.00543404],\n",
       "         [0.02638442, 0.        , 0.01576846],\n",
       "         [0.01933432, 0.        , 0.0013376 ],\n",
       "         [0.04158109, 0.        , 0.0203982 ],\n",
       "         [0.1077507 , 0.        , 0.0590537 ],\n",
       "         [0.0856136 , 0.        , 0.09238367],\n",
       "         [0.01456471, 0.        , 0.11199934],\n",
       "         [0.00803571, 0.        , 0.13774247],\n",
       "         [0.01723445, 0.        , 0.19781195],\n",
       "         [0.0514005 , 0.00129009, 0.17506187]],\n",
       " \n",
       "        [[0.03955474, 0.00782931, 0.02634466],\n",
       "         [0.02207396, 0.01038503, 0.01893696],\n",
       "         [0.01108185, 0.01264165, 0.01169077],\n",
       "         [0.00630012, 0.02189761, 0.01156479],\n",
       "         [0.01076067, 0.0238562 , 0.00541137],\n",
       "         [0.00598814, 0.0163463 , 0.00549683],\n",
       "         [0.00855554, 0.        , 0.00223935],\n",
       "         [0.02052549, 0.        , 0.00942044],\n",
       "         [0.05805698, 0.01419261, 0.03413664],\n",
       "         [0.05428599, 0.00538003, 0.05965044],\n",
       "         [0.00537025, 0.00422714, 0.05510423],\n",
       "         [0.        , 0.01490476, 0.05278714],\n",
       "         [0.        , 0.02060986, 0.06817674],\n",
       "         [0.        , 0.02809264, 0.05172345]],\n",
       " \n",
       "        [[0.04732794, 0.00398936, 0.05467363],\n",
       "         [0.03280785, 0.0128338 , 0.03336421],\n",
       "         [0.01423746, 0.01268124, 0.02193562],\n",
       "         [0.00591735, 0.03096498, 0.01583422],\n",
       "         [0.00701079, 0.0362461 , 0.01219814],\n",
       "         [0.00617744, 0.03423983, 0.01098606],\n",
       "         [0.00937312, 0.03183484, 0.00309438],\n",
       "         [0.01478714, 0.02653993, 0.        ],\n",
       "         [0.02287796, 0.03048635, 0.02753802],\n",
       "         [0.02709663, 0.02779656, 0.04401904],\n",
       "         [0.00318593, 0.02121619, 0.04527809],\n",
       "         [0.        , 0.03133161, 0.03113644],\n",
       "         [0.        , 0.04384514, 0.0324981 ],\n",
       "         [0.        , 0.04694548, 0.01657599]],\n",
       " \n",
       "        [[0.02672408, 0.00146465, 0.04683966],\n",
       "         [0.02484185, 0.01149038, 0.0421098 ],\n",
       "         [0.00992486, 0.01011927, 0.02066191],\n",
       "         [0.00637249, 0.01383834, 0.01215662],\n",
       "         [0.00601834, 0.03554743, 0.00875739],\n",
       "         [0.01461501, 0.04050737, 0.        ],\n",
       "         [0.02114995, 0.05998479, 0.        ],\n",
       "         [0.02587388, 0.06885139, 0.00348231],\n",
       "         [0.02073759, 0.07381215, 0.00841916],\n",
       "         [0.02065661, 0.06856494, 0.03462115],\n",
       "         [0.00936904, 0.0616696 , 0.04389627],\n",
       "         [0.00517435, 0.05699291, 0.02507564],\n",
       "         [0.00754793, 0.0826083 , 0.00985252],\n",
       "         [0.00402115, 0.08623181, 0.        ]],\n",
       " \n",
       "        [[0.03971885, 0.        , 0.07175285],\n",
       "         [0.0356656 , 0.00266011, 0.0631168 ],\n",
       "         [0.01802918, 0.00853349, 0.02997973],\n",
       "         [0.00951153, 0.0160805 , 0.00992458],\n",
       "         [0.01356041, 0.02869325, 0.00559764],\n",
       "         [0.02258623, 0.04593286, 0.        ],\n",
       "         [0.02320589, 0.05446769, 0.        ],\n",
       "         [0.01697015, 0.04740438, 0.        ],\n",
       "         [0.        , 0.04934515, 0.        ],\n",
       "         [0.00578869, 0.05004349, 0.0041775 ],\n",
       "         [0.00815511, 0.0562463 , 0.01648766],\n",
       "         [0.00924564, 0.07170346, 0.01604346],\n",
       "         [0.0209989 , 0.10106605, 0.01205822],\n",
       "         [0.01690658, 0.10011704, 0.00735128]]], dtype=float32),\n",
       " array([[0.02845921, 0.00359868, 0.03099951, ..., 0.05092896, 0.04886395,\n",
       "         0.        ],\n",
       "        [0.        , 0.06027791, 0.01323452, ..., 0.16590932, 0.        ,\n",
       "         0.        ],\n",
       "        [0.        , 0.        , 0.00367365, ..., 0.        , 0.00273921,\n",
       "         0.14357083]], dtype=float32),\n",
       " array([[ 0.09372141, -0.12144691, -0.29172128],\n",
       "        [-0.06606501,  0.09223361, -0.17889147],\n",
       "        [ 0.02040406, -0.02276113, -0.10600489],\n",
       "        ...,\n",
       "        [ 0.05543966,  0.21353757, -0.33786255],\n",
       "        [ 0.08126586, -0.1502865 , -0.17098862],\n",
       "        [-0.116469  , -0.15948133,  0.18151379]], dtype=float32),\n",
       " {'reg_cc': 0.6751930423491609,\n",
       "  'fact_norms': [1.7104173, 1.3867855, 1.2679265],\n",
       "  'exp_var': 0.25054842233657837,\n",
       "  'C': 512,\n",
       "  'H': 16,\n",
       "  'W': 16,\n",
       "  'bdr': 1,\n",
       "  'Nfactor': 3,\n",
       "  'init': 'nndsvda',\n",
       "  'solver': 'cd'})"
      ]
     },
     "execution_count": 21,
     "metadata": {},
     "output_type": "execute_result"
    }
   ],
   "source": [
    "Ctsr = rectify_tsr(featFetcher.cctsr['conv5_3'].numpy(), mode=\"Tthresh\", Ttsr=featFetcher.Ttsr['conv5_3'].numpy(), thr=(None,1))\n",
    "tsr_factorize(Ttsr_pp=Ctsr, \\\n",
    "              cctsr=featFetcher.cctsr['conv5_3'].numpy(),bdr=1)"
   ]
  },
  {
   "cell_type": "code",
   "execution_count": 61,
   "id": "e9e5c7c5",
   "metadata": {},
   "outputs": [
    {
     "name": "stderr",
     "output_type": "stream",
     "text": [
      "C:\\ProgramData\\Anaconda3\\lib\\site-packages\\ipykernel\\ipkernel.py:287: DeprecationWarning: `should_run_async` will not call `transform_cell` automatically in the future. Please pass the result to `transformed_cell` argument and any exception that happen during thetransform in `preprocessing_exc_tuple` in IPython 7.17 and above.\n",
      "  and should_run_async(code)\n"
     ]
    },
    {
     "data": {
      "image/png": "[encoded data removed]",
      "text/plain": [
       "<Figure size 432x288 with 2 Axes>"
      ]
     },
     "metadata": {
      "needs_background": "light"
     },
     "output_type": "display_data"
    }
   ],
   "source": [
    "plt.imshow(featFetcher.cctsr['conv5_3'].abs().mean(dim=0))\n",
    "plt.colorbar()\n",
    "plt.show()"
   ]
  },
  {
   "cell_type": "code",
   "execution_count": 134,
   "id": "81ecc7f7",
   "metadata": {},
   "outputs": [
    {
     "name": "stdout",
     "output_type": "stream",
     "text": [
      "Sparsity after T threshold 0.343\n"
     ]
    },
    {
     "name": "stderr",
     "output_type": "stream",
     "text": [
      "C:\\ProgramData\\Anaconda3\\lib\\site-packages\\ipykernel\\ipkernel.py:287: DeprecationWarning: `should_run_async` will not call `transform_cell` automatically in the future. Please pass the result to `transformed_cell` argument and any exception that happen during thetransform in `preprocessing_exc_tuple` in IPython 7.17 and above.\n",
      "  and should_run_async(code)\n"
     ]
    }
   ],
   "source": [
    "cctsr_rect = rectify_tsr(featFetcher.cctsr['conv5_3'].numpy(),mode=\"Tthresh\",thr=(-1,1),Ttsr=featFetcher.Ttsr['conv5_3'].numpy())"
   ]
  },
  {
   "cell_type": "code",
   "execution_count": 137,
   "id": "eeeb4b6e",
   "metadata": {},
   "outputs": [
    {
     "name": "stderr",
     "output_type": "stream",
     "text": [
      "C:\\ProgramData\\Anaconda3\\lib\\site-packages\\ipykernel\\ipkernel.py:287: DeprecationWarning: `should_run_async` will not call `transform_cell` automatically in the future. Please pass the result to `transformed_cell` argument and any exception that happen during thetransform in `preprocessing_exc_tuple` in IPython 7.17 and above.\n",
      "  and should_run_async(code)\n"
     ]
    },
    {
     "data": {
      "image/png": "[encoded data removed]",
      "text/plain": [
       "<Figure size 432x288 with 2 Axes>"
      ]
     },
     "metadata": {
      "needs_background": "light"
     },
     "output_type": "display_data"
    }
   ],
   "source": [
    "plt.imshow(featFetcher.cctsr['conv5_3'].abs().mean(axis=0))\n",
    "plt.colorbar()\n",
    "plt.show()"
   ]
  },
  {
   "cell_type": "code",
   "execution_count": 138,
   "id": "b1850322",
   "metadata": {},
   "outputs": [
    {
     "name": "stderr",
     "output_type": "stream",
     "text": [
      "C:\\ProgramData\\Anaconda3\\lib\\site-packages\\ipykernel\\ipkernel.py:287: DeprecationWarning: `should_run_async` will not call `transform_cell` automatically in the future. Please pass the result to `transformed_cell` argument and any exception that happen during thetransform in `preprocessing_exc_tuple` in IPython 7.17 and above.\n",
      "  and should_run_async(code)\n"
     ]
    },
    {
     "data": {
      "image/png": "[encoded data removed]",
      "text/plain": [
       "<Figure size 432x288 with 2 Axes>"
      ]
     },
     "metadata": {
      "needs_background": "light"
     },
     "output_type": "display_data"
    }
   ],
   "source": [
    "plt.imshow(np.abs(cctsr_rect).mean(axis=0))\n",
    "plt.colorbar()\n",
    "plt.show()"
   ]
  },
  {
   "cell_type": "code",
   "execution_count": 146,
   "id": "3661eaf5",
   "metadata": {
    "scrolled": true
   },
   "outputs": [
    {
     "name": "stderr",
     "output_type": "stream",
     "text": [
      "C:\\ProgramData\\Anaconda3\\lib\\site-packages\\ipykernel\\ipkernel.py:287: DeprecationWarning: `should_run_async` will not call `transform_cell` automatically in the future. Please pass the result to `transformed_cell` argument and any exception that happen during thetransform in `preprocessing_exc_tuple` in IPython 7.17 and above.\n",
      "  and should_run_async(code)\n"
     ]
    },
    {
     "data": {
      "image/png": "[encoded data removed]",
      "text/plain": [
       "<Figure size 432x288 with 2 Axes>"
      ]
     },
     "metadata": {
      "needs_background": "light"
     },
     "output_type": "display_data"
    }
   ],
   "source": [
    "val,idx = featFetcher.cctsr['conv5_3'].max(dim=0)\n",
    "plt.imshow(val)\n",
    "plt.colorbar()\n",
    "plt.show()"
   ]
  },
  {
   "cell_type": "code",
   "execution_count": 118,
   "id": "03dd08af",
   "metadata": {},
   "outputs": [
    {
     "name": "stderr",
     "output_type": "stream",
     "text": [
      "C:\\ProgramData\\Anaconda3\\lib\\site-packages\\ipykernel\\ipkernel.py:287: DeprecationWarning: `should_run_async` will not call `transform_cell` automatically in the future. Please pass the result to `transformed_cell` argument and any exception that happen during thetransform in `preprocessing_exc_tuple` in IPython 7.17 and above.\n",
      "  and should_run_async(code)\n"
     ]
    },
    {
     "data": {
      "image/png": "[encoded data removed]",
      "text/plain": [
       "<Figure size 432x288 with 2 Axes>"
      ]
     },
     "metadata": {
      "needs_background": "light"
     },
     "output_type": "display_data"
    }
   ],
   "source": [
    "val,idx = featFetcher.cctsr['conv5_3'].max(dim=0)\n",
    "plt.imshow(val)\n",
    "plt.colorbar()\n",
    "plt.show()"
   ]
  },
  {
   "cell_type": "code",
   "execution_count": 69,
   "id": "0dbbf600",
   "metadata": {},
   "outputs": [
    {
     "name": "stderr",
     "output_type": "stream",
     "text": [
      "C:\\ProgramData\\Anaconda3\\lib\\site-packages\\ipykernel\\ipkernel.py:287: DeprecationWarning: `should_run_async` will not call `transform_cell` automatically in the future. Please pass the result to `transformed_cell` argument and any exception that happen during thetransform in `preprocessing_exc_tuple` in IPython 7.17 and above.\n",
      "  and should_run_async(code)\n"
     ]
    },
    {
     "data": {
      "image/png": "[encoded data removed]",
      "text/plain": [
       "<Figure size 432x288 with 2 Axes>"
      ]
     },
     "metadata": {
      "needs_background": "light"
     },
     "output_type": "display_data"
    }
   ],
   "source": [
    "val,idx = featFetcher.cctsr['conv5_3'].abs().max(dim=0)\n",
    "plt.imshow(val)\n",
    "plt.colorbar()\n",
    "plt.show()"
   ]
  },
  {
   "cell_type": "code",
   "execution_count": 71,
   "id": "626888c0",
   "metadata": {},
   "outputs": [
    {
     "name": "stderr",
     "output_type": "stream",
     "text": [
      "C:\\ProgramData\\Anaconda3\\lib\\site-packages\\ipykernel\\ipkernel.py:287: DeprecationWarning: `should_run_async` will not call `transform_cell` automatically in the future. Please pass the result to `transformed_cell` argument and any exception that happen during thetransform in `preprocessing_exc_tuple` in IPython 7.17 and above.\n",
      "  and should_run_async(code)\n"
     ]
    },
    {
     "data": {
      "text/plain": [
       "{'imgN': 4000,\n",
       " 'cctsr': {'conv2_2': array([[[-0.01262933, -0.00769246, -0.00312021, ...,  0.01272087,\n",
       "            0.01645167,  0.01181934],\n",
       "          [-0.0033672 ,  0.00152495,  0.00442768, ...,  0.00822709,\n",
       "            0.00865363,  0.01057853],\n",
       "          [ 0.00078087,  0.00316709, -0.00348765, ...,  0.00366532,\n",
       "            0.00415016,  0.00613826],\n",
       "          ...,\n",
       "          [ 0.00542094,  0.01222924,  0.01795257, ..., -0.01776813,\n",
       "           -0.00910671,  0.00239501],\n",
       "          [ 0.01767125,  0.01749677,  0.01680193, ..., -0.00779276,\n",
       "           -0.00275217,  0.00084066],\n",
       "          [ 0.0201048 ,  0.01087787, -0.00765633, ..., -0.0097335 ,\n",
       "           -0.00484536,  0.0010813 ]],\n",
       "  \n",
       "         [[ 0.00224432, -0.00847626,  0.0003935 , ...,  0.00930325,\n",
       "           -0.00676363, -0.0157921 ],\n",
       "          [-0.01406547, -0.01105892, -0.00281648, ...,  0.0036419 ,\n",
       "           -0.00988108, -0.01462524],\n",
       "          [-0.0187842 , -0.01224877, -0.0072025 , ...,  0.00371669,\n",
       "           -0.00222045, -0.00874543],\n",
       "          ...,\n",
       "          [ 0.00096153, -0.0184255 , -0.02923429, ..., -0.00400871,\n",
       "            0.03245302,  0.02136669],\n",
       "          [-0.02147281, -0.02600919, -0.03526702, ..., -0.00754397,\n",
       "            0.02162802,  0.00404503],\n",
       "          [-0.03125721, -0.02217127, -0.00835152, ..., -0.02142122,\n",
       "           -0.01469706, -0.03272688]],\n",
       "  \n",
       "         [[ 0.04240632,  0.00313789, -0.01258061, ..., -0.00953089,\n",
       "           -0.01736283, -0.03024919],\n",
       "          [ 0.01381065,  0.00403289, -0.02217017, ..., -0.00290001,\n",
       "            0.01983188,  0.02207   ],\n",
       "          [ 0.0147652 ,  0.00485966, -0.01685638, ..., -0.02045153,\n",
       "           -0.01180652,  0.00706046],\n",
       "          ...,\n",
       "          [ 0.02750257,  0.00617366,  0.01426303, ..., -0.03364802,\n",
       "            0.01005762,  0.01066614],\n",
       "          [ 0.02534218, -0.00426338, -0.05048281, ..., -0.02129055,\n",
       "            0.02900513,  0.00666364],\n",
       "          [ 0.04186643,  0.01073322, -0.02404597, ...,  0.01723429,\n",
       "            0.04878932,  0.01143821]],\n",
       "  \n",
       "         ...,\n",
       "  \n",
       "         [[ 0.01318467,  0.00826053,  0.00289854, ..., -0.01103983,\n",
       "           -0.00834596, -0.01748401],\n",
       "          [ 0.0066936 ,  0.00073316, -0.00346452, ..., -0.0064829 ,\n",
       "           -0.00058558, -0.00751661],\n",
       "          [ 0.00179598, -0.00610121, -0.00374742, ..., -0.00195479,\n",
       "            0.00257877, -0.0047033 ],\n",
       "          ...,\n",
       "          [-0.01488418, -0.02057172, -0.02130771, ..., -0.00261768,\n",
       "            0.00461085, -0.00366535],\n",
       "          [-0.02547821, -0.02319323, -0.02452   , ...,  0.00674243,\n",
       "            0.00563499, -0.00167632],\n",
       "          [-0.02402535, -0.01232863, -0.00375556, ...,  0.00511013,\n",
       "            0.00655167,  0.00210145]],\n",
       "  \n",
       "         [[-0.00526355, -0.03649899, -0.0204517 , ..., -0.00766149,\n",
       "            0.00030617, -0.005208  ],\n",
       "          [ 0.00101219, -0.02031895, -0.0121619 , ...,  0.00235665,\n",
       "            0.03563007,  0.01946368],\n",
       "          [ 0.01091638, -0.00274851, -0.00300608, ...,  0.02059889,\n",
       "            0.02802711,  0.01546037],\n",
       "          ...,\n",
       "          [-0.02176443, -0.02438733, -0.02286721, ...,  0.00584668,\n",
       "            0.00412628,  0.00230051],\n",
       "          [-0.02400878, -0.02135741, -0.01794435, ...,  0.00990478,\n",
       "            0.00837515,  0.00364324],\n",
       "          [-0.03621593, -0.02620812, -0.0212121 , ...,  0.00703588,\n",
       "            0.01317594,  0.00570237]],\n",
       "  \n",
       "         [[-0.00454789,  0.00983026, -0.02394083, ..., -0.01932278,\n",
       "            0.00399424,  0.00604436],\n",
       "          [-0.00674929,  0.01621877,  0.02850649, ...,  0.00274208,\n",
       "            0.00174965, -0.01024218],\n",
       "          [ 0.00405152, -0.00174354, -0.00536609, ...,  0.00098014,\n",
       "           -0.02138958, -0.01124717],\n",
       "          ...,\n",
       "          [ 0.03544063,  0.03862871,  0.03935902, ..., -0.03805901,\n",
       "           -0.03573767, -0.02761934],\n",
       "          [ 0.01831755,  0.03579672,  0.03502891, ...,  0.02310822,\n",
       "           -0.00620168,  0.00219588],\n",
       "          [-0.00737213,  0.00562349,  0.00971018, ...,  0.0070566 ,\n",
       "           -0.01883047, -0.02532171]]], dtype=float32),\n",
       "  'conv3_3': array([[[ 0.00221731, -0.00286544,  0.00271624, ..., -0.00406871,\n",
       "           -0.00023986, -0.01595851],\n",
       "          [ 0.00908693,  0.01084165,  0.02097572, ..., -0.01806583,\n",
       "           -0.01669779, -0.02227106],\n",
       "          [ 0.01100781,  0.01944038,  0.02141688, ..., -0.04314127,\n",
       "           -0.03608077, -0.01889892],\n",
       "          ...,\n",
       "          [ 0.00707221,  0.0104752 ,  0.03234036, ...,  0.00853558,\n",
       "           -0.00021128, -0.00396033],\n",
       "          [ 0.01110382,  0.02153865,  0.02880071, ..., -0.00773913,\n",
       "           -0.02623315, -0.00932125],\n",
       "          [-0.01104567,  0.01122482,  0.01525191, ..., -0.02940056,\n",
       "           -0.04157976, -0.01390198]],\n",
       "  \n",
       "         [[-0.00064839,  0.00421728,  0.00785398, ...,  0.01730799,\n",
       "            0.01141663, -0.00778361],\n",
       "          [ 0.00553978,  0.00796621,  0.01050935, ..., -0.01768312,\n",
       "           -0.02185323, -0.01446519],\n",
       "          [ 0.02091922,  0.03815753,  0.04283705, ..., -0.02274963,\n",
       "           -0.01519504,  0.0054217 ],\n",
       "          ...,\n",
       "          [-0.00066578,  0.02604248,  0.03318317, ...,  0.01811734,\n",
       "            0.00531506, -0.00208653],\n",
       "          [ 0.0054032 ,  0.00975917,  0.00538365, ..., -0.0058131 ,\n",
       "           -0.01271252, -0.01048497],\n",
       "          [-0.02588348, -0.02756295, -0.03326702, ..., -0.01439557,\n",
       "           -0.00321904,  0.01359135]],\n",
       "  \n",
       "         [[ 0.02079177,  0.04273756,  0.04011345, ..., -0.00531029,\n",
       "           -0.01716893, -0.01809004],\n",
       "          [ 0.0050539 ,  0.00835128,  0.00458262, ..., -0.00496602,\n",
       "           -0.00943417, -0.01264182],\n",
       "          [ 0.00985988,  0.005187  , -0.00631122, ...,  0.01396344,\n",
       "            0.01512507,  0.00849899],\n",
       "          ...,\n",
       "          [-0.02235054, -0.01970219, -0.03851351, ..., -0.00520507,\n",
       "           -0.01290201, -0.00585341],\n",
       "          [-0.02392833, -0.0145774 , -0.00827194, ...,  0.01222421,\n",
       "           -0.01392391, -0.01984895],\n",
       "          [-0.03105845, -0.03506317, -0.0387533 , ...,  0.02922369,\n",
       "           -0.00397575, -0.02126948]],\n",
       "  \n",
       "         ...,\n",
       "  \n",
       "         [[ 0.0137653 ,  0.01405978,  0.00964301, ...,  0.0221219 ,\n",
       "            0.01684291,  0.00574196],\n",
       "          [-0.00420264, -0.00909875, -0.01028653, ..., -0.01753922,\n",
       "           -0.00553845, -0.0066537 ],\n",
       "          [ 0.01252865,  0.0082332 , -0.01072457, ..., -0.04041979,\n",
       "           -0.02696506,  0.00281943],\n",
       "          ...,\n",
       "          [-0.00250534,  0.01578526,  0.02657383, ..., -0.02165005,\n",
       "           -0.01328771, -0.00064058],\n",
       "          [-0.02524116, -0.03572036, -0.00398318, ..., -0.02680832,\n",
       "           -0.03831615, -0.0294556 ],\n",
       "          [ 0.0037129 , -0.02430207, -0.03226851, ...,  0.00097437,\n",
       "           -0.02699977, -0.04585661]],\n",
       "  \n",
       "         [[-0.01079707, -0.01352817, -0.00342438, ..., -0.01134577,\n",
       "           -0.00362503, -0.02328863],\n",
       "          [-0.00659861, -0.0054944 ,  0.00332866, ..., -0.00920056,\n",
       "           -0.00540713, -0.02827275],\n",
       "          [-0.00851261, -0.0110554 ,  0.00332977, ..., -0.01157616,\n",
       "           -0.00483478, -0.01563266],\n",
       "          ...,\n",
       "          [-0.05362039, -0.03648936, -0.00051279, ...,  0.00805398,\n",
       "            0.01341372, -0.00572258],\n",
       "          [-0.04519209, -0.02696929, -0.00407949, ..., -0.02012968,\n",
       "           -0.01625292, -0.01598552],\n",
       "          [-0.03823908, -0.03942341, -0.0296789 , ..., -0.02173174,\n",
       "           -0.01458569, -0.00079928]],\n",
       "  \n",
       "         [[-0.00600497, -0.00863089,  0.00619093, ...,  0.0072853 ,\n",
       "            0.01850452,  0.01987554],\n",
       "          [ 0.0020606 ,  0.00974401,  0.00990904, ..., -0.02035337,\n",
       "            0.00430773,  0.01196499],\n",
       "          [-0.00031405,  0.01149647,  0.02099874, ..., -0.01527559,\n",
       "           -0.01271351,  0.01928123],\n",
       "          ...,\n",
       "          [-0.02448835, -0.03876184, -0.01482479, ...,  0.00326752,\n",
       "           -0.00173202,  0.00665484],\n",
       "          [-0.01346647, -0.03167034, -0.04396946, ..., -0.00241358,\n",
       "           -0.00804336, -0.00609962],\n",
       "          [-0.00753572, -0.00963689, -0.02313326, ..., -0.00132443,\n",
       "            0.00140937, -0.00332423]]], dtype=float32),\n",
       "  'conv4_3': array([[[-3.82081117e-03,  6.06002286e-03,  1.77364852e-02, ...,\n",
       "            7.15699093e-03,  2.01068874e-02,  1.37462076e-02],\n",
       "          [ 6.25918014e-03,  9.13401321e-03,  8.89742095e-03, ...,\n",
       "            4.76706261e-03,  2.92590931e-02,  2.99665369e-02],\n",
       "          [ 6.62739854e-03,  3.50176194e-03, -7.59981154e-03, ...,\n",
       "           -1.58018116e-02,  2.71519125e-02,  3.34086306e-02],\n",
       "          ...,\n",
       "          [-5.04199881e-03, -9.35091265e-03,  3.41026136e-03, ...,\n",
       "            1.88465938e-02,  5.18386718e-03,  1.91610726e-03],\n",
       "          [-2.41283569e-02, -3.43652815e-02, -2.49670036e-02, ...,\n",
       "            2.36539245e-02, -1.09402556e-03, -2.70369370e-03],\n",
       "          [-2.31600236e-02, -3.18014659e-02, -2.15053726e-02, ...,\n",
       "            1.53350402e-02,  8.15384439e-04, -2.44846451e-03]],\n",
       "  \n",
       "         [[ 2.10299809e-02,  1.02644311e-02,  7.35307159e-03, ...,\n",
       "           -2.55565305e-04,  1.13785230e-02, -8.08083359e-03],\n",
       "          [ 1.91182978e-02,  9.01379064e-03,  8.03237595e-03, ...,\n",
       "           -6.40333164e-03,  7.51801627e-03,  1.89529720e-03],\n",
       "          [ 1.81549657e-02,  1.43457642e-02,  1.67632587e-02, ...,\n",
       "           -1.45914024e-02, -2.91007035e-03, -2.07897494e-04],\n",
       "          ...,\n",
       "          [-4.29712646e-02, -4.62596975e-02, -3.33465636e-02, ...,\n",
       "           -1.00461580e-02, -1.82468183e-02, -5.11518540e-03],\n",
       "          [-2.73773242e-02, -3.57135721e-02, -2.79974137e-02, ...,\n",
       "           -9.84924193e-03, -1.17850192e-02, -7.67783495e-03],\n",
       "          [-4.28801216e-02, -4.89423014e-02, -5.20504005e-02, ...,\n",
       "           -1.49452519e-02, -1.51572870e-02, -1.33798942e-02]],\n",
       "  \n",
       "         [[-8.67371634e-03,  2.22522742e-03,  1.36821726e-02, ...,\n",
       "            2.88996124e-03,  3.66401672e-03, -9.23330523e-03],\n",
       "          [-1.10830627e-02, -1.40696215e-02, -8.51684902e-03, ...,\n",
       "            4.99661174e-03,  1.84339695e-02,  1.59527045e-02],\n",
       "          [-1.43482061e-02, -2.14860719e-02, -1.22820269e-02, ...,\n",
       "           -1.67647819e-03,  2.08713748e-02,  2.89513152e-02],\n",
       "          ...,\n",
       "          [ 3.12013403e-02,  3.32174934e-02,  3.78350616e-02, ...,\n",
       "            2.66691204e-02,  1.99764129e-02,  1.04423864e-02],\n",
       "          [ 1.49008278e-02, -4.72153211e-03, -6.52558054e-04, ...,\n",
       "            3.10423486e-02,  2.19989922e-02,  5.78701543e-03],\n",
       "          [ 6.03696972e-04, -6.66930666e-03,  2.61895247e-02, ...,\n",
       "            2.48251315e-02,  3.42444913e-03, -1.76783837e-02]],\n",
       "  \n",
       "         ...,\n",
       "  \n",
       "         [[-2.15888713e-02, -1.99778248e-02, -8.18505418e-03, ...,\n",
       "            4.72081825e-03, -1.60757755e-03,  2.72172317e-03],\n",
       "          [-1.96405165e-02, -6.79067569e-03, -1.02780768e-05, ...,\n",
       "            6.34089997e-03, -7.65357912e-03, -9.48722009e-03],\n",
       "          [-7.20206276e-03, -1.72237493e-03,  2.78649828e-03, ...,\n",
       "            1.07924584e-02, -1.95278006e-03, -3.43835051e-03],\n",
       "          ...,\n",
       "          [-4.74000396e-03,  3.61683057e-03,  2.29793917e-02, ...,\n",
       "            1.34941200e-02,  3.16151069e-03, -8.49549193e-03],\n",
       "          [-2.77445633e-02, -1.84527319e-02, -6.69894321e-03, ...,\n",
       "            1.07428916e-02, -1.64654327e-03, -6.47012610e-03],\n",
       "          [-3.59250829e-02, -2.91474704e-02, -1.52445128e-02, ...,\n",
       "            1.07697817e-02, -3.57383024e-03, -2.06170185e-03]],\n",
       "  \n",
       "         [[ 1.78785180e-03,  6.08578324e-03,  3.92806670e-03, ...,\n",
       "           -1.84598062e-02, -2.07537767e-02, -2.24531740e-02],\n",
       "          [ 5.10129565e-03,  1.43377995e-02,  1.14865117e-02, ...,\n",
       "           -2.54264846e-02, -2.70082187e-02, -2.68923230e-02],\n",
       "          [ 5.92728704e-03,  1.69700291e-02,  1.44997761e-02, ...,\n",
       "           -3.77929769e-02, -4.02932055e-02, -4.12124693e-02],\n",
       "          ...,\n",
       "          [-1.76557270e-03, -6.91797119e-03, -1.70619506e-02, ...,\n",
       "            7.14995782e-04, -5.77752059e-03,  4.13679471e-03],\n",
       "          [-1.34946387e-02, -2.53884513e-02, -4.35516052e-02, ...,\n",
       "            1.37790770e-03, -5.17544709e-03, -3.27973953e-03],\n",
       "          [ 1.35419867e-03, -2.16004550e-02, -4.22340520e-02, ...,\n",
       "            2.85441661e-03, -2.11459259e-03,  2.13464326e-03]],\n",
       "  \n",
       "         [[-2.41316147e-02, -2.26708427e-02, -1.76400971e-02, ...,\n",
       "           -2.64995359e-02, -2.24637389e-02, -1.46445250e-02],\n",
       "          [-3.97131741e-02, -4.11917903e-02, -2.94232629e-02, ...,\n",
       "           -1.44697707e-02, -9.71752871e-03,  3.31788207e-03],\n",
       "          [-2.62342971e-02, -1.66023448e-02, -8.14645831e-03, ...,\n",
       "           -6.39258884e-03, -4.75943182e-03,  2.24997811e-02],\n",
       "          ...,\n",
       "          [ 7.49824475e-03,  3.57949696e-02,  5.25269508e-02, ...,\n",
       "            1.20409755e-02,  7.39095500e-03,  6.36244519e-03],\n",
       "          [ 8.40944983e-03,  2.79870629e-02,  2.11803559e-02, ...,\n",
       "            1.94162279e-02,  7.60476291e-03,  9.66814626e-03],\n",
       "          [-1.40415039e-02, -1.59286186e-02, -3.38882580e-02, ...,\n",
       "            1.30957328e-02, -1.04003213e-03, -4.37975256e-03]]],\n",
       "        dtype=float32),\n",
       "  'conv5_3': array([[[ 0.01733309,  0.01672624,  0.01690324, ...,  0.00333919,\n",
       "            0.01539832,  0.0105537 ],\n",
       "          [ 0.02342034,  0.01727986,  0.01042951, ...,  0.00545029,\n",
       "            0.01998592,  0.01295702],\n",
       "          [ 0.02562897,  0.00947254,  0.00089583, ...,  0.00556149,\n",
       "            0.0139397 ,  0.00314298],\n",
       "          ...,\n",
       "          [ 0.00046594, -0.01579068, -0.01900692, ...,  0.00850929,\n",
       "            0.00025076,  0.02043469],\n",
       "          [-0.00784587, -0.02398698, -0.02336684, ...,  0.01100844,\n",
       "            0.00608576,  0.03514456],\n",
       "          [ 0.00735988, -0.02122518, -0.02267457, ...,  0.00907724,\n",
       "            0.00850544,  0.02606251]],\n",
       "  \n",
       "         [[-0.00221704, -0.00068325,  0.00751138, ..., -0.01496868,\n",
       "           -0.00392026, -0.00248292],\n",
       "          [-0.00244644, -0.00036295,  0.00469442, ..., -0.00701834,\n",
       "           -0.00458127, -0.00764031],\n",
       "          [ 0.01389375,  0.01273481,  0.01629638, ...,  0.00523658,\n",
       "            0.00867737,  0.00762823],\n",
       "          ...,\n",
       "          [ 0.01213817,  0.02804198,  0.04753859, ...,  0.01469235,\n",
       "            0.03052235,  0.0309786 ],\n",
       "          [-0.01279497, -0.00598463,  0.0070059 , ...,  0.03442451,\n",
       "            0.03883041,  0.03475968],\n",
       "          [-0.02717619, -0.02831226, -0.02652143, ...,  0.03689292,\n",
       "            0.03363359,  0.03032435]],\n",
       "  \n",
       "         [[-0.00184823,  0.00604963,  0.01568897, ..., -0.00537605,\n",
       "            0.00530947,  0.00866312],\n",
       "          [-0.00673069, -0.00177557,  0.00434768, ...,  0.00482067,\n",
       "            0.01238164,  0.01779173],\n",
       "          [-0.02067542, -0.01357594, -0.00414676, ...,  0.00884239,\n",
       "            0.00524093,  0.00706694],\n",
       "          ...,\n",
       "          [ 0.0075355 , -0.00200705, -0.00329803, ..., -0.01428564,\n",
       "           -0.02154986, -0.01348737],\n",
       "          [ 0.00684187,  0.00333127,  0.01655233, ..., -0.02266795,\n",
       "           -0.02203971, -0.01431271],\n",
       "          [ 0.02368705,  0.02818477,  0.04067532, ..., -0.02598122,\n",
       "           -0.02572936, -0.0147093 ]],\n",
       "  \n",
       "         ...,\n",
       "  \n",
       "         [[ 0.00518469,  0.0031088 ,  0.00449819, ...,  0.01396121,\n",
       "            0.02207388,  0.02506093],\n",
       "          [ 0.01503523,  0.01547668,  0.01594433, ...,  0.00882571,\n",
       "            0.02403503,  0.03366164],\n",
       "          [ 0.02897208,  0.02901547,  0.02368348, ..., -0.0066719 ,\n",
       "            0.00870673,  0.02531051],\n",
       "          ...,\n",
       "          [ 0.02715915,  0.02997213,  0.03145841, ...,  0.01151552,\n",
       "            0.00801537,  0.00476764],\n",
       "          [ 0.03223068,  0.02693688,  0.02680035, ...,  0.02792888,\n",
       "            0.01685914,  0.0106814 ],\n",
       "          [ 0.04331138,  0.03309694,  0.0187552 , ...,  0.04354221,\n",
       "            0.02522766,  0.01099513]],\n",
       "  \n",
       "         [[-0.00972151, -0.00240675,  0.00429184, ..., -0.01339497,\n",
       "           -0.01550436, -0.00976094],\n",
       "          [-0.01079402, -0.00526658,  0.00232919, ..., -0.01717639,\n",
       "           -0.01457345, -0.00107767],\n",
       "          [-0.00339283, -0.00059902, -0.00293827, ..., -0.00184688,\n",
       "            0.00696708,  0.01214322],\n",
       "          ...,\n",
       "          [-0.03031198, -0.04435909, -0.04320728, ..., -0.02954873,\n",
       "           -0.04310933, -0.0415    ],\n",
       "          [-0.0380924 , -0.04898457, -0.04996091, ..., -0.02563592,\n",
       "           -0.03496678, -0.03926871],\n",
       "          [-0.04102277, -0.0499205 , -0.04697154, ..., -0.01062919,\n",
       "           -0.01486251, -0.02649976]],\n",
       "  \n",
       "         [[-0.00832214, -0.01192388, -0.00628774, ...,  0.00721428,\n",
       "            0.0228076 ,  0.02937071],\n",
       "          [-0.02235172, -0.02267122, -0.0145058 , ..., -0.0038892 ,\n",
       "            0.00491406,  0.01508838],\n",
       "          [-0.01262763, -0.01179583, -0.00593984, ...,  0.00707147,\n",
       "            0.00693213,  0.00859832],\n",
       "          ...,\n",
       "          [-0.02929732, -0.01535229,  0.01680256, ...,  0.01192752,\n",
       "           -0.02660151, -0.04683619],\n",
       "          [-0.0314553 , -0.03541525, -0.02180324, ..., -0.00916713,\n",
       "           -0.03091284, -0.03122482],\n",
       "          [-0.01802459, -0.0274043 , -0.01954674, ..., -0.01709415,\n",
       "           -0.0267294 , -0.02314682]]], dtype=float32)},\n",
       " 'Ttsr': {'conv2_2': array([[[-0.7986127 , -0.48640653, -0.19729078, ...,  0.8044025 ,\n",
       "            1.0403757 ,  0.74738634],\n",
       "          [-0.21290833,  0.09642213,  0.27996385, ...,  0.52021456,\n",
       "            0.5471872 ,  0.66891503],\n",
       "          [ 0.04937403,  0.20025553, -0.22052436, ...,  0.23175894,\n",
       "            0.26241583,  0.38812795],\n",
       "          ...,\n",
       "          [ 0.3427697 ,  0.77330965,  1.1353192 , ..., -1.1236516 ,\n",
       "           -0.57583857,  0.15143639],\n",
       "          [ 1.1175228 ,  1.1064856 ,  1.0625318 , ..., -0.49274924,\n",
       "           -0.17401977,  0.05315456],\n",
       "          [ 1.2714782 ,  0.68784577, -0.4841219 , ..., -0.6154756 ,\n",
       "           -0.30637428,  0.0683705 ]],\n",
       "  \n",
       "         [[ 0.1419082 , -0.53597105,  0.02488064, ...,  0.5882676 ,\n",
       "           -0.42767206, -0.99865514],\n",
       "          [-0.889444  , -0.6992954 , -0.17808601, ...,  0.23027773,\n",
       "           -0.6248086 , -0.9248488 ],\n",
       "          [-1.1879299 , -0.7745448 , -0.45542398, ...,  0.23500678,\n",
       "           -0.14039914, -0.5529927 ],\n",
       "          ...,\n",
       "          [ 0.06079718, -1.1652375 , -1.8492669 , ..., -0.25347167,\n",
       "            2.0530777 ,  1.3513187 ],\n",
       "          [-1.358033  , -1.6451108 , -2.2313128 , ..., -0.47701705,\n",
       "            1.3678542 ,  0.2557683 ],\n",
       "          [-1.9773513 , -1.4022284 , -0.5280828 , ..., -1.354769  ,\n",
       "           -0.9293919 , -2.070421  ]],\n",
       "  \n",
       "         [[ 2.6837552 ,  0.19840883, -0.7955316 , ..., -0.60266286,\n",
       "           -1.0980129 , -1.913524  ],\n",
       "          [ 0.8733269 ,  0.25500065, -1.4021586 , ..., -0.18336777,\n",
       "            1.2542113 ,  1.3958203 ],\n",
       "          [ 0.9337019 ,  0.30727884, -1.0659763 , ..., -1.2934154 ,\n",
       "           -0.7465752 ,  0.44644198],\n",
       "          ...,\n",
       "          [ 1.7396382 ,  0.3903665 ,  0.90193945, ..., -2.128761  ,\n",
       "            0.63597256,  0.6744559 ],\n",
       "          [ 1.6028944 , -0.26957467, -3.1960902 , ..., -1.3465012 ,\n",
       "            1.8347588 ,  0.42134988],\n",
       "          [ 2.6495264 ,  0.6786977 , -1.52086   , ...,  1.0898817 ,\n",
       "            3.0886145 ,  0.72328246]],\n",
       "  \n",
       "         ...,\n",
       "  \n",
       "         [[ 0.833736  ,  0.5223293 ,  0.1832747 , ..., -0.69808805,\n",
       "           -0.5277312 , -1.1056786 ],\n",
       "          [ 0.4232442 ,  0.04635734, -0.21906173, ..., -0.40992066,\n",
       "           -0.03702617, -0.47528645],\n",
       "          [ 0.1135596 , -0.38578513, -0.2369498 , ..., -0.12360116,\n",
       "            0.16305526, -0.297392  ],\n",
       "          ...,\n",
       "          [-0.941227  , -1.3010198 , -1.3475866 , ..., -0.16551581,\n",
       "            0.29154602, -0.23176086],\n",
       "          [-1.6115036 , -1.4668967 , -1.5508593 , ...,  0.42633185,\n",
       "            0.35630468, -0.1059934 ],\n",
       "          [-1.519555  , -0.7795954 , -0.2374648 , ...,  0.3231166 ,\n",
       "            0.41426918,  0.1328743 ]],\n",
       "  \n",
       "         [[-0.33281738, -2.3093605 , -1.2934264 , ..., -0.48444828,\n",
       "            0.01935912, -0.32930475],\n",
       "          [ 0.06400035, -1.285027  , -0.7690509 , ...,  0.14901103,\n",
       "            2.2543113 ,  1.2309167 ],\n",
       "          [ 0.69028085, -0.17378843, -0.1900745 , ...,  1.3027389 ,\n",
       "            1.7728434 ,  0.97767216],\n",
       "          ...,\n",
       "          [-1.3764852 , -1.5424632 , -1.4462658 , ...,  0.3696903 ,\n",
       "            0.26090577,  0.14546093],\n",
       "          [-1.5185064 , -1.3507317 , -1.1347995 , ...,  0.6263072 ,\n",
       "            0.52957726,  0.23036289],\n",
       "          [-2.291427  , -1.6577023 , -1.3415376 , ...,  0.44488758,\n",
       "            0.8331839 ,  0.36056542]],\n",
       "  \n",
       "         [[-0.2875646 ,  0.6215946 , -1.5142065 , ..., -1.2220027 ,\n",
       "            0.25255695,  0.38219061],\n",
       "          [-0.4267654 ,  1.0256438 ,  1.803191  , ...,  0.17338149,\n",
       "            0.11062981, -0.6476445 ],\n",
       "          [ 0.2561789 , -0.1102436 , -0.33930156, ...,  0.06197376,\n",
       "           -1.3527668 , -0.71120054],\n",
       "          ...,\n",
       "          [ 2.2423108 ,  2.4443078 ,  2.4905906 , ..., -2.4082062 ,\n",
       "           -2.2611277 , -1.7470303 ],\n",
       "          [ 1.1584085 ,  2.264869  ,  2.216229  , ...,  1.4615169 ,\n",
       "           -0.39213836,  0.13884553],\n",
       "          [-0.46615073,  0.35557747,  0.6140012 , ...,  0.4461981 ,\n",
       "           -1.1908569 , -1.6015983 ]]], dtype=float32),\n",
       "  'conv3_3': array([[[ 0.14020045, -0.18118194,  0.17174792, ..., -0.25726563,\n",
       "           -0.01516624, -1.009181  ],\n",
       "          [ 0.57458794,  0.6855551 ,  1.3265809 , ..., -1.1424841 ,\n",
       "           -1.055944  , -1.408543  ],\n",
       "          [ 0.6960632 ,  1.2294427 ,  1.3544942 , ..., -2.7303534 ,\n",
       "           -2.282864  , -1.1951874 ],\n",
       "          ...,\n",
       "          [ 0.44718528,  0.66238046,  2.0459428 , ...,  0.53972197,\n",
       "           -0.01335909, -0.25041255],\n",
       "          [ 0.70213485,  1.3621991 ,  1.8218174 , ..., -0.489358  ,\n",
       "           -1.659286  , -0.58940566],\n",
       "          [-0.69845754,  0.70978737,  0.9644864 , ..., -1.859794  ,\n",
       "           -2.6313534 , -0.8791035 ]],\n",
       "  \n",
       "         [[-0.04099725,  0.2666599 ,  0.49662063, ...,  1.0945438 ,\n",
       "            0.7219179 , -0.49217036],\n",
       "          [ 0.350284  ,  0.50371724,  0.66454   , ..., -1.1182741 ,\n",
       "           -1.3821039 , -0.9147261 ],\n",
       "          [ 1.3230062 ,  2.4144487 ,  2.711064  , ..., -1.4388258 ,\n",
       "           -0.96088946,  0.34281796],\n",
       "          ...,\n",
       "          [-0.04209708,  1.6472176 ,  2.0993192 , ...,  1.1457428 ,\n",
       "            0.3360743 , -0.13193074],\n",
       "          [ 0.3416476 ,  0.61709905,  0.34041154, ..., -0.36756715,\n",
       "           -0.8038742 , -0.66299826],\n",
       "          [-1.637154  , -1.7434604 , -2.1046302 , ..., -0.91032237,\n",
       "           -0.20353988,  0.8594572 ]],\n",
       "  \n",
       "         [[ 1.3149424 ,  2.7047563 ,  2.5384061 , ..., -0.33577287,\n",
       "           -1.0857472 , -1.1440159 ],\n",
       "          [ 0.31956062,  0.52806777,  0.28976107, ..., -0.31400388,\n",
       "           -0.5965468 , -0.7994031 ],\n",
       "          [ 0.6234679 ,  0.32797685, -0.3990646 , ...,  0.88299054,\n",
       "            0.95646346,  0.53740835],\n",
       "          ...,\n",
       "          [-1.4135722 , -1.2460064 , -2.4370072 , ..., -0.32912   ,\n",
       "           -0.8158585 , -0.37011594],\n",
       "          [-1.5134155 , -0.9218233 , -0.52305067, ...,  0.77299136,\n",
       "           -0.8804904 , -1.2552911 ],\n",
       "          [-1.9647654 , -2.218399  , -2.4522035 , ...,  1.8485957 ,\n",
       "           -0.25138786, -1.3451678 ]],\n",
       "  \n",
       "         ...,\n",
       "  \n",
       "         [[ 0.8704588 ,  0.88908434,  0.6097535 , ...,  1.3991042 ,\n",
       "            1.0651238 ,  0.3630684 ],\n",
       "          [-0.26573393, -0.5753356 , -0.6504491 , ..., -1.1091709 ,\n",
       "           -0.3502004 , -0.42072082],\n",
       "          [ 0.7922455 ,  0.52060044, -0.678151  , ..., -2.5578234 ,\n",
       "           -1.7056143 ,  0.17827238],\n",
       "          ...,\n",
       "          [-0.1584126 ,  0.998222  ,  1.68085   , ..., -1.3692477 ,\n",
       "           -0.8402524 , -0.04050349],\n",
       "          [-1.5965008 , -2.2600312 , -0.25185755, ..., -1.6956925 ,\n",
       "           -2.4245002 , -1.8632785 ],\n",
       "          [ 0.23476736, -1.5370677 , -2.0413928 , ...,  0.06160926,\n",
       "           -1.7078106 , -2.9025552 ]],\n",
       "  \n",
       "         [[-0.68273604, -0.85546106, -0.21652392, ..., -0.71743613,\n",
       "           -0.2292112 , -1.4729334 ],\n",
       "          [-0.4172377 , -0.34741458,  0.21047172, ..., -0.58177394,\n",
       "           -0.3418967 , -1.7883935 ],\n",
       "          [-0.5382698 , -0.69907284,  0.21054173, ..., -0.73200643,\n",
       "           -0.30570528, -0.9885697 ],\n",
       "          ...,\n",
       "          [-3.395288  , -2.3087502 , -0.03242328, ...,  0.5092677 ,\n",
       "            0.84822255, -0.36184317],\n",
       "          [-2.8604069 , -1.7058814 , -0.25794724, ..., -1.2730523 ,\n",
       "           -1.0278037 , -1.0108894 ],\n",
       "          [-2.419617  , -2.4946718 , -1.8774164 , ..., -1.374417  ,\n",
       "           -0.9223475 , -0.0505382 ]],\n",
       "  \n",
       "         [[-0.3796995 , -0.54574955,  0.39145848, ...,  0.46065977,\n",
       "            1.1702362 ,  1.2569736 ],\n",
       "          [ 0.13029169,  0.61614066,  0.62657654, ..., -1.2872049 ,\n",
       "            0.27237943,  0.75659764],\n",
       "          [-0.01985745,  0.72696686,  1.328038  , ..., -0.9659843 ,\n",
       "           -0.80393696,  1.219374  ],\n",
       "          ...,\n",
       "          [-1.5488564 , -2.452744  , -0.9374709 , ...,  0.20660585,\n",
       "           -0.10951507,  0.42079318],\n",
       "          [-0.85155886, -2.0035124 , -2.782869  , ..., -0.15261076,\n",
       "           -0.50859624, -0.38568473],\n",
       "          [-0.47649533, -0.60936666, -1.4631019 , ..., -0.08374354,\n",
       "            0.08911407, -0.2101911 ]]], dtype=float32),\n",
       "  'conv4_3': array([[[-2.41590664e-01,  3.83180708e-01,  1.12164974e+00, ...,\n",
       "            4.52546269e-01,  1.27161038e+00,  8.69251251e-01],\n",
       "          [ 3.95774096e-01,  5.77565372e-01,  5.62603891e-01, ...,\n",
       "            3.01423550e-01,  1.85083723e+00,  1.89562774e+00],\n",
       "          [ 4.19057906e-01,  2.21416846e-01, -4.80547994e-01, ...,\n",
       "           -9.99269187e-01,  1.71744156e+00,  2.11359906e+00],\n",
       "          ...,\n",
       "          [-3.18808317e-01, -5.91281652e-01,  2.15631202e-01, ...,\n",
       "            1.19187689e+00,  3.27778995e-01,  1.21155187e-01],\n",
       "          [-1.52607405e+00, -2.17419195e+00, -1.57914937e+00, ...,\n",
       "            1.49605000e+00, -6.91749975e-02, -1.70954481e-01],\n",
       "          [-1.46479523e+00, -2.01181602e+00, -1.36009371e+00, ...,\n",
       "            9.69744623e-01,  5.15565649e-02, -1.54816255e-01]],\n",
       "  \n",
       "         [[ 1.33001435e+00,  6.49051547e-01,  4.64945376e-01, ...,\n",
       "           -1.61593296e-02,  7.19507575e-01, -5.10965705e-01],\n",
       "          [ 1.20906591e+00,  5.69962800e-01,  5.07901430e-01, ...,\n",
       "           -4.04889315e-01,  4.75375652e-01,  1.19839363e-01],\n",
       "          [ 1.14812291e+00,  9.07172322e-01,  1.06008554e+00, ...,\n",
       "           -9.22708809e-01, -1.84003770e-01, -1.31453052e-02],\n",
       "          ...,\n",
       "          [-2.71957397e+00, -2.92812347e+00, -2.10966778e+00, ...,\n",
       "           -6.35248005e-01, -1.15393364e+00, -3.23436081e-01],\n",
       "          [-1.73171020e+00, -2.25960135e+00, -1.77096343e+00, ...,\n",
       "           -6.22795224e-01, -7.45215416e-01, -4.85481858e-01],\n",
       "          [-2.71379495e+00, -3.09832215e+00, -3.29560065e+00, ...,\n",
       "           -9.45089936e-01, -9.58501399e-01, -8.46082985e-01]],\n",
       "  \n",
       "         [[-5.48457444e-01,  1.40700907e-01,  8.65201235e-01, ...,\n",
       "            1.82732254e-01,  2.31676385e-01, -5.83844364e-01],\n",
       "          [-7.00822294e-01, -8.89706612e-01, -5.38537681e-01, ...,\n",
       "            3.15938413e-01,  1.16577327e+00,  1.00881374e+00],\n",
       "          [-9.07326758e-01, -1.35887241e+00, -7.76647985e-01, ...,\n",
       "           -1.06003426e-01,  1.31997919e+00,  1.83135176e+00],\n",
       "          ...,\n",
       "          [ 1.97381353e+00,  2.10149312e+00,  2.39401507e+00, ...,\n",
       "            1.68688166e+00,  1.26335549e+00,  6.60305381e-01],\n",
       "          [ 9.42280054e-01, -2.98544586e-01, -4.12610881e-02, ...,\n",
       "            1.96374595e+00,  1.39132726e+00,  3.65917623e-01],\n",
       "          [ 3.81716117e-02, -4.21707928e-01,  1.65652502e+00, ...,\n",
       "            1.57017064e+00,  2.16528311e-01, -1.11797440e+00]],\n",
       "  \n",
       "         ...,\n",
       "  \n",
       "         [[-1.36537683e+00, -1.26344478e+00, -5.17556190e-01, ...,\n",
       "            2.98499435e-01, -1.01646848e-01,  1.72094494e-01],\n",
       "          [-1.24210441e+00, -4.29382563e-01, -6.49880152e-04, ...,\n",
       "            4.00941521e-01, -4.83947992e-01, -5.99901438e-01],\n",
       "          [-4.55396354e-01, -1.08905487e-01,  1.76190242e-01, ...,\n",
       "            6.82444096e-01, -1.23474017e-01, -2.17407286e-01],\n",
       "          ...,\n",
       "          [-2.99712598e-01,  2.28692755e-01,  1.45336473e+00, ...,\n",
       "            8.53307426e-01,  1.99902505e-01, -5.37187159e-01],\n",
       "          [-1.75495708e+00, -1.16696012e+00, -4.23581958e-01, ...,\n",
       "            6.79309487e-01, -1.04110643e-01, -4.09112960e-01],\n",
       "          [-2.27300096e+00, -1.84377038e+00, -9.64018643e-01, ...,\n",
       "            6.81010008e-01, -2.25973800e-01, -1.30361155e-01]],\n",
       "  \n",
       "         [[ 1.13045581e-01,  3.84809613e-01,  2.48372555e-01, ...,\n",
       "           -1.16740775e+00, -1.31253850e+00, -1.42006636e+00],\n",
       "          [ 3.22557807e-01,  9.06668544e-01,  7.26337075e-01, ...,\n",
       "           -1.60822999e+00, -1.70834589e+00, -1.70100987e+00],\n",
       "          [ 3.74787420e-01,  1.07316506e+00,  9.16913450e-01, ...,\n",
       "           -2.39134860e+00, -2.54979968e+00, -2.60806966e+00],\n",
       "          ...,\n",
       "          [-1.11636877e-01, -4.37432021e-01, -1.07897973e+00, ...,\n",
       "            4.52090129e-02, -3.65317225e-01,  2.61570692e-01],\n",
       "          [-8.53340209e-01, -1.60582280e+00, -2.75637221e+00, ...,\n",
       "            8.71248245e-02, -3.27246547e-01, -2.07378194e-01],\n",
       "          [ 8.56257156e-02, -1.36610985e+00, -2.67283297e+00, ...,\n",
       "            1.80484772e-01, -1.33705437e-01,  1.34973258e-01]],\n",
       "  \n",
       "         [[-1.52628028e+00, -1.43383992e+00, -1.11555231e+00, ...,\n",
       "           -1.67614746e+00, -1.42073500e+00, -9.26068783e-01],\n",
       "          [-2.51303601e+00, -2.60675883e+00, -1.86123109e+00, ...,\n",
       "           -9.15015697e-01, -6.14465833e-01,  2.09789976e-01],\n",
       "          [-1.65935898e+00, -1.04990661e+00, -5.15115559e-01, ...,\n",
       "           -4.04210001e-01, -3.00941020e-01,  1.42301559e+00],\n",
       "          ...,\n",
       "          [ 4.74125415e-01,  2.26475787e+00,  3.32585692e+00, ...,\n",
       "            7.61402965e-01,  4.67340916e-01,  4.02303934e-01],\n",
       "          [ 5.31746089e-01,  1.77030814e+00,  1.33952880e+00, ...,\n",
       "            1.22791457e+00,  4.80861068e-01,  6.11342907e-01],\n",
       "          [-8.87928188e-01, -1.00729024e+00, -2.14397717e+00, ...,\n",
       "            8.28110814e-01, -6.57609999e-02, -2.76933283e-01]]],\n",
       "        dtype=float32),\n",
       "  'conv5_3': array([[[ 1.0961316 ,  1.0577438 ,  1.0689403 , ...,  0.21113738,\n",
       "            0.97374713,  0.6673448 ],\n",
       "          [ 1.4812682 ,  1.0927643 ,  0.6594913 , ...,  0.34462562,\n",
       "            1.2639571 ,  0.81933767],\n",
       "          [ 1.6210456 ,  0.598973  ,  0.05664339, ...,  0.35165706,\n",
       "            0.88148946,  0.19873084],\n",
       "          ...,\n",
       "          [ 0.02946128, -0.9985649 , -1.2020199 , ...,  0.53805965,\n",
       "            0.0158558 ,  1.2923497 ],\n",
       "          [-0.49610758, -1.5171268 , -1.4778826 , ...,  0.69610274,\n",
       "            0.3848083 ,  2.2235546 ],\n",
       "          [ 0.46537605, -1.3423649 , -1.434076  , ...,  0.5739752 ,\n",
       "            0.5378165 ,  1.6484858 ]],\n",
       "  \n",
       "         [[-0.14018345, -0.04320197,  0.47495633, ..., -0.9465721 ,\n",
       "           -0.24787895, -0.15699518],\n",
       "          [-0.15468825, -0.02294896,  0.29683045, ..., -0.44377896,\n",
       "           -0.2896755 , -0.48310918],\n",
       "          [ 0.8785833 ,  0.8052842 ,  1.0305525 , ...,  0.33111227,\n",
       "            0.5486886 ,  0.48234522],\n",
       "          ...,\n",
       "          [ 0.7675499 ,  1.7737848 ,  3.0092552 , ...,  0.9290936 ,\n",
       "            1.9308199 ,  1.9597096 ],\n",
       "          [-0.80908895, -0.3784133 ,  0.44299227, ...,  2.1779435 ,\n",
       "            2.4570894 ,  2.1991744 ],\n",
       "          [-1.7189784 , -1.790895  , -1.6775331 , ...,  2.3343189 ,\n",
       "            2.1278472 ,  1.9182831 ]],\n",
       "  \n",
       "         [[-0.11686343,  0.38252378,  0.99213165, ..., -0.3399309 ,\n",
       "            0.33572093,  0.5477871 ],\n",
       "          [-0.42558944, -0.11226884,  0.2749054 , ...,  0.3048134 ,\n",
       "            0.7829476 ,  1.1251444 ],\n",
       "          [-1.3075807 , -0.8584823 , -0.26220065, ...,  0.55912364,\n",
       "            0.3313874 ,  0.44685203],\n",
       "          ...,\n",
       "          [ 0.47648114, -0.1269056 , -0.20853479, ..., -0.9033692 ,\n",
       "           -1.3629086 , -0.8528803 ],\n",
       "          [ 0.4326199 ,  0.21063678,  1.046743  , ..., -1.433657  ,\n",
       "           -1.3939036 , -0.9050817 ],\n",
       "          [ 1.4981462 ,  1.7828237 ,  2.5740204 , ..., -1.6433402 ,\n",
       "           -1.6273992 , -0.93016595]],\n",
       "  \n",
       "         ...,\n",
       "  \n",
       "         [[ 0.32783073,  0.19656926,  0.28442246, ...,  0.88284963,\n",
       "            1.3960662 ,  1.5850942 ],\n",
       "          [ 0.9507814 ,  0.9787035 ,  1.0082839 , ...,  0.5580694 ,\n",
       "            1.5201678 ,  2.129624  ],\n",
       "          [ 1.8326663 ,  1.8354132 ,  1.4979203 , ..., -0.42187172,\n",
       "            0.5505453 ,  1.6008894 ],\n",
       "          ...,\n",
       "          [ 1.7178997 ,  1.895982  ,  1.9900922 , ...,  0.7281718 ,\n",
       "            0.5068258 ,  0.30146024],\n",
       "          [ 2.0389967 ,  1.70383   ,  1.6951879 , ...,  1.7666247 ,\n",
       "            1.0661507 ,  0.67542094],\n",
       "          [ 2.7411397 ,  2.0938585 ,  1.186095  , ...,  2.755776  ,\n",
       "            1.5956463 ,  0.69526106]],\n",
       "  \n",
       "         [[-0.6147178 , -0.15217842,  0.27137443, ..., -0.8470363 ,\n",
       "           -0.98045444, -0.617211  ],\n",
       "          [-0.682543  , -0.33300897,  0.14727457, ..., -1.0862186 ,\n",
       "           -0.9215734 , -0.06814073],\n",
       "          [-0.21452881, -0.03787613, -0.18578708, ..., -0.11677764,\n",
       "            0.44053766,  0.76786935],\n",
       "          ...,\n",
       "          [-1.9174998 , -2.8075774 , -2.7345388 , ..., -1.8691746 ,\n",
       "           -2.7283282 , -2.626297  ],\n",
       "          [-2.410322  , -3.1010044 , -3.1629658 , ..., -1.6214852 ,\n",
       "           -2.2122934 , -2.4848666 ],\n",
       "          [-2.5960445 , -3.1604009 , -2.9732804 , ..., -0.6721186 ,\n",
       "           -0.93985635, -1.6761619 ]],\n",
       "  \n",
       "         [[-0.5262248 , -0.7539977 , -0.39758012, ...,  0.4561691 ,\n",
       "            1.4424937 ,  1.857904  ],\n",
       "          [-1.4136463 , -1.4338636 , -0.91729414, ..., -0.2459151 ,\n",
       "            0.31071824,  0.954143  ],\n",
       "          [-0.7985056 , -0.7458991 , -0.37558088, ...,  0.44713816,\n",
       "            0.43832713,  0.5436897 ],\n",
       "          ...,\n",
       "          [-1.8532575 , -0.97083557,  1.0625718 , ...,  0.7542275 ,\n",
       "           -1.6826023 , -2.9646933 ],\n",
       "          [-1.9898949 , -2.2407026 , -1.3789408 , ..., -0.57965934,\n",
       "           -1.9555455 , -1.9753008 ],\n",
       "          [-1.1398752 , -1.7334176 , -1.2361712 , ..., -1.0810167 ,\n",
       "           -1.6906968 , -1.4639599 ]]], dtype=float32)},\n",
       " 'featM': {'conv2_2': array([[[-2.2176828 , -0.55310065, -0.22412519, ..., -0.48195532,\n",
       "            0.24593663,  0.08029874],\n",
       "          [-0.5206863 ,  0.93816596,  0.91161793, ...,  1.4804441 ,\n",
       "            1.414286  , -0.6503335 ],\n",
       "          [-1.237854  ,  0.03856339,  0.91715455, ..., -0.10381599,\n",
       "            0.05814186, -1.6812336 ],\n",
       "          ...,\n",
       "          [-1.0999798 , -0.67560166, -0.5061118 , ..., -0.54202235,\n",
       "           -0.17102529, -1.5995746 ],\n",
       "          [-1.7834531 , -0.8176058 , -0.5009031 , ..., -0.49267802,\n",
       "            0.34835142, -0.32939675],\n",
       "          [-0.318478  ,  0.2160191 ,  0.32566038, ...,  0.34553534,\n",
       "            0.45972514, -1.0689824 ]],\n",
       "  \n",
       "         [[-0.15165643,  6.323978  ,  3.1258621 , ...,  3.2121181 ,\n",
       "            3.1766737 ,  6.8771586 ],\n",
       "          [-3.835681  ,  2.1874123 , -2.3243835 , ..., -2.4789605 ,\n",
       "           -3.7253332 ,  3.9653144 ],\n",
       "          [-2.246463  ,  3.519397  , -0.753937  , ..., -1.2861223 ,\n",
       "           -2.49535   ,  4.2206054 ],\n",
       "          ...,\n",
       "          [-2.3423638 ,  2.743643  , -1.1454686 , ...,  0.50351566,\n",
       "           -1.3766816 ,  4.3621235 ],\n",
       "          [-2.1073792 ,  3.3622193 , -0.3278992 , ...,  1.364082  ,\n",
       "           -0.17974566,  4.416121  ],\n",
       "          [-1.561036  ,  1.2036152 , -1.4825993 , ..., -0.5922656 ,\n",
       "           -1.8152685 ,  1.8677124 ]],\n",
       "  \n",
       "         [[-0.16687903, -0.40554333, -0.8353247 , ...,  0.5442964 ,\n",
       "           -0.687408  ,  0.0104176 ],\n",
       "          [ 0.07321464, -1.1202824 , -1.512143  , ..., -1.1519145 ,\n",
       "           -2.0267692 , -1.1834981 ],\n",
       "          [ 0.133482  , -0.79305094, -1.0418065 , ..., -2.1207635 ,\n",
       "           -2.5722392 , -2.7743368 ],\n",
       "          ...,\n",
       "          [ 0.11108767, -1.2646021 , -1.7052819 , ..., -2.0474691 ,\n",
       "           -0.20748709, -1.0627819 ],\n",
       "          [ 0.08265859, -0.7993068 , -2.09562   , ..., -1.5247627 ,\n",
       "           -0.63154596, -2.0337336 ],\n",
       "          [ 0.03041501, -0.09816063, -1.8112352 , ..., -1.2787862 ,\n",
       "           -0.21118903, -0.24519338]],\n",
       "  \n",
       "         ...,\n",
       "  \n",
       "         [[ 0.5380813 , -0.24340521, -0.2637874 , ..., -0.07682704,\n",
       "           -1.961215  , -2.5207007 ],\n",
       "          [-1.2357404 , -3.6276555 , -3.4833343 , ..., -3.9370759 ,\n",
       "           -3.9054828 , -4.3822746 ],\n",
       "          [-0.47704735, -1.7653009 , -2.0702767 , ..., -1.6936252 ,\n",
       "           -1.9749842 , -1.9987496 ],\n",
       "          ...,\n",
       "          [-0.11534534, -0.5721001 ,  0.43586046, ..., -0.5722101 ,\n",
       "           -1.0231439 , -1.676356  ],\n",
       "          [-0.9079599 , -1.1233121 , -0.50515276, ..., -1.4104407 ,\n",
       "           -2.6301458 , -2.0113115 ],\n",
       "          [-1.4333767 , -2.348733  , -1.5342293 , ..., -2.2837903 ,\n",
       "           -1.9709204 , -1.495355  ]],\n",
       "  \n",
       "         [[-1.7513652 , -2.8054688 , -1.4907107 , ..., -2.3395405 ,\n",
       "           -2.9535053 , -2.5702558 ],\n",
       "          [-1.5321645 , -1.6182425 ,  0.20990884, ..., -0.8466945 ,\n",
       "           -1.4062473 , -1.5456308 ],\n",
       "          [-1.003027  , -0.6568735 ,  0.8674722 , ...,  0.14308341,\n",
       "           -0.28000164, -0.49268565],\n",
       "          ...,\n",
       "          [-1.1439699 , -1.3279903 ,  0.43483087, ..., -0.17596878,\n",
       "            0.0244621 , -0.31711873],\n",
       "          [-1.133925  , -1.3608528 ,  0.22291693, ..., -0.7741797 ,\n",
       "           -0.48385534, -0.27787   ],\n",
       "          [-0.6313372 , -0.5940738 ,  0.8835978 , ...,  0.47197032,\n",
       "            0.716999  ,  0.43599555]],\n",
       "  \n",
       "         [[ 3.6437125 ,  2.14302   ,  3.7589755 , ...,  3.3411055 ,\n",
       "            2.3702044 ,  5.43624   ],\n",
       "          [-0.8349029 , -4.200994  , -3.144593  , ..., -2.8224888 ,\n",
       "           -4.580136  ,  1.8139118 ],\n",
       "          [ 0.5408515 , -1.9699506 , -0.89406025, ..., -0.7799024 ,\n",
       "           -2.5605307 ,  2.96235   ],\n",
       "          ...,\n",
       "          [ 0.92552626, -1.3347231 , -0.63199717, ..., -1.2210544 ,\n",
       "           -3.131616  ,  2.4954705 ],\n",
       "          [-0.13424847, -3.0795777 , -2.473301  , ..., -2.899584  ,\n",
       "           -4.8524785 ,  1.1355631 ],\n",
       "          [ 4.6061087 ,  5.359168  ,  5.466999  , ...,  5.7109523 ,\n",
       "            4.955454  ,  7.2681584 ]]], dtype=float32),\n",
       "  'conv3_3': array([[[  1.6712679 ,   0.34383848,   1.0025878 , ...,   0.82030195,\n",
       "            -1.7667185 ,   0.02769906],\n",
       "          [ -2.894342  ,  -3.6001391 ,  -1.8009392 , ...,  -3.8361883 ,\n",
       "            -6.2147737 ,  -1.1148269 ],\n",
       "          [ -1.0186731 ,  -1.2768523 ,   2.1001108 , ...,  -0.30285504,\n",
       "            -2.8876042 ,   1.0101671 ],\n",
       "          ...,\n",
       "          [ -0.5556637 ,  -1.0237944 ,   1.8053434 , ...,   0.5406374 ,\n",
       "            -3.067627  ,  -0.2276786 ],\n",
       "          [ -0.09595169,  -1.2616503 ,   1.0076169 , ...,   3.0905976 ,\n",
       "             0.12451706,   0.5105765 ],\n",
       "          [ -0.17982937,   1.4771013 ,   2.6853194 , ...,   2.9792392 ,\n",
       "             1.4812709 ,   4.4099145 ]],\n",
       "  \n",
       "         [[  2.5610268 ,   1.0774184 ,   0.58180946, ...,   3.6504004 ,\n",
       "             3.8550708 ,   2.7794685 ],\n",
       "          [ -6.23023   , -10.7647    ,  -8.273165  , ...,  -9.425699  ,\n",
       "            -7.797409  ,  -4.8623524 ],\n",
       "          [ -9.82018   , -12.766467  ,  -8.318195  , ..., -10.877549  ,\n",
       "            -9.947355  ,  -6.0909038 ],\n",
       "          ...,\n",
       "          [ -8.056503  , -10.402336  ,  -7.4755673 , ..., -12.339579  ,\n",
       "           -11.97536   ,  -7.7234178 ],\n",
       "          [ -8.049428  , -10.905408  ,  -8.61626   , ..., -10.927475  ,\n",
       "           -10.971315  ,  -6.8086677 ],\n",
       "          [ -6.6473603 ,  -9.380029  ,  -8.036414  , ..., -10.245621  ,\n",
       "            -9.1566925 ,  -5.352412  ]],\n",
       "  \n",
       "         [[  6.992794  ,   4.1569734 ,   3.600962  , ...,   4.5115786 ,\n",
       "             7.188059  ,  10.908606  ],\n",
       "          [  0.32620892,  -4.608931  ,  -4.0313954 , ...,  -5.474889  ,\n",
       "            -1.3307979 ,   6.124707  ],\n",
       "          [  1.1070743 ,  -2.8040922 ,  -1.8194227 , ...,  -1.595401  ,\n",
       "             2.303476  ,   7.586234  ],\n",
       "          ...,\n",
       "          [  0.83829844,  -2.456024  ,  -2.9152124 , ...,  -2.7419198 ,\n",
       "             0.14008453,   4.1698756 ],\n",
       "          [ -0.16046341,  -2.9955478 ,  -4.4956117 , ...,  -5.233883  ,\n",
       "            -2.0516973 ,   2.6945164 ],\n",
       "          [ -0.20467773,  -0.87678707,  -0.33779767, ...,  -0.20843875,\n",
       "             0.62509966,   0.7564593 ]],\n",
       "  \n",
       "         ...,\n",
       "  \n",
       "         [[ -1.259312  ,  -1.6796347 ,  -0.26896834, ...,   1.0261075 ,\n",
       "             3.4076383 ,   1.8972013 ],\n",
       "          [ -4.0440593 ,  -8.131329  ,  -5.1570992 , ...,  -0.98461753,\n",
       "            -1.0686061 ,   1.9624548 ],\n",
       "          [ -4.4410634 ,  -7.2406387 ,  -5.3824296 , ...,  -1.9805974 ,\n",
       "            -2.7485921 ,   0.44519415],\n",
       "          ...,\n",
       "          [ -3.060494  ,  -6.74844   ,  -5.317565  , ...,  -7.3228626 ,\n",
       "            -7.582341  ,  -3.197151  ],\n",
       "          [ -3.0593987 ,  -6.1108437 ,  -4.315103  , ...,  -8.027277  ,\n",
       "            -9.923682  ,  -5.2042007 ],\n",
       "          [  1.4883186 ,  -2.39803   ,  -1.4210013 , ...,  -3.4361274 ,\n",
       "            -6.7591596 ,  -4.3844957 ]],\n",
       "  \n",
       "         [[ -3.8324435 ,  -6.252143  ,  -3.1439593 , ...,  -1.808904  ,\n",
       "            -4.7833233 ,  -2.1864383 ],\n",
       "          [ -7.259923  , -11.997951  ,  -7.9829445 , ...,  -7.476257  ,\n",
       "           -11.372224  ,  -5.6627445 ],\n",
       "          [ -5.804469  ,  -9.45092   ,  -5.523557  , ...,  -5.4715214 ,\n",
       "           -10.278988  ,  -6.8679657 ],\n",
       "          ...,\n",
       "          [ -4.876269  ,  -8.46851   ,  -4.686324  , ...,  -6.210135  ,\n",
       "            -9.967156  ,  -3.837128  ],\n",
       "          [ -6.394456  , -10.933884  ,  -7.627713  , ...,  -9.533533  ,\n",
       "           -14.09542   ,  -7.0931826 ],\n",
       "          [ -3.4140024 ,  -5.5741286 ,  -3.5681005 , ...,  -3.753904  ,\n",
       "            -7.121785  ,  -1.8069762 ]],\n",
       "  \n",
       "         [[ -1.2677194 ,  -7.5308905 ,  -6.4382453 , ...,  -4.7326984 ,\n",
       "            -4.812292  ,  -2.3475497 ],\n",
       "          [ -2.2061126 ,  -8.833415  ,  -8.959624  , ...,  -9.293119  ,\n",
       "           -10.367258  ,  -2.7117138 ],\n",
       "          [ -0.5412821 ,  -6.7954826 ,  -6.775169  , ...,  -9.735414  ,\n",
       "           -11.098966  ,  -5.200609  ],\n",
       "          ...,\n",
       "          [  0.55224603,  -4.378126  ,  -3.7444775 , ...,  -8.033209  ,\n",
       "           -10.707884  ,  -5.3318663 ],\n",
       "          [  0.9577785 ,  -3.956646  ,  -4.0885897 , ...,  -6.571446  ,\n",
       "            -9.283938  ,  -7.4000354 ],\n",
       "          [  3.3388703 ,   2.8548903 ,   0.18113947, ...,   0.9931041 ,\n",
       "            -1.216806  ,  -0.8639876 ]]], dtype=float32),\n",
       "  'conv4_3': array([[[-2.4665194e+00, -2.0774362e+00, -1.9305841e+00, ...,\n",
       "           -2.9050980e+00, -6.6866765e+00, -2.8163378e+00],\n",
       "          [-5.7200513e+00, -7.0252466e+00, -5.7602620e+00, ...,\n",
       "           -6.3661089e+00, -1.2107360e+01, -6.9906149e+00],\n",
       "          [-3.6888869e+00, -3.8711686e+00, -2.7090576e+00, ...,\n",
       "           -1.8201373e+00, -6.7606707e+00, -3.2014716e+00],\n",
       "          ...,\n",
       "          [-3.5089998e+00, -4.7807307e+00, -3.8193429e+00, ...,\n",
       "           -5.6667070e+00, -8.5400486e+00, -5.4226155e+00],\n",
       "          [-5.9269495e+00, -7.1489382e+00, -5.7575221e+00, ...,\n",
       "           -6.7196994e+00, -1.0295900e+01, -6.2822227e+00],\n",
       "          [-4.0659661e+00, -4.0466638e+00, -3.4365575e+00, ...,\n",
       "           -3.6162231e+00, -6.7019167e+00, -2.5125456e+00]],\n",
       "  \n",
       "         [[-1.6327183e+00, -5.8930545e+00, -2.5404160e+00, ...,\n",
       "           -3.9787688e+00, -7.2659230e+00, -4.5080480e-01],\n",
       "          [-2.0420258e+00, -7.0634837e+00, -2.8745222e+00, ...,\n",
       "           -3.5015290e+00, -7.2599435e+00, -8.9714944e-02],\n",
       "          [-1.6425983e+00, -6.3016400e+00, -2.8687608e+00, ...,\n",
       "           -2.3839400e+00, -5.1099534e+00,  6.5775567e-01],\n",
       "          ...,\n",
       "          [-1.7850726e+00, -7.9006505e+00, -4.3339672e+00, ...,\n",
       "           -6.5702763e+00, -9.8106089e+00, -1.6732824e+00],\n",
       "          [ 1.2067274e-01, -6.1889362e+00, -3.1309848e+00, ...,\n",
       "           -4.8784757e+00, -7.4352798e+00,  4.9132437e-01],\n",
       "          [-2.7360675e+00, -5.9806519e+00, -3.3052971e+00, ...,\n",
       "           -2.9337575e+00, -5.6285553e+00, -1.4172443e+00]],\n",
       "  \n",
       "         [[ 9.5643443e-01,  3.6941975e-01,  1.0572796e+00, ...,\n",
       "           -7.3052847e-01, -1.5421382e+00,  3.7199137e-01],\n",
       "          [-5.0169859e+00, -6.0453634e+00, -3.3032842e+00, ...,\n",
       "           -6.0062652e+00, -9.7396584e+00, -5.0512085e+00],\n",
       "          [-2.3169012e+00, -2.5259390e+00, -5.4223382e-01, ...,\n",
       "           -1.0795612e+00, -4.3047528e+00, -2.2724464e+00],\n",
       "          ...,\n",
       "          [-3.8238504e+00, -5.4363027e+00, -2.9549341e+00, ...,\n",
       "           -4.8947105e+00, -7.0379996e+00, -3.6549311e+00],\n",
       "          [-5.5296478e+00, -9.1373405e+00, -5.4396567e+00, ...,\n",
       "           -7.3348746e+00, -1.0440126e+01, -5.5770478e+00],\n",
       "          [-1.6469285e+00, -4.8041487e+00, -2.2702975e+00, ...,\n",
       "           -4.3369946e+00, -5.4019961e+00, -1.8345826e+00]],\n",
       "  \n",
       "         ...,\n",
       "  \n",
       "         [[-4.9109478e+00, -3.7047436e+00, -2.1426964e+00, ...,\n",
       "           -4.1852446e+00, -6.0181551e+00, -3.1683273e+00],\n",
       "          [-4.8359466e+00, -3.4551086e+00, -9.1023082e-01, ...,\n",
       "           -4.2610402e+00, -4.9892483e+00, -3.2494466e+00],\n",
       "          [-3.1371624e+00, -1.4743510e-01,  1.8712347e+00, ...,\n",
       "           -1.6478418e+00, -2.1798978e+00, -1.4491524e+00],\n",
       "          ...,\n",
       "          [-5.4702959e+00, -3.3111486e+00, -3.8303003e-01, ...,\n",
       "           -9.9553335e-01, -2.2574835e+00, -1.4857411e+00],\n",
       "          [-8.0607948e+00, -6.8528581e+00, -2.9846604e+00, ...,\n",
       "           -4.1823239e+00, -5.7406626e+00, -3.3813369e+00],\n",
       "          [-4.9639320e+00, -3.2686677e+00, -1.2300057e+00, ...,\n",
       "           -2.9263558e+00, -2.6852503e+00, -1.4854693e+00]],\n",
       "  \n",
       "         [[-2.4761999e+00, -3.3695672e+00, -1.0441480e+00, ...,\n",
       "           -1.1602108e-02, -3.7447164e+00, -1.6313179e+00],\n",
       "          [-4.0815492e+00, -5.9520297e+00, -3.1202271e+00, ...,\n",
       "           -1.3725027e+00, -5.0024738e+00, -1.6024365e+00],\n",
       "          [-3.4938226e+00, -5.5020075e+00, -2.9817505e+00, ...,\n",
       "           -1.1005309e+00, -3.6952932e+00, -9.3263525e-01],\n",
       "          ...,\n",
       "          [-2.0211785e+00, -3.7583869e+00, -2.3636427e+00, ...,\n",
       "           -3.6580112e+00, -8.6442604e+00, -5.8311977e+00],\n",
       "          [-3.5925734e+00, -7.1413050e+00, -5.9175010e+00, ...,\n",
       "           -4.5705676e+00, -9.2061405e+00, -6.0843906e+00],\n",
       "          [ 3.9129871e-01, -3.7045155e+00, -3.3507404e+00, ...,\n",
       "           -9.0705061e-01, -2.8112948e+00, -9.8135924e-01]],\n",
       "  \n",
       "         [[-9.7244906e-01, -1.8754674e+00, -1.0291082e+00, ...,\n",
       "           -3.2667470e-01, -8.6498231e-01, -4.6651933e-01],\n",
       "          [-2.6976986e+00, -5.7220478e+00, -2.0514312e+00, ...,\n",
       "           -9.7367787e-01, -3.8940763e+00, -3.6633954e+00],\n",
       "          [-8.2835138e-01, -2.8926806e+00,  8.2108670e-01, ...,\n",
       "            3.2432261e+00, -8.5388400e-02, -1.6947609e+00],\n",
       "          ...,\n",
       "          [-3.3973970e+00, -4.9336805e+00, -2.1544216e+00, ...,\n",
       "           -3.5490409e-01, -2.2298913e+00, -1.9947985e+00],\n",
       "          [-4.6044798e+00, -6.6558700e+00, -2.9495070e+00, ...,\n",
       "           -8.2579710e-02, -3.6628370e+00, -2.9692411e+00],\n",
       "          [-3.5797288e+00, -7.4192262e+00, -3.8173666e+00, ...,\n",
       "           -1.8345530e+00, -5.4240699e+00, -4.6783428e+00]]], dtype=float32),\n",
       "  'conv5_3': array([[[-1.1187383 , -1.6890604 , -1.5337868 , ..., -1.88286   ,\n",
       "           -2.4692557 , -1.6014061 ],\n",
       "          [-2.2462406 , -3.426668  , -2.9821763 , ..., -2.933573  ,\n",
       "           -3.7058835 , -2.481568  ],\n",
       "          [-1.5262996 , -2.3960886 , -2.1443806 , ..., -2.1767058 ,\n",
       "           -2.6855612 , -1.1365618 ],\n",
       "          ...,\n",
       "          [-2.40728   , -2.957917  , -2.243283  , ..., -3.0011983 ,\n",
       "           -4.7538023 , -2.022139  ],\n",
       "          [-2.77381   , -3.6035638 , -3.1128705 , ..., -2.9923534 ,\n",
       "           -4.9438934 , -3.019848  ],\n",
       "          [-1.1053885 , -1.9132596 , -1.6553476 , ..., -1.3004756 ,\n",
       "           -2.549163  , -2.005532  ]],\n",
       "  \n",
       "         [[-2.68944   , -3.4128723 , -2.3508012 , ..., -2.3333852 ,\n",
       "           -3.0043936 , -2.5504537 ],\n",
       "          [-2.5812314 , -3.1741796 , -1.7723978 , ..., -1.5687062 ,\n",
       "           -1.9473413 , -2.045574  ],\n",
       "          [-1.3695384 , -1.5835421 , -0.5480686 , ..., -0.0552901 ,\n",
       "            0.02655989, -0.59952354],\n",
       "          ...,\n",
       "          [-2.3011985 , -2.6931963 , -1.4994965 , ..., -0.63811725,\n",
       "           -0.42849064, -0.9820824 ],\n",
       "          [-3.3966382 , -4.300695  , -3.3424463 , ..., -3.4294984 ,\n",
       "           -3.5723324 , -2.9810796 ],\n",
       "          [-2.6237674 , -3.482675  , -2.8284442 , ..., -3.3545442 ,\n",
       "           -3.8430061 , -3.0334454 ]],\n",
       "  \n",
       "         [[-0.5309423 , -1.1816142 , -1.4440767 , ..., -1.4975659 ,\n",
       "           -1.6036143 , -0.48988333],\n",
       "          [-1.2802953 , -2.249567  , -2.4212246 , ..., -2.1875815 ,\n",
       "           -2.3897614 , -1.3236969 ],\n",
       "          [-1.4097033 , -1.9691952 , -2.0253446 , ..., -1.8634655 ,\n",
       "           -2.1591141 , -1.049791  ],\n",
       "          ...,\n",
       "          [-0.92500263, -1.0622206 , -1.288867  , ..., -1.7983909 ,\n",
       "           -3.4207494 , -2.6089985 ],\n",
       "          [-1.9368227 , -2.3606892 , -2.3755796 , ..., -3.066861  ,\n",
       "           -4.499937  , -3.1439817 ],\n",
       "          [-1.5881408 , -1.9573277 , -1.9532759 , ..., -2.2751641 ,\n",
       "           -2.9221456 , -1.9852614 ]],\n",
       "  \n",
       "         ...,\n",
       "  \n",
       "         [[-1.9382589 , -2.7367146 , -2.1944597 , ..., -2.9097135 ,\n",
       "           -3.4400594 , -2.3516643 ],\n",
       "          [-1.7114884 , -2.3581877 , -2.1213307 , ..., -2.6920824 ,\n",
       "           -2.9296021 , -2.2925484 ],\n",
       "          [-1.9536048 , -2.2422833 , -1.5861502 , ..., -1.974801  ,\n",
       "           -2.2690024 , -2.1155407 ],\n",
       "          ...,\n",
       "          [-0.78348845, -1.0109746 , -1.1278439 , ..., -1.3288313 ,\n",
       "           -1.9085038 , -2.3785765 ],\n",
       "          [-2.2255034 , -2.7622592 , -2.535176  , ..., -3.135869  ,\n",
       "           -4.305313  , -3.4964614 ],\n",
       "          [-0.82274455, -1.6152011 , -2.0023003 , ..., -2.2301462 ,\n",
       "           -2.749296  , -1.9886533 ]],\n",
       "  \n",
       "         [[-2.8775895 , -3.8435993 , -2.8897307 , ..., -2.9724798 ,\n",
       "           -3.7314222 , -2.6581326 ],\n",
       "          [-3.5234413 , -4.7387104 , -4.002441  , ..., -4.0800476 ,\n",
       "           -4.8840284 , -3.539621  ],\n",
       "          [-2.7413647 , -3.8900352 , -3.698767  , ..., -3.705029  ,\n",
       "           -4.2541614 , -2.7848563 ],\n",
       "          ...,\n",
       "          [-2.1107347 , -3.1695626 , -2.7399375 , ..., -3.8569806 ,\n",
       "           -4.9635415 , -3.810007  ],\n",
       "          [-3.2443657 , -4.5441475 , -3.59245   , ..., -5.029569  ,\n",
       "           -6.3120737 , -4.6223564 ],\n",
       "          [-2.7101467 , -3.296647  , -2.3024652 , ..., -3.9169044 ,\n",
       "           -4.822758  , -3.5288222 ]],\n",
       "  \n",
       "         [[-2.991564  , -4.289387  , -3.2025027 , ..., -3.3275657 ,\n",
       "           -5.1297364 , -4.0681586 ],\n",
       "          [-4.575911  , -5.8147078 , -4.0346065 , ..., -3.765679  ,\n",
       "           -5.8161063 , -4.6974826 ],\n",
       "          [-3.4679835 , -4.049146  , -2.386516  , ..., -2.0755215 ,\n",
       "           -3.5645645 , -3.019199  ],\n",
       "          ...,\n",
       "          [-3.3677433 , -3.6315928 , -1.740273  , ..., -1.1512548 ,\n",
       "           -4.2920294 , -5.1789904 ],\n",
       "          [-5.190452  , -6.417558  , -4.3093696 , ..., -4.177198  ,\n",
       "           -6.7577076 , -6.388943  ],\n",
       "          [-3.548021  , -4.5008674 , -2.9742541 , ..., -3.0168347 ,\n",
       "           -4.576569  , -4.055906  ]]], dtype=float32)},\n",
       " 'featStd': {'conv2_2': array([[[0.56192327, 1.05933   , 1.3963286 , ..., 0.18993431,\n",
       "           0.23754889, 0.1734464 ],\n",
       "          [0.91407645, 1.3272885 , 1.492617  , ..., 0.72988904,\n",
       "           0.7171527 , 0.4744271 ],\n",
       "          [0.7842999 , 0.83002216, 0.6769039 , ..., 0.784437  ,\n",
       "           0.87096125, 0.66127324],\n",
       "          ...,\n",
       "          [0.45927024, 0.85804534, 0.9245014 , ..., 0.51067394,\n",
       "           0.4832077 , 0.369476  ],\n",
       "          [0.5231409 , 0.8919076 , 1.003147  , ..., 0.7352498 ,\n",
       "           0.71684915, 0.6431664 ],\n",
       "          [0.38344735, 0.46544456, 0.40179837, ..., 1.0032997 ,\n",
       "           0.857331  , 0.4861907 ]],\n",
       "  \n",
       "         [[0.21597597, 0.4318085 , 0.4398501 , ..., 0.23753566,\n",
       "           0.21749517, 0.14024471],\n",
       "          [0.3523686 , 0.6268386 , 0.7585336 , ..., 0.4234871 ,\n",
       "           0.31176978, 0.27942318],\n",
       "          [0.42482376, 0.70304567, 0.52883154, ..., 0.45705578,\n",
       "           0.3291472 , 0.29061228],\n",
       "          ...,\n",
       "          [0.19287913, 0.4122852 , 0.38633108, ..., 0.45445997,\n",
       "           0.3658079 , 0.3401411 ],\n",
       "          [0.11710405, 0.31411934, 0.23145889, ..., 0.4930514 ,\n",
       "           0.2940772 , 0.2836372 ],\n",
       "          [0.06667498, 0.10998312, 0.12131111, ..., 0.23960665,\n",
       "           0.27301165, 0.12509914]],\n",
       "  \n",
       "         [[0.16458908, 0.29824132, 0.5436578 , ..., 0.34903726,\n",
       "           0.21066251, 0.13164563],\n",
       "          [0.33870077, 0.5077052 , 0.4215171 , ..., 0.2952699 ,\n",
       "           0.30220547, 0.30326137],\n",
       "          [0.45602867, 0.84869105, 0.6647856 , ..., 0.3623455 ,\n",
       "           0.31926724, 0.53493834],\n",
       "          ...,\n",
       "          [0.5007438 , 0.63247305, 0.52967376, ..., 0.6794068 ,\n",
       "           0.5316835 , 0.67016155],\n",
       "          [0.47678763, 0.5232923 , 0.3833185 , ..., 0.5628915 ,\n",
       "           0.45860803, 0.36734655],\n",
       "          [0.28936562, 0.39473686, 0.2718328 , ..., 0.39061904,\n",
       "           0.5921009 , 0.2856369 ]],\n",
       "  \n",
       "         ...,\n",
       "  \n",
       "         [[1.0867534 , 1.440022  , 1.5447292 , ..., 0.25860637,\n",
       "           0.18588707, 0.09885254],\n",
       "          [1.6550742 , 1.8137221 , 1.6225121 , ..., 0.81606627,\n",
       "           0.6685182 , 0.4351679 ],\n",
       "          [1.5933604 , 1.2495128 , 0.8473091 , ..., 1.735332  ,\n",
       "           1.3102767 , 0.70482665],\n",
       "          ...,\n",
       "          [0.34714878, 0.8612474 , 1.1587931 , ..., 0.41028976,\n",
       "           0.8509733 , 0.9439604 ],\n",
       "          [0.4539083 , 0.93121433, 1.0198394 , ..., 0.9609674 ,\n",
       "           1.2875459 , 1.1188846 ],\n",
       "          [0.2787038 , 0.44766897, 0.3900215 , ..., 1.4723761 ,\n",
       "           1.4482424 , 0.9798393 ]],\n",
       "  \n",
       "         [[0.19492148, 0.16353267, 0.40192696, ..., 0.1762905 ,\n",
       "           0.1220625 , 0.07579535],\n",
       "          [0.281646  , 0.3673021 , 0.93099475, ..., 0.23360941,\n",
       "           0.2066477 , 0.17041995],\n",
       "          [0.31989223, 0.5885983 , 1.2869017 , ..., 0.29181626,\n",
       "           0.4383365 , 0.3649088 ],\n",
       "          ...,\n",
       "          [0.24871328, 0.7254048 , 0.9486239 , ..., 0.9399684 ,\n",
       "           1.3080693 , 0.9207424 ],\n",
       "          [0.22090316, 0.59276044, 0.7280342 , ..., 0.7387494 ,\n",
       "           1.0131153 , 0.7117497 ],\n",
       "          [0.10955142, 0.29763907, 0.38856775, ..., 0.5232294 ,\n",
       "           0.7277071 , 0.47070885]],\n",
       "  \n",
       "         [[0.09789035, 0.15806894, 0.14216952, ..., 0.18121222,\n",
       "           0.12479193, 0.08462916],\n",
       "          [0.15774904, 0.22630559, 0.20541732, ..., 0.46730736,\n",
       "           0.39008263, 0.16400364],\n",
       "          [0.2087189 , 0.20074832, 0.2571632 , ..., 0.2263339 ,\n",
       "           0.20474535, 0.16302453],\n",
       "          ...,\n",
       "          [0.14322859, 0.3011015 , 0.36102518, ..., 0.23170012,\n",
       "           0.3289088 , 0.24773332],\n",
       "          [0.11668559, 0.26299828, 0.33852437, ..., 0.31645748,\n",
       "           0.25388747, 0.14772062],\n",
       "          [0.14355801, 0.2859311 , 0.35131827, ..., 0.37893143,\n",
       "           0.29227784, 0.16542865]]], dtype=float32),\n",
       "  'conv3_3': array([[[0.90994   , 1.5280298 , 1.3852665 , ..., 1.4081237 ,\n",
       "           1.4261312 , 0.7622654 ],\n",
       "          [1.3940712 , 2.3577793 , 1.6784093 , ..., 1.4077086 ,\n",
       "           1.5613277 , 1.3871437 ],\n",
       "          [1.5578588 , 2.436393  , 2.0295913 , ..., 1.5306848 ,\n",
       "           2.0306876 , 1.8074148 ],\n",
       "          ...,\n",
       "          [1.5515171 , 2.3287776 , 2.7984536 , ..., 3.793416  ,\n",
       "           2.9495585 , 1.9066267 ],\n",
       "          [1.2111555 , 2.3141952 , 2.845316  , ..., 3.1071684 ,\n",
       "           2.6351178 , 1.561909  ],\n",
       "          [0.57691866, 0.96606934, 0.9967814 , ..., 1.3909686 ,\n",
       "           1.5354307 , 0.7948655 ]],\n",
       "  \n",
       "         [[1.4240333 , 2.335319  , 2.6320674 , ..., 1.7695062 ,\n",
       "           1.1372854 , 0.6159714 ],\n",
       "          [1.4298409 , 1.8772894 , 1.7481658 , ..., 1.1301558 ,\n",
       "           1.1939107 , 1.0278459 ],\n",
       "          [1.0118244 , 1.1717708 , 1.3049916 , ..., 1.448887  ,\n",
       "           1.585324  , 1.4552066 ],\n",
       "          ...,\n",
       "          [1.1205492 , 1.3112147 , 1.5557374 , ..., 2.0461705 ,\n",
       "           1.8842262 , 1.764246  ],\n",
       "          [1.0580747 , 1.7687162 , 1.8924118 , ..., 1.9560817 ,\n",
       "           2.0153298 , 1.7054931 ],\n",
       "          [0.92013335, 1.413029  , 1.214671  , ..., 0.9090491 ,\n",
       "           0.8801597 , 0.8907449 ]],\n",
       "  \n",
       "         [[1.1360289 , 1.1143053 , 0.9223471 , ..., 1.1196041 ,\n",
       "           1.0465142 , 1.2956479 ],\n",
       "          [1.9814919 , 2.262422  , 2.040166  , ..., 2.063882  ,\n",
       "           1.7852237 , 1.2994066 ],\n",
       "          [2.280512  , 1.803127  , 1.8300465 , ..., 2.5481105 ,\n",
       "           2.002637  , 1.5221561 ],\n",
       "          ...,\n",
       "          [1.9808958 , 1.4821299 , 1.5082324 , ..., 1.9645604 ,\n",
       "           2.4162765 , 1.5529082 ],\n",
       "          [1.9439474 , 1.9425758 , 1.6968194 , ..., 1.6012154 ,\n",
       "           1.5041152 , 1.7087717 ],\n",
       "          [1.5064311 , 2.0720422 , 1.8355463 , ..., 0.96763724,\n",
       "           0.6564419 , 1.1103023 ]],\n",
       "  \n",
       "         ...,\n",
       "  \n",
       "         [[0.7890263 , 0.8858629 , 0.8449178 , ..., 1.2442771 ,\n",
       "           0.9889724 , 0.59356266],\n",
       "          [1.0803853 , 1.2211233 , 1.5758808 , ..., 2.1268697 ,\n",
       "           2.006038  , 1.1870432 ],\n",
       "          [1.1824684 , 1.1245269 , 1.5493231 , ..., 1.1324319 ,\n",
       "           1.0705795 , 0.8837993 ],\n",
       "          ...,\n",
       "          [1.2312998 , 1.503853  , 2.080268  , ..., 1.8724806 ,\n",
       "           1.8826342 , 1.1489576 ],\n",
       "          [0.99328697, 1.3186791 , 1.5586598 , ..., 2.2590506 ,\n",
       "           2.1682363 , 1.2963609 ],\n",
       "          [0.942535  , 1.3029062 , 1.5874248 , ..., 1.7427557 ,\n",
       "           1.5958681 , 1.1157217 ]],\n",
       "  \n",
       "         [[0.8677718 , 1.0682023 , 1.3884717 , ..., 1.9072087 ,\n",
       "           1.2228925 , 1.0412105 ],\n",
       "          [1.3078706 , 0.99459904, 1.256198  , ..., 1.1369839 ,\n",
       "           1.1487962 , 1.0652037 ],\n",
       "          [1.1767364 , 1.138191  , 1.1806524 , ..., 1.049419  ,\n",
       "           1.2199607 , 0.90354145],\n",
       "          ...,\n",
       "          [0.87454104, 0.69658965, 0.99800676, ..., 1.3797028 ,\n",
       "           1.32319   , 1.081063  ],\n",
       "          [0.78113526, 0.72631043, 1.1292019 , ..., 0.98578846,\n",
       "           1.1365376 , 0.984125  ],\n",
       "          [0.68960667, 0.657864  , 1.0165378 , ..., 1.164192  ,\n",
       "           1.3954911 , 1.0917801 ]],\n",
       "  \n",
       "         [[0.83550686, 0.9064373 , 0.8139565 , ..., 1.2359254 ,\n",
       "           1.7313282 , 1.1406087 ],\n",
       "          [1.2781093 , 1.0798998 , 1.2237602 , ..., 1.9359539 ,\n",
       "           2.3028197 , 2.2917213 ],\n",
       "          [1.5204021 , 1.5555595 , 1.5553695 , ..., 2.428659  ,\n",
       "           1.8336921 , 1.7431972 ],\n",
       "          ...,\n",
       "          [2.51302   , 1.8378704 , 2.0963912 , ..., 2.1197805 ,\n",
       "           1.2455426 , 1.5525832 ],\n",
       "          [2.9071407 , 2.230946  , 1.8885976 , ..., 1.5737582 ,\n",
       "           1.323213  , 1.2072366 ],\n",
       "          [2.399781  , 2.5563626 , 1.9768519 , ..., 1.6967473 ,\n",
       "           1.4082937 , 0.95529866]]], dtype=float32),\n",
       "  'conv4_3': array([[[1.2531822 , 1.6288139 , 1.6060416 , ..., 1.868603  ,\n",
       "           1.4176055 , 1.2229967 ],\n",
       "          [1.8402605 , 1.957691  , 1.6782379 , ..., 2.1361036 ,\n",
       "           2.1297662 , 1.7374943 ],\n",
       "          [1.6421876 , 1.7681408 , 1.639661  , ..., 1.744813  ,\n",
       "           1.6330695 , 1.4172667 ],\n",
       "          ...,\n",
       "          [1.4279956 , 1.9324142 , 1.8340062 , ..., 1.8016294 ,\n",
       "           1.7927709 , 1.7225809 ],\n",
       "          [1.5740721 , 2.0958579 , 2.0381007 , ..., 1.4321455 ,\n",
       "           1.7340517 , 1.493875  ],\n",
       "          [1.3618443 , 1.7949564 , 1.5533423 , ..., 1.2580426 ,\n",
       "           1.6202182 , 1.3718503 ]],\n",
       "  \n",
       "         [[1.2529322 , 1.9387921 , 2.272038  , ..., 1.1406153 ,\n",
       "           0.98877907, 0.7218041 ],\n",
       "          [1.5842493 , 2.800064  , 3.1757398 , ..., 1.5253637 ,\n",
       "           1.3013442 , 0.9982152 ],\n",
       "          [1.5417014 , 2.3011742 , 2.3966472 , ..., 1.4664593 ,\n",
       "           1.5655574 , 1.283892  ],\n",
       "          ...,\n",
       "          [1.4811388 , 2.6632783 , 2.4826374 , ..., 1.8274186 ,\n",
       "           1.9462183 , 1.5561748 ],\n",
       "          [2.1309218 , 3.289672  , 3.018027  , ..., 2.4621184 ,\n",
       "           2.9006472 , 1.8698844 ],\n",
       "          [1.0830978 , 1.8927091 , 1.626029  , ..., 1.5342242 ,\n",
       "           1.8501811 , 1.1020362 ]],\n",
       "  \n",
       "         [[1.1162974 , 1.328644  , 1.4163704 , ..., 1.6658614 ,\n",
       "           1.6478316 , 1.0020576 ],\n",
       "          [1.4722333 , 1.6678739 , 1.810712  , ..., 1.6739056 ,\n",
       "           1.3556094 , 0.91667444],\n",
       "          [1.3736583 , 1.5753655 , 1.963005  , ..., 1.9985106 ,\n",
       "           1.7112306 , 1.2855445 ],\n",
       "          ...,\n",
       "          [1.2236862 , 1.3410134 , 1.4829818 , ..., 2.3078365 ,\n",
       "           2.469208  , 1.9010993 ],\n",
       "          [0.940064  , 1.1686838 , 1.2667413 , ..., 1.7956231 ,\n",
       "           1.8175735 , 1.2222803 ],\n",
       "          [0.86319137, 0.91408443, 1.0036464 , ..., 1.1920593 ,\n",
       "           1.3983338 , 1.0593426 ]],\n",
       "  \n",
       "         ...,\n",
       "  \n",
       "         [[1.0214657 , 1.1690782 , 1.2105445 , ..., 0.93399   ,\n",
       "           0.93890476, 0.5625424 ],\n",
       "          [0.9818577 , 1.4370146 , 2.0396192 , ..., 0.95365417,\n",
       "           1.2118862 , 0.9656692 ],\n",
       "          [1.3897305 , 2.213717  , 2.8963244 , ..., 1.1001933 ,\n",
       "           1.5722941 , 1.2771953 ],\n",
       "          ...,\n",
       "          [1.4254475 , 1.8270986 , 1.9771008 , ..., 1.323853  ,\n",
       "           1.5334709 , 0.9931384 ],\n",
       "          [1.3727982 , 1.469647  , 1.5741957 , ..., 1.3839403 ,\n",
       "           1.6812992 , 1.1998738 ],\n",
       "          [0.94993484, 0.9408484 , 1.1035454 , ..., 1.0404388 ,\n",
       "           1.1559706 , 0.9186879 ]],\n",
       "  \n",
       "         [[1.7247187 , 2.0931928 , 1.8265284 , ..., 2.4406168 ,\n",
       "           2.3301938 , 1.6973776 ],\n",
       "          [2.0043893 , 2.4876795 , 2.2646582 , ..., 2.4510243 ,\n",
       "           2.4201047 , 2.0760417 ],\n",
       "          [1.3887725 , 1.862968  , 1.8955314 , ..., 1.6381615 ,\n",
       "           1.7132636 , 1.5441387 ],\n",
       "          ...,\n",
       "          [1.2875537 , 1.7277808 , 1.4165614 , ..., 1.5987738 ,\n",
       "           1.8080326 , 1.3466382 ],\n",
       "          [1.536998  , 2.066755  , 1.7733676 , ..., 2.2035167 ,\n",
       "           2.2933962 , 1.5788935 ],\n",
       "          [1.1117983 , 1.7502408 , 1.7962983 , ..., 1.711727  ,\n",
       "           1.6189374 , 1.1115546 ]],\n",
       "  \n",
       "         [[0.93906534, 1.6207417 , 2.137879  , ..., 1.0844597 ,\n",
       "           1.0719192 , 0.8807079 ],\n",
       "          [1.1650237 , 1.7853059 , 2.0865858 , ..., 1.3579975 ,\n",
       "           1.2705919 , 1.0725969 ],\n",
       "          [1.2759854 , 2.0661652 , 2.1566274 , ..., 1.514554  ,\n",
       "           1.3688265 , 0.8902204 ],\n",
       "          ...,\n",
       "          [1.2953368 , 2.3323076 , 2.371196  , ..., 1.6706116 ,\n",
       "           1.5997353 , 1.0130913 ],\n",
       "          [1.1827006 , 2.1036816 , 1.624224  , ..., 1.3155861 ,\n",
       "           1.1994247 , 1.2105713 ],\n",
       "          [0.7079694 , 1.1687393 , 1.3672116 , ..., 0.99581784,\n",
       "           0.96840835, 0.949499  ]]], dtype=float32),\n",
       "  'conv5_3': array([[[0.7465927 , 0.9621532 , 0.8597646 , ..., 0.588416  ,\n",
       "           0.4928062 , 0.42179278],\n",
       "          [0.728296  , 1.0395933 , 1.1496327 , ..., 0.9630065 ,\n",
       "           0.7479551 , 0.57701457],\n",
       "          [0.6927106 , 1.091899  , 1.3416104 , ..., 1.2886655 ,\n",
       "           0.9886771 , 0.75354993],\n",
       "          ...,\n",
       "          [0.5932868 , 0.9944193 , 1.120021  , ..., 1.0050057 ,\n",
       "           1.0041038 , 0.5279781 ],\n",
       "          [0.52949727, 0.90003467, 0.95774746, ..., 0.7789064 ,\n",
       "           0.86156726, 0.4840106 ],\n",
       "          [0.34003013, 0.5976225 , 0.63149905, ..., 0.60555637,\n",
       "           0.6077852 , 0.40671396]],\n",
       "  \n",
       "         [[0.6717916 , 0.9469439 , 0.9393833 , ..., 0.55219537,\n",
       "           0.50286806, 0.34773922],\n",
       "          [0.69549114, 1.0142409 , 1.0635813 , ..., 0.80505913,\n",
       "           0.6975485 , 0.4561864 ],\n",
       "          [0.6530434 , 0.9513533 , 1.0584987 , ..., 0.8500598 ,\n",
       "           0.76124316, 0.5351234 ],\n",
       "          ...,\n",
       "          [0.56709194, 0.7648252 , 0.8359978 , ..., 0.8504515 ,\n",
       "           0.9768984 , 0.7181589 ],\n",
       "          [0.73849696, 0.9974686 , 0.95665103, ..., 0.8494045 ,\n",
       "           0.98977536, 0.6942741 ],\n",
       "          [0.6028251 , 0.8722354 , 0.890391  , ..., 0.76312035,\n",
       "           0.7787227 , 0.5020605 ]],\n",
       "  \n",
       "         [[0.4768542 , 0.51026696, 0.5065555 , ..., 0.55288965,\n",
       "           0.608214  , 0.4948407 ],\n",
       "          [0.6184767 , 0.80297846, 0.90568   , ..., 0.756639  ,\n",
       "           0.7510013 , 0.53842425],\n",
       "          [0.6484953 , 0.88928735, 1.0069044 , ..., 0.8215054 ,\n",
       "           0.7131685 , 0.5294153 ],\n",
       "          ...,\n",
       "          [0.7537607 , 0.89494085, 0.92995363, ..., 0.7909971 ,\n",
       "           0.97666454, 0.7917212 ],\n",
       "          [0.7664219 , 0.94263726, 0.91865337, ..., 0.9191964 ,\n",
       "           0.95107865, 0.69989085],\n",
       "          [0.53939986, 0.6506303 , 0.67505676, ..., 0.6852519 ,\n",
       "           0.6511307 , 0.4562473 ]],\n",
       "  \n",
       "         ...,\n",
       "  \n",
       "         [[0.93190175, 1.2284349 , 1.2099117 , ..., 0.98656017,\n",
       "           1.0547652 , 0.8518788 ],\n",
       "          [0.9692555 , 1.227257  , 1.2886139 , ..., 1.1317483 ,\n",
       "           1.1429762 , 0.9283219 ],\n",
       "          [0.85253626, 1.2461712 , 1.5975453 , ..., 1.396746  ,\n",
       "           1.2219006 , 0.9117368 ],\n",
       "          ...,\n",
       "          [1.0685341 , 1.6222494 , 1.7953743 , ..., 1.4286376 ,\n",
       "           1.298723  , 0.92550284],\n",
       "          [1.0560734 , 1.4936968 , 1.4703536 , ..., 1.1331315 ,\n",
       "           1.0969445 , 0.7609872 ],\n",
       "          [0.8879426 , 1.0861045 , 0.94389856, ..., 0.7463027 ,\n",
       "           0.7447274 , 0.57587963]],\n",
       "  \n",
       "         [[0.78204244, 1.0278579 , 0.9972755 , ..., 0.6981636 ,\n",
       "           0.60588914, 0.3971591 ],\n",
       "          [0.8624993 , 1.0955447 , 1.2243383 , ..., 0.84854007,\n",
       "           0.7177728 , 0.47357944],\n",
       "          [0.6992808 , 0.9908024 , 1.2448759 , ..., 0.936387  ,\n",
       "           0.81939703, 0.5694046 ],\n",
       "          ...,\n",
       "          [0.592765  , 0.886403  , 1.03402   , ..., 1.0115778 ,\n",
       "           1.0970722 , 0.8848443 ],\n",
       "          [0.6592976 , 0.9939938 , 1.088914  , ..., 1.081459  ,\n",
       "           1.1484109 , 0.8747547 ],\n",
       "          [0.57623726, 0.80388415, 0.8696619 , ..., 0.8435058 ,\n",
       "           0.89543486, 0.6423636 ]],\n",
       "  \n",
       "         [[0.71805906, 1.0034777 , 0.99102616, ..., 0.79747194,\n",
       "           0.81602186, 0.7137984 ],\n",
       "          [0.852562  , 1.1727374 , 1.1680046 , ..., 1.0133473 ,\n",
       "           0.9974122 , 0.8055877 ],\n",
       "          [0.8001307 , 1.1409227 , 1.4737659 , ..., 1.3232076 ,\n",
       "           1.1064962 , 0.8571977 ],\n",
       "          ...,\n",
       "          [0.74739707, 1.0606228 , 1.175899  , ..., 1.08777   ,\n",
       "           0.9258091 , 0.9585388 ],\n",
       "          [0.90107673, 1.2851652 , 1.1334101 , ..., 1.0457101 ,\n",
       "           0.97855264, 0.95323104],\n",
       "          [0.6606212 , 0.9668748 , 0.79600865, ..., 0.8207303 ,\n",
       "           0.8379532 , 0.7323659 ]]], dtype=float32)}}"
      ]
     },
     "execution_count": 71,
     "metadata": {},
     "output_type": "execute_result"
    }
   ],
   "source": [
    "featFetcher.make_savedict()"
   ]
  },
  {
   "cell_type": "code",
   "execution_count": 105,
   "id": "43cca67e",
   "metadata": {},
   "outputs": [
    {
     "name": "stderr",
     "output_type": "stream",
     "text": [
      "C:\\ProgramData\\Anaconda3\\lib\\site-packages\\ipykernel\\ipkernel.py:287: DeprecationWarning: `should_run_async` will not call `transform_cell` automatically in the future. Please pass the result to `transformed_cell` argument and any exception that happen during thetransform in `preprocessing_exc_tuple` in IPython 7.17 and above.\n",
      "  and should_run_async(code)\n"
     ]
    }
   ],
   "source": [
    "Wtsr = featFetcher.cctsr['conv5_3'].numpy()\n",
    "Ttsr = featFetcher.Ttsr['conv5_3'].numpy()"
   ]
  },
  {
   "cell_type": "code",
   "execution_count": 109,
   "id": "e0f1e49b",
   "metadata": {},
   "outputs": [
    {
     "name": "stdout",
     "output_type": "stream",
     "text": [
      "Sparsity after T threshold 0.031\n"
     ]
    },
    {
     "name": "stderr",
     "output_type": "stream",
     "text": [
      "C:\\ProgramData\\Anaconda3\\lib\\site-packages\\ipykernel\\ipkernel.py:287: DeprecationWarning: `should_run_async` will not call `transform_cell` automatically in the future. Please pass the result to `transformed_cell` argument and any exception that happen during thetransform in `preprocessing_exc_tuple` in IPython 7.17 and above.\n",
      "  and should_run_async(code)\n"
     ]
    }
   ],
   "source": [
    "layer = 'conv5_3'\n",
    "netname = \"vgg16\"\n",
    "model_scorer = CorrFeatScore()\n",
    "model_scorer.register_hooks(VGG, layer, netname=netname)\n",
    "# Wtsr_rect = rectify_tsr(Wtsr,mode=\"pos\")\n",
    "Wtsr_rect = rectify_tsr(Wtsr,mode=\"Tthresh\",thr=(None,3),Ttsr=Ttsr)\n",
    "model_scorer.register_weights({layer: Wtsr_rect})"
   ]
  },
  {
   "cell_type": "code",
   "execution_count": 34,
   "id": "3117c5c2",
   "metadata": {},
   "outputs": [
    {
     "name": "stdout",
     "output_type": "stream",
     "text": [
      "Sparsity after T threshold 0.002\n"
     ]
    },
    {
     "name": "stderr",
     "output_type": "stream",
     "text": [
      "C:\\ProgramData\\Anaconda3\\lib\\site-packages\\ipykernel\\ipkernel.py:287: DeprecationWarning: `should_run_async` will not call `transform_cell` automatically in the future. Please pass the result to `transformed_cell` argument and any exception that happen during thetransform in `preprocessing_exc_tuple` in IPython 7.17 and above.\n",
      "  and should_run_async(code)\n"
     ]
    }
   ],
   "source": [
    "layer = 'conv5_3'\n",
    "netname = \"vgg16\"\n",
    "cctsr_rect = rectify_tsr(cctsr, rect_mode, thresh, Ttsr=Ttsr)\n",
    "model_scorer = CorrFeatScore()\n",
    "model_scorer.register_hooks(VGG, layer, netname=netname)\n",
    "model_scorer.register_weights({layer: cctsr_rect})"
   ]
  },
  {
   "cell_type": "code",
   "execution_count": 46,
   "id": "2de1cc92",
   "metadata": {
    "scrolled": true
   },
   "outputs": [
    {
     "name": "stderr",
     "output_type": "stream",
     "text": [
      "C:\\ProgramData\\Anaconda3\\lib\\site-packages\\ipykernel\\ipkernel.py:287: DeprecationWarning: `should_run_async` will not call `transform_cell` automatically in the future. Please pass the result to `transformed_cell` argument and any exception that happen during thetransform in `preprocessing_exc_tuple` in IPython 7.17 and above.\n",
      "  and should_run_async(code)\n",
      "100%|█████████████████████████████████████████████████████████████████████████████████| 40/40 [00:00<00:00, 103.73it/s]\n",
      "100%|█████████████████████████████████████████████████████████████████████████████████| 40/40 [00:00<00:00, 103.37it/s]\n",
      "100%|██████████████████████████████████████████████████████████████████████████████████| 40/40 [00:00<00:00, 98.52it/s]\n",
      "100%|██████████████████████████████████████████████████████████████████████████████████| 40/40 [00:00<00:00, 98.04it/s]\n",
      "100%|█████████████████████████████████████████████████████████████████████████████████| 40/40 [00:00<00:00, 100.46it/s]\n",
      "100%|█████████████████████████████████████████████████████████████████████████████████| 40/40 [00:00<00:00, 104.17it/s]\n",
      "100%|█████████████████████████████████████████████████████████████████████████████████| 40/40 [00:00<00:00, 103.64it/s]\n",
      "100%|█████████████████████████████████████████████████████████████████████████████████| 40/40 [00:00<00:00, 101.26it/s]\n",
      "100%|█████████████████████████████████████████████████████████████████████████████████| 40/40 [00:00<00:00, 105.26it/s]\n",
      "100%|██████████████████████████████████████████████████████████████████████████████████| 40/40 [00:00<00:00, 96.95it/s]\n"
     ]
    },
    {
     "data": {
      "image/png": "[encoded data removed]",
      "text/plain": [
       "<Figure size 432x288 with 1 Axes>"
      ]
     },
     "metadata": {
      "needs_background": "light"
     },
     "output_type": "display_data"
    }
   ],
   "source": [
    "pred_resp_all = []\n",
    "resp_all = []\n",
    "for i in range(10):\n",
    "    imgtsr = G.visualize(3*torch.randn(40,4096).cuda())\n",
    "    pred_resp = score_images(VGG.features, model_scorer, layer, imgtsr, preprocessor=lambda x:x)\n",
    "    resp = scorer.score_tsr_wgrad(imgtsr, B=40).cpu()\n",
    "    del imgtsr\n",
    "    pred_resp_all.append(pred_resp)\n",
    "    resp_all.append(resp)\n",
    "pred_resp = torch.cat(pred_resp_all,dim=0)\n",
    "resp = torch.cat(resp_all,dim=0)\n",
    "\n",
    "corr = np.corrcoef(pred_resp.numpy(),resp.numpy())[0,1]\n",
    "plt.scatter(pred_resp.numpy(),resp.numpy())\n",
    "plt.ylabel(\"target response\")\n",
    "plt.xlabel(\"predicted response\")\n",
    "plt.title(\"corr:{corr}\")\n",
    "plt.show()"
   ]
  },
  {
   "cell_type": "code",
   "execution_count": 60,
   "id": "b67167e0",
   "metadata": {},
   "outputs": [
    {
     "name": "stderr",
     "output_type": "stream",
     "text": [
      "C:\\ProgramData\\Anaconda3\\lib\\site-packages\\ipykernel\\ipkernel.py:287: DeprecationWarning: `should_run_async` will not call `transform_cell` automatically in the future. Please pass the result to `transformed_cell` argument and any exception that happen during thetransform in `preprocessing_exc_tuple` in IPython 7.17 and above.\n",
      "  and should_run_async(code)\n"
     ]
    },
    {
     "data": {
      "image/png": "[encoded data removed]",
      "text/plain": [
       "<Figure size 432x288 with 1 Axes>"
      ]
     },
     "metadata": {
      "needs_background": "light"
     },
     "output_type": "display_data"
    }
   ],
   "source": [
    "plt.scatter(pred_resp.numpy(),resp.numpy())\n",
    "plt.ylabel(\"target response\")\n",
    "plt.xlabel(\"predicted response\")\n",
    "plt.title(\"corr:{:.4f}\".format(corr))\n",
    "plt.show()"
   ]
  },
  {
   "cell_type": "code",
   "execution_count": 17,
   "id": "2acc6d2e",
   "metadata": {},
   "outputs": [
    {
     "data": {
      "text/plain": [
       "{'score': tensor([0.0000, 0.2195, 0.3401, 0.1039, 0.0000, 0.0000, 0.4964, 0.0000, 0.0000,\n",
       "         0.1605, 0.0000, 0.0000, 0.3008, 0.0650, 0.0000, 0.2334, 0.0361, 0.0953,\n",
       "         0.1468, 0.0000, 0.0578, 0.0000, 0.0000, 0.0000, 0.0000, 0.0000, 0.3310,\n",
       "         0.0000, 0.3218, 0.0000, 0.0000, 0.0000, 0.0540, 0.4187, 0.2629, 0.0000,\n",
       "         0.0440, 0.0000, 0.0673, 0.1267], device='cuda:0')}"
      ]
     },
     "execution_count": 17,
     "metadata": {},
     "output_type": "execute_result"
    }
   ],
   "source": [
    "import insilico_Exp_torch\n",
    "insilico_Exp_torch.activation"
   ]
  },
  {
   "cell_type": "markdown",
   "id": "50dda07c",
   "metadata": {},
   "source": [
    "## Use Evolution Data to Learn Model"
   ]
  },
  {
   "cell_type": "code",
   "execution_count": 6,
   "id": "6436d6e0",
   "metadata": {},
   "outputs": [
    {
     "name": "stderr",
     "output_type": "stream",
     "text": [
      "C:\\ProgramData\\Anaconda3\\lib\\site-packages\\ipykernel\\ipkernel.py:287: DeprecationWarning: `should_run_async` will not call `transform_cell` automatically in the future. Please pass the result to `transformed_cell` argument and any exception that happen during thetransform in `preprocessing_exc_tuple` in IPython 7.17 and above.\n",
      "  and should_run_async(code)\n"
     ]
    }
   ],
   "source": [
    "scorer = TorchScorer(\"resnet50\")\n",
    "scorer.select_unit((\"resnet50\", layer, 5, 2, 5), allow_grad=True)"
   ]
  },
  {
   "cell_type": "code",
   "execution_count": 7,
   "id": "f1f53715",
   "metadata": {
    "scrolled": true
   },
   "outputs": [
    {
     "name": "stderr",
     "output_type": "stream",
     "text": [
      "C:\\ProgramData\\Anaconda3\\lib\\site-packages\\ipykernel\\ipkernel.py:287: DeprecationWarning: `should_run_async` will not call `transform_cell` automatically in the future. Please pass the result to `transformed_cell` argument and any exception that happen during thetransform in `preprocessing_exc_tuple` in IPython 7.17 and above.\n",
      "  and should_run_async(code)\n"
     ]
    },
    {
     "name": "stdout",
     "output_type": "stream",
     "text": [
      "Feature Correlator Destructed, Hooks deleted.\n"
     ]
    }
   ],
   "source": [
    "# Model Network\n",
    "VGG = models.vgg16(pretrained=True)\n",
    "VGG.requires_grad_(False).eval()\n",
    "VGG.features.cuda()\n",
    "# Multi-case modelling \n",
    "featFetcher = Corr_Feat_Machine()\n",
    "featFetcher.register_hooks(VGG, [\"conv2_2\", \"conv3_3\",\"conv4_3\", \"conv5_3\"], netname='vgg16', verbose=False)\n",
    "featFetcher.init_corr()"
   ]
  },
  {
   "cell_type": "code",
   "execution_count": 8,
   "id": "0259d5b9",
   "metadata": {
    "scrolled": true
   },
   "outputs": [
    {
     "name": "stderr",
     "output_type": "stream",
     "text": [
      "C:\\ProgramData\\Anaconda3\\lib\\site-packages\\ipykernel\\ipkernel.py:287: DeprecationWarning: `should_run_async` will not call `transform_cell` automatically in the future. Please pass the result to `transformed_cell` argument and any exception that happen during thetransform in `preprocessing_exc_tuple` in IPython 7.17 and above.\n",
      "  and should_run_async(code)\n",
      "  0%|                                                                                          | 0/150 [00:00<?, ?it/s]"
     ]
    },
    {
     "name": "stdout",
     "output_type": "stream",
     "text": [
      "(14_w,28)-aCMA-ES (mu_w=8.1,w_1=21%) in dimension 4096 (seed=717555, Tue Sep 14 00:10:46 2021)\n",
      "0.07857576012611389 0.22257688641548157\n"
     ]
    },
    {
     "name": "stderr",
     "output_type": "stream",
     "text": [
      "\r",
      "  1%|▌                                                                                 | 1/150 [00:00<02:14,  1.11it/s]"
     ]
    },
    {
     "name": "stdout",
     "output_type": "stream",
     "text": [
      "0.1252378672361374 0.26564347743988037\n"
     ]
    },
    {
     "name": "stderr",
     "output_type": "stream",
     "text": [
      "\r",
      "  1%|█                                                                                 | 2/150 [00:01<02:02,  1.21it/s]"
     ]
    },
    {
     "name": "stdout",
     "output_type": "stream",
     "text": [
      "0.2691727578639984 0.2711375653743744\n"
     ]
    },
    {
     "name": "stderr",
     "output_type": "stream",
     "text": [
      "\r",
      "  2%|█▋                                                                                | 3/150 [00:02<01:58,  1.24it/s]"
     ]
    },
    {
     "name": "stdout",
     "output_type": "stream",
     "text": [
      "0.27939411997795105 0.3521880507469177\n"
     ]
    },
    {
     "name": "stderr",
     "output_type": "stream",
     "text": [
      "\r",
      "  3%|██▏                                                                               | 4/150 [00:03<01:54,  1.27it/s]"
     ]
    },
    {
     "name": "stdout",
     "output_type": "stream",
     "text": [
      "0.47996607422828674 0.4630643427371979\n"
     ]
    },
    {
     "name": "stderr",
     "output_type": "stream",
     "text": [
      "\r",
      "  3%|██▋                                                                               | 5/150 [00:03<01:53,  1.28it/s]"
     ]
    },
    {
     "name": "stdout",
     "output_type": "stream",
     "text": [
      "0.3612600862979889 0.35316288471221924\n"
     ]
    },
    {
     "name": "stderr",
     "output_type": "stream",
     "text": [
      "\r",
      "  4%|███▎                                                                              | 6/150 [00:04<01:52,  1.28it/s]"
     ]
    },
    {
     "name": "stdout",
     "output_type": "stream",
     "text": [
      "0.3608727753162384 0.3803010582923889\n"
     ]
    },
    {
     "name": "stderr",
     "output_type": "stream",
     "text": [
      "\r",
      "  5%|███▊                                                                              | 7/150 [00:05<01:52,  1.27it/s]"
     ]
    },
    {
     "name": "stdout",
     "output_type": "stream",
     "text": [
      "0.34620097279548645 0.28982019424438477\n"
     ]
    },
    {
     "name": "stderr",
     "output_type": "stream",
     "text": [
      "\r",
      "  5%|████▎                                                                             | 8/150 [00:06<01:54,  1.25it/s]"
     ]
    },
    {
     "name": "stdout",
     "output_type": "stream",
     "text": [
      "0.5259716510772705 0.4486572742462158\n"
     ]
    },
    {
     "name": "stderr",
     "output_type": "stream",
     "text": [
      "\r",
      "  6%|████▉                                                                             | 9/150 [00:07<01:53,  1.25it/s]"
     ]
    },
    {
     "name": "stdout",
     "output_type": "stream",
     "text": [
      "0.5071187019348145 0.5388349294662476\n"
     ]
    },
    {
     "name": "stderr",
     "output_type": "stream",
     "text": [
      "\r",
      "  7%|█████▍                                                                           | 10/150 [00:08<01:53,  1.24it/s]"
     ]
    },
    {
     "name": "stdout",
     "output_type": "stream",
     "text": [
      "0.6384820938110352 0.5099920630455017\n"
     ]
    },
    {
     "name": "stderr",
     "output_type": "stream",
     "text": [
      "\r",
      "  7%|█████▉                                                                           | 11/150 [00:08<01:52,  1.23it/s]"
     ]
    },
    {
     "name": "stdout",
     "output_type": "stream",
     "text": [
      "0.6711952090263367 0.3779042661190033\n"
     ]
    },
    {
     "name": "stderr",
     "output_type": "stream",
     "text": [
      "\r",
      "  8%|██████▍                                                                          | 12/150 [00:09<01:50,  1.25it/s]"
     ]
    },
    {
     "name": "stdout",
     "output_type": "stream",
     "text": [
      "0.7169816493988037 0.48127129673957825\n"
     ]
    },
    {
     "name": "stderr",
     "output_type": "stream",
     "text": [
      "\r",
      "  9%|███████                                                                          | 13/150 [00:10<01:50,  1.24it/s]"
     ]
    },
    {
     "name": "stdout",
     "output_type": "stream",
     "text": [
      "0.842878520488739 0.4552898705005646\n"
     ]
    },
    {
     "name": "stderr",
     "output_type": "stream",
     "text": [
      "\r",
      "  9%|███████▌                                                                         | 14/150 [00:11<01:49,  1.24it/s]"
     ]
    },
    {
     "name": "stdout",
     "output_type": "stream",
     "text": [
      "0.9509758949279785 0.7547361850738525\n"
     ]
    },
    {
     "name": "stderr",
     "output_type": "stream",
     "text": [
      "\r",
      " 10%|████████                                                                         | 15/150 [00:12<01:49,  1.24it/s]"
     ]
    },
    {
     "name": "stdout",
     "output_type": "stream",
     "text": [
      "0.9407243728637695 0.6398053169250488\n"
     ]
    },
    {
     "name": "stderr",
     "output_type": "stream",
     "text": [
      "\r",
      " 11%|████████▋                                                                        | 16/150 [00:12<01:47,  1.25it/s]"
     ]
    },
    {
     "name": "stdout",
     "output_type": "stream",
     "text": [
      "1.1814838647842407 0.6113225817680359\n"
     ]
    },
    {
     "name": "stderr",
     "output_type": "stream",
     "text": [
      "\r",
      " 11%|█████████▏                                                                       | 17/150 [00:13<01:46,  1.25it/s]"
     ]
    },
    {
     "name": "stdout",
     "output_type": "stream",
     "text": [
      "1.2108696699142456 0.5791255235671997\n"
     ]
    },
    {
     "name": "stderr",
     "output_type": "stream",
     "text": [
      "\r",
      " 12%|█████████▋                                                                       | 18/150 [00:14<01:45,  1.25it/s]"
     ]
    },
    {
     "name": "stdout",
     "output_type": "stream",
     "text": [
      "1.4109734296798706 0.8877047896385193\n"
     ]
    },
    {
     "name": "stderr",
     "output_type": "stream",
     "text": [
      "\r",
      " 13%|██████████▎                                                                      | 19/150 [00:15<01:44,  1.25it/s]"
     ]
    },
    {
     "name": "stdout",
     "output_type": "stream",
     "text": [
      "1.3550363779067993 0.8191046118736267\n"
     ]
    },
    {
     "name": "stderr",
     "output_type": "stream",
     "text": [
      "\r",
      " 13%|██████████▊                                                                      | 20/150 [00:16<01:43,  1.25it/s]"
     ]
    },
    {
     "name": "stdout",
     "output_type": "stream",
     "text": [
      "1.7060078382492065 0.8345133066177368\n"
     ]
    },
    {
     "name": "stderr",
     "output_type": "stream",
     "text": [
      "\r",
      " 14%|███████████▎                                                                     | 21/150 [00:16<01:44,  1.24it/s]"
     ]
    },
    {
     "name": "stdout",
     "output_type": "stream",
     "text": [
      "2.1771416664123535 0.7222317457199097\n"
     ]
    },
    {
     "name": "stderr",
     "output_type": "stream",
     "text": [
      "\r",
      " 15%|███████████▉                                                                     | 22/150 [00:17<01:43,  1.24it/s]"
     ]
    },
    {
     "name": "stdout",
     "output_type": "stream",
     "text": [
      "2.046705722808838 0.7528042197227478\n"
     ]
    },
    {
     "name": "stderr",
     "output_type": "stream",
     "text": [
      "\r",
      " 15%|████████████▍                                                                    | 23/150 [00:18<01:43,  1.23it/s]"
     ]
    },
    {
     "name": "stdout",
     "output_type": "stream",
     "text": [
      "2.236992359161377 0.8692156672477722\n"
     ]
    },
    {
     "name": "stderr",
     "output_type": "stream",
     "text": [
      "\r",
      " 16%|████████████▉                                                                    | 24/150 [00:19<01:41,  1.24it/s]"
     ]
    },
    {
     "name": "stdout",
     "output_type": "stream",
     "text": [
      "2.3086178302764893 0.9173439145088196\n"
     ]
    },
    {
     "name": "stderr",
     "output_type": "stream",
     "text": [
      "\r",
      " 17%|█████████████▌                                                                   | 25/150 [00:20<01:38,  1.26it/s]"
     ]
    },
    {
     "name": "stdout",
     "output_type": "stream",
     "text": [
      "2.3295812606811523 0.8482118248939514\n"
     ]
    },
    {
     "name": "stderr",
     "output_type": "stream",
     "text": [
      "\r",
      " 17%|██████████████                                                                   | 26/150 [00:20<01:37,  1.28it/s]"
     ]
    },
    {
     "name": "stdout",
     "output_type": "stream",
     "text": [
      "2.636137008666992 0.9619026780128479\n"
     ]
    },
    {
     "name": "stderr",
     "output_type": "stream",
     "text": [
      "\r",
      " 18%|██████████████▌                                                                  | 27/150 [00:21<01:36,  1.28it/s]"
     ]
    },
    {
     "name": "stdout",
     "output_type": "stream",
     "text": [
      "2.6561150550842285 0.8295554518699646\n"
     ]
    },
    {
     "name": "stderr",
     "output_type": "stream",
     "text": [
      "\r",
      " 19%|███████████████                                                                  | 28/150 [00:22<01:35,  1.28it/s]"
     ]
    },
    {
     "name": "stdout",
     "output_type": "stream",
     "text": [
      "2.7860023975372314 0.8040176630020142\n"
     ]
    },
    {
     "name": "stderr",
     "output_type": "stream",
     "text": [
      "\r",
      " 19%|███████████████▋                                                                 | 29/150 [00:28<04:33,  2.26s/it]"
     ]
    },
    {
     "name": "stdout",
     "output_type": "stream",
     "text": [
      "3.297241449356079 1.0966134071350098\n"
     ]
    },
    {
     "name": "stderr",
     "output_type": "stream",
     "text": [
      "\r",
      " 20%|████████████████▏                                                                | 30/150 [00:28<03:37,  1.81s/it]"
     ]
    },
    {
     "name": "stdout",
     "output_type": "stream",
     "text": [
      "3.741023540496826 0.8097541928291321\n"
     ]
    },
    {
     "name": "stderr",
     "output_type": "stream",
     "text": [
      "\r",
      " 21%|████████████████▋                                                                | 31/150 [00:29<02:59,  1.51s/it]"
     ]
    },
    {
     "name": "stdout",
     "output_type": "stream",
     "text": [
      "3.7372851371765137 0.902149498462677\n"
     ]
    },
    {
     "name": "stderr",
     "output_type": "stream",
     "text": [
      "\r",
      " 21%|█████████████████▎                                                               | 32/150 [00:30<02:32,  1.29s/it]"
     ]
    },
    {
     "name": "stdout",
     "output_type": "stream",
     "text": [
      "3.813044548034668 0.7799808382987976\n"
     ]
    },
    {
     "name": "stderr",
     "output_type": "stream",
     "text": [
      "\r",
      " 22%|█████████████████▊                                                               | 33/150 [00:31<02:11,  1.13s/it]"
     ]
    },
    {
     "name": "stdout",
     "output_type": "stream",
     "text": [
      "3.733024835586548 0.8653072118759155\n"
     ]
    },
    {
     "name": "stderr",
     "output_type": "stream",
     "text": [
      "\r",
      " 23%|██████████████████▎                                                              | 34/150 [00:31<01:57,  1.02s/it]"
     ]
    },
    {
     "name": "stdout",
     "output_type": "stream",
     "text": [
      "4.053285121917725 0.7149186730384827\n"
     ]
    },
    {
     "name": "stderr",
     "output_type": "stream",
     "text": [
      "\r",
      " 23%|██████████████████▉                                                              | 35/150 [00:32<01:48,  1.06it/s]"
     ]
    },
    {
     "name": "stdout",
     "output_type": "stream",
     "text": [
      "4.011135101318359 1.0358424186706543\n"
     ]
    },
    {
     "name": "stderr",
     "output_type": "stream",
     "text": [
      "\r",
      " 24%|███████████████████▍                                                             | 36/150 [00:33<01:42,  1.11it/s]"
     ]
    },
    {
     "name": "stdout",
     "output_type": "stream",
     "text": [
      "4.00888729095459 1.004302978515625\n"
     ]
    },
    {
     "name": "stderr",
     "output_type": "stream",
     "text": [
      "\r",
      " 25%|███████████████████▉                                                             | 37/150 [00:34<01:36,  1.17it/s]"
     ]
    },
    {
     "name": "stdout",
     "output_type": "stream",
     "text": [
      "3.909954309463501 0.5626329183578491\n"
     ]
    },
    {
     "name": "stderr",
     "output_type": "stream",
     "text": [
      "\r",
      " 25%|████████████████████▌                                                            | 38/150 [00:35<01:33,  1.20it/s]"
     ]
    },
    {
     "name": "stdout",
     "output_type": "stream",
     "text": [
      "4.154038429260254 0.7729143500328064\n"
     ]
    },
    {
     "name": "stderr",
     "output_type": "stream",
     "text": [
      "\r",
      " 26%|█████████████████████                                                            | 39/150 [00:35<01:30,  1.22it/s]"
     ]
    },
    {
     "name": "stdout",
     "output_type": "stream",
     "text": [
      "4.607759952545166 0.9350687861442566\n"
     ]
    },
    {
     "name": "stderr",
     "output_type": "stream",
     "text": [
      "\r",
      " 27%|█████████████████████▌                                                           | 40/150 [00:36<01:29,  1.23it/s]"
     ]
    },
    {
     "name": "stdout",
     "output_type": "stream",
     "text": [
      "4.821038722991943 0.6284358501434326\n"
     ]
    },
    {
     "name": "stderr",
     "output_type": "stream",
     "text": [
      "\r",
      " 27%|██████████████████████▏                                                          | 41/150 [00:37<01:27,  1.24it/s]"
     ]
    },
    {
     "name": "stdout",
     "output_type": "stream",
     "text": [
      "4.951395034790039 0.9416046142578125\n"
     ]
    },
    {
     "name": "stderr",
     "output_type": "stream",
     "text": [
      "\r",
      " 28%|██████████████████████▋                                                          | 42/150 [00:38<01:26,  1.25it/s]"
     ]
    },
    {
     "name": "stdout",
     "output_type": "stream",
     "text": [
      "5.102943420410156 0.6790631413459778\n"
     ]
    },
    {
     "name": "stderr",
     "output_type": "stream",
     "text": [
      "\r",
      " 29%|███████████████████████▏                                                         | 43/150 [00:39<01:26,  1.24it/s]"
     ]
    },
    {
     "name": "stdout",
     "output_type": "stream",
     "text": [
      "5.041772365570068 0.8909612894058228\n"
     ]
    },
    {
     "name": "stderr",
     "output_type": "stream",
     "text": [
      "\r",
      " 29%|███████████████████████▊                                                         | 44/150 [00:39<01:24,  1.25it/s]"
     ]
    },
    {
     "name": "stdout",
     "output_type": "stream",
     "text": [
      "5.277100563049316 0.765417218208313\n"
     ]
    },
    {
     "name": "stderr",
     "output_type": "stream",
     "text": [
      "\r",
      " 30%|████████████████████████▎                                                        | 45/150 [00:40<01:23,  1.25it/s]"
     ]
    },
    {
     "name": "stdout",
     "output_type": "stream",
     "text": [
      "5.399139881134033 0.9768909215927124\n"
     ]
    },
    {
     "name": "stderr",
     "output_type": "stream",
     "text": [
      "\r",
      " 31%|████████████████████████▊                                                        | 46/150 [00:41<01:21,  1.27it/s]"
     ]
    },
    {
     "name": "stdout",
     "output_type": "stream",
     "text": [
      "5.795106887817383 0.9582504034042358\n"
     ]
    },
    {
     "name": "stderr",
     "output_type": "stream",
     "text": [
      "\r",
      " 31%|█████████████████████████▍                                                       | 47/150 [00:42<01:19,  1.29it/s]"
     ]
    },
    {
     "name": "stdout",
     "output_type": "stream",
     "text": [
      "5.893804550170898 0.9150172472000122\n"
     ]
    },
    {
     "name": "stderr",
     "output_type": "stream",
     "text": [
      "\r",
      " 32%|█████████████████████████▉                                                       | 48/150 [00:42<01:18,  1.29it/s]"
     ]
    },
    {
     "name": "stdout",
     "output_type": "stream",
     "text": [
      "5.913039207458496 0.8822616338729858\n"
     ]
    },
    {
     "name": "stderr",
     "output_type": "stream",
     "text": [
      "\r",
      " 33%|██████████████████████████▍                                                      | 49/150 [00:43<01:18,  1.29it/s]"
     ]
    },
    {
     "name": "stdout",
     "output_type": "stream",
     "text": [
      "5.782633304595947 1.0227327346801758\n"
     ]
    },
    {
     "name": "stderr",
     "output_type": "stream",
     "text": [
      "\r",
      " 33%|███████████████████████████                                                      | 50/150 [00:44<01:17,  1.28it/s]"
     ]
    },
    {
     "name": "stdout",
     "output_type": "stream",
     "text": [
      "6.068204879760742 0.7281070351600647\n"
     ]
    },
    {
     "name": "stderr",
     "output_type": "stream",
     "text": [
      "\r",
      " 34%|███████████████████████████▌                                                     | 51/150 [00:45<01:16,  1.29it/s]"
     ]
    },
    {
     "name": "stdout",
     "output_type": "stream",
     "text": [
      "6.060328960418701 1.29909348487854\n"
     ]
    },
    {
     "name": "stderr",
     "output_type": "stream",
     "text": [
      "\r",
      " 35%|████████████████████████████                                                     | 52/150 [00:45<01:15,  1.30it/s]"
     ]
    },
    {
     "name": "stdout",
     "output_type": "stream",
     "text": [
      "6.413421154022217 0.9382522702217102\n"
     ]
    },
    {
     "name": "stderr",
     "output_type": "stream",
     "text": [
      "\r",
      " 35%|████████████████████████████▌                                                    | 53/150 [00:46<01:14,  1.30it/s]"
     ]
    },
    {
     "name": "stdout",
     "output_type": "stream",
     "text": [
      "6.572718620300293 0.693034291267395\n"
     ]
    },
    {
     "name": "stderr",
     "output_type": "stream",
     "text": [
      "\r",
      " 36%|█████████████████████████████▏                                                   | 54/150 [00:47<01:14,  1.28it/s]"
     ]
    },
    {
     "name": "stdout",
     "output_type": "stream",
     "text": [
      "6.818807601928711 0.7950159907341003\n"
     ]
    },
    {
     "name": "stderr",
     "output_type": "stream",
     "text": [
      "\r",
      " 37%|█████████████████████████████▋                                                   | 55/150 [00:48<01:13,  1.30it/s]"
     ]
    },
    {
     "name": "stdout",
     "output_type": "stream",
     "text": [
      "6.767598628997803 0.837078869342804\n"
     ]
    },
    {
     "name": "stderr",
     "output_type": "stream",
     "text": [
      "\r",
      " 37%|██████████████████████████████▏                                                  | 56/150 [00:49<01:11,  1.31it/s]"
     ]
    },
    {
     "name": "stdout",
     "output_type": "stream",
     "text": [
      "7.005888938903809 0.7967857718467712\n"
     ]
    },
    {
     "name": "stderr",
     "output_type": "stream",
     "text": [
      "\r",
      " 38%|██████████████████████████████▊                                                  | 57/150 [00:54<03:20,  2.15s/it]"
     ]
    },
    {
     "name": "stdout",
     "output_type": "stream",
     "text": [
      "6.980493545532227 0.6228010058403015\n"
     ]
    },
    {
     "name": "stderr",
     "output_type": "stream",
     "text": [
      "\r",
      " 39%|███████████████████████████████▎                                                 | 58/150 [00:55<02:39,  1.73s/it]"
     ]
    },
    {
     "name": "stdout",
     "output_type": "stream",
     "text": [
      "6.722102165222168 0.7253273129463196\n"
     ]
    },
    {
     "name": "stderr",
     "output_type": "stream",
     "text": [
      "\r",
      " 39%|███████████████████████████████▊                                                 | 59/150 [00:55<02:11,  1.44s/it]"
     ]
    },
    {
     "name": "stdout",
     "output_type": "stream",
     "text": [
      "7.031723499298096 0.8176966905593872\n"
     ]
    },
    {
     "name": "stderr",
     "output_type": "stream",
     "text": [
      "\r",
      " 40%|████████████████████████████████▍                                                | 60/150 [00:56<01:51,  1.24s/it]"
     ]
    },
    {
     "name": "stdout",
     "output_type": "stream",
     "text": [
      "7.114564895629883 0.9419154524803162\n"
     ]
    },
    {
     "name": "stderr",
     "output_type": "stream",
     "text": [
      "\r",
      " 41%|████████████████████████████████▉                                                | 61/150 [00:57<01:38,  1.11s/it]"
     ]
    },
    {
     "name": "stdout",
     "output_type": "stream",
     "text": [
      "7.2790093421936035 0.7205295562744141\n"
     ]
    },
    {
     "name": "stderr",
     "output_type": "stream",
     "text": [
      "\r",
      " 41%|█████████████████████████████████▍                                               | 62/150 [00:58<01:29,  1.01s/it]"
     ]
    },
    {
     "name": "stdout",
     "output_type": "stream",
     "text": [
      "7.059298038482666 0.5747666358947754\n"
     ]
    },
    {
     "name": "stderr",
     "output_type": "stream",
     "text": [
      "\r",
      " 42%|██████████████████████████████████                                               | 63/150 [00:59<01:22,  1.05it/s]"
     ]
    },
    {
     "name": "stdout",
     "output_type": "stream",
     "text": [
      "7.342576503753662 0.675012469291687\n"
     ]
    },
    {
     "name": "stderr",
     "output_type": "stream",
     "text": [
      "\r",
      " 43%|██████████████████████████████████▌                                              | 64/150 [00:59<01:18,  1.10it/s]"
     ]
    },
    {
     "name": "stdout",
     "output_type": "stream",
     "text": [
      "7.1507439613342285 0.8545525670051575\n"
     ]
    },
    {
     "name": "stderr",
     "output_type": "stream",
     "text": [
      "\r",
      " 43%|███████████████████████████████████                                              | 65/150 [01:00<01:13,  1.15it/s]"
     ]
    },
    {
     "name": "stdout",
     "output_type": "stream",
     "text": [
      "7.355363368988037 0.6424607038497925\n"
     ]
    },
    {
     "name": "stderr",
     "output_type": "stream",
     "text": [
      "\r",
      " 44%|███████████████████████████████████▋                                             | 66/150 [01:01<01:11,  1.18it/s]"
     ]
    },
    {
     "name": "stdout",
     "output_type": "stream",
     "text": [
      "7.321699142456055 0.6213875412940979\n"
     ]
    },
    {
     "name": "stderr",
     "output_type": "stream",
     "text": [
      "\r",
      " 45%|████████████████████████████████████▏                                            | 67/150 [01:02<01:08,  1.22it/s]"
     ]
    },
    {
     "name": "stdout",
     "output_type": "stream",
     "text": [
      "7.538383960723877 0.851034939289093\n"
     ]
    },
    {
     "name": "stderr",
     "output_type": "stream",
     "text": [
      "\r",
      " 45%|████████████████████████████████████▋                                            | 68/150 [01:03<01:05,  1.25it/s]"
     ]
    },
    {
     "name": "stdout",
     "output_type": "stream",
     "text": [
      "7.265010833740234 0.7878212928771973\n"
     ]
    },
    {
     "name": "stderr",
     "output_type": "stream",
     "text": [
      "\r",
      " 46%|█████████████████████████████████████▎                                           | 69/150 [01:03<01:04,  1.25it/s]"
     ]
    },
    {
     "name": "stdout",
     "output_type": "stream",
     "text": [
      "7.325710296630859 1.0052675008773804\n"
     ]
    },
    {
     "name": "stderr",
     "output_type": "stream",
     "text": [
      "\r",
      " 47%|█████████████████████████████████████▊                                           | 70/150 [01:04<01:04,  1.24it/s]"
     ]
    },
    {
     "name": "stdout",
     "output_type": "stream",
     "text": [
      "7.490034580230713 0.7717841863632202\n"
     ]
    },
    {
     "name": "stderr",
     "output_type": "stream",
     "text": [
      "\r",
      " 47%|██████████████████████████████████████▎                                          | 71/150 [01:05<01:03,  1.24it/s]"
     ]
    },
    {
     "name": "stdout",
     "output_type": "stream",
     "text": [
      "7.404775619506836 0.6957700848579407\n"
     ]
    },
    {
     "name": "stderr",
     "output_type": "stream",
     "text": [
      "\r",
      " 48%|██████████████████████████████████████▉                                          | 72/150 [01:06<01:01,  1.26it/s]"
     ]
    },
    {
     "name": "stdout",
     "output_type": "stream",
     "text": [
      "7.564228534698486 0.6569244265556335\n"
     ]
    },
    {
     "name": "stderr",
     "output_type": "stream",
     "text": [
      "\r",
      " 49%|███████████████████████████████████████▍                                         | 73/150 [01:06<01:00,  1.28it/s]"
     ]
    },
    {
     "name": "stdout",
     "output_type": "stream",
     "text": [
      "7.721134185791016 0.4759501516819\n"
     ]
    },
    {
     "name": "stderr",
     "output_type": "stream",
     "text": [
      "\r",
      " 49%|███████████████████████████████████████▉                                         | 74/150 [01:07<00:59,  1.28it/s]"
     ]
    },
    {
     "name": "stdout",
     "output_type": "stream",
     "text": [
      "7.637962818145752 0.6304170489311218\n"
     ]
    },
    {
     "name": "stderr",
     "output_type": "stream",
     "text": [
      "\r",
      " 50%|████████████████████████████████████████▌                                        | 75/150 [01:08<00:59,  1.27it/s]"
     ]
    },
    {
     "name": "stdout",
     "output_type": "stream",
     "text": [
      "7.642271041870117 0.9594812393188477\n"
     ]
    },
    {
     "name": "stderr",
     "output_type": "stream",
     "text": [
      "\r",
      " 51%|█████████████████████████████████████████                                        | 76/150 [01:09<00:57,  1.29it/s]"
     ]
    },
    {
     "name": "stdout",
     "output_type": "stream",
     "text": [
      "7.661111354827881 0.7428967952728271\n"
     ]
    },
    {
     "name": "stderr",
     "output_type": "stream",
     "text": [
      "\r",
      " 51%|█████████████████████████████████████████▌                                       | 77/150 [01:10<00:56,  1.28it/s]"
     ]
    },
    {
     "name": "stdout",
     "output_type": "stream",
     "text": [
      "7.425528526306152 0.7683427333831787\n"
     ]
    },
    {
     "name": "stderr",
     "output_type": "stream",
     "text": [
      "\r",
      " 52%|██████████████████████████████████████████                                       | 78/150 [01:10<00:55,  1.29it/s]"
     ]
    },
    {
     "name": "stdout",
     "output_type": "stream",
     "text": [
      "7.786019802093506 0.5925202965736389\n"
     ]
    },
    {
     "name": "stderr",
     "output_type": "stream",
     "text": [
      "\r",
      " 53%|██████████████████████████████████████████▋                                      | 79/150 [01:11<00:54,  1.29it/s]"
     ]
    },
    {
     "name": "stdout",
     "output_type": "stream",
     "text": [
      "7.5802388191223145 0.7880858778953552\n"
     ]
    },
    {
     "name": "stderr",
     "output_type": "stream",
     "text": [
      "\r",
      " 53%|███████████████████████████████████████████▏                                     | 80/150 [01:12<00:54,  1.29it/s]"
     ]
    },
    {
     "name": "stdout",
     "output_type": "stream",
     "text": [
      "7.7048211097717285 0.8205273747444153\n"
     ]
    },
    {
     "name": "stderr",
     "output_type": "stream",
     "text": [
      "\r",
      " 54%|███████████████████████████████████████████▋                                     | 81/150 [01:13<00:53,  1.28it/s]"
     ]
    },
    {
     "name": "stdout",
     "output_type": "stream",
     "text": [
      "7.771897792816162 0.6122041940689087\n"
     ]
    },
    {
     "name": "stderr",
     "output_type": "stream",
     "text": [
      "\r",
      " 55%|████████████████████████████████████████████▎                                    | 82/150 [01:13<00:52,  1.29it/s]"
     ]
    },
    {
     "name": "stdout",
     "output_type": "stream",
     "text": [
      "7.55930233001709 0.7374048233032227\n"
     ]
    },
    {
     "name": "stderr",
     "output_type": "stream",
     "text": [
      "\r",
      " 55%|████████████████████████████████████████████▊                                    | 83/150 [01:14<00:52,  1.28it/s]"
     ]
    },
    {
     "name": "stdout",
     "output_type": "stream",
     "text": [
      "7.689758777618408 0.8039982914924622\n"
     ]
    },
    {
     "name": "stderr",
     "output_type": "stream",
     "text": [
      "\r",
      " 56%|█████████████████████████████████████████████▎                                   | 84/150 [01:15<00:52,  1.26it/s]"
     ]
    },
    {
     "name": "stdout",
     "output_type": "stream",
     "text": [
      "7.848013401031494 0.5532772541046143\n"
     ]
    },
    {
     "name": "stderr",
     "output_type": "stream",
     "text": [
      "\r",
      " 57%|█████████████████████████████████████████████▉                                   | 85/150 [01:20<02:20,  2.17s/it]"
     ]
    },
    {
     "name": "stdout",
     "output_type": "stream",
     "text": [
      "7.428961753845215 0.6879716515541077\n"
     ]
    },
    {
     "name": "stderr",
     "output_type": "stream",
     "text": [
      "\r",
      " 57%|██████████████████████████████████████████████▍                                  | 86/150 [01:21<01:51,  1.75s/it]"
     ]
    },
    {
     "name": "stdout",
     "output_type": "stream",
     "text": [
      "7.433859825134277 0.8406473398208618\n"
     ]
    },
    {
     "name": "stderr",
     "output_type": "stream",
     "text": [
      "\r",
      " 58%|██████████████████████████████████████████████▉                                  | 87/150 [01:22<01:32,  1.46s/it]"
     ]
    },
    {
     "name": "stdout",
     "output_type": "stream",
     "text": [
      "7.6037163734436035 0.8798619508743286\n"
     ]
    },
    {
     "name": "stderr",
     "output_type": "stream",
     "text": [
      "\r",
      " 59%|███████████████████████████████████████████████▌                                 | 88/150 [01:23<01:18,  1.27s/it]"
     ]
    },
    {
     "name": "stdout",
     "output_type": "stream",
     "text": [
      "7.5657124519348145 0.8644944429397583\n"
     ]
    },
    {
     "name": "stderr",
     "output_type": "stream",
     "text": [
      "\r",
      " 59%|████████████████████████████████████████████████                                 | 89/150 [01:24<01:08,  1.12s/it]"
     ]
    },
    {
     "name": "stdout",
     "output_type": "stream",
     "text": [
      "7.545859336853027 1.0756654739379883\n"
     ]
    },
    {
     "name": "stderr",
     "output_type": "stream",
     "text": [
      "\r",
      " 60%|████████████████████████████████████████████████▌                                | 90/150 [01:24<01:00,  1.01s/it]"
     ]
    },
    {
     "name": "stdout",
     "output_type": "stream",
     "text": [
      "7.663416385650635 0.836540937423706\n"
     ]
    },
    {
     "name": "stderr",
     "output_type": "stream",
     "text": [
      "\r",
      " 61%|█████████████████████████████████████████████████▏                               | 91/150 [01:25<00:56,  1.05it/s]"
     ]
    },
    {
     "name": "stdout",
     "output_type": "stream",
     "text": [
      "8.160431861877441 0.9569544196128845\n"
     ]
    },
    {
     "name": "stderr",
     "output_type": "stream",
     "text": [
      "\r",
      " 61%|█████████████████████████████████████████████████▋                               | 92/150 [01:26<00:52,  1.11it/s]"
     ]
    },
    {
     "name": "stdout",
     "output_type": "stream",
     "text": [
      "8.14013957977295 0.7597331404685974\n"
     ]
    },
    {
     "name": "stderr",
     "output_type": "stream",
     "text": [
      "\r",
      " 62%|██████████████████████████████████████████████████▏                              | 93/150 [01:27<00:49,  1.16it/s]"
     ]
    },
    {
     "name": "stdout",
     "output_type": "stream",
     "text": [
      "7.799151420593262 0.9552100300788879\n"
     ]
    },
    {
     "name": "stderr",
     "output_type": "stream",
     "text": [
      "\r",
      " 63%|██████████████████████████████████████████████████▊                              | 94/150 [01:28<00:47,  1.18it/s]"
     ]
    },
    {
     "name": "stdout",
     "output_type": "stream",
     "text": [
      "8.329904556274414 0.7262579798698425\n"
     ]
    },
    {
     "name": "stderr",
     "output_type": "stream",
     "text": [
      "\r",
      " 63%|███████████████████████████████████████████████████▎                             | 95/150 [01:28<00:45,  1.21it/s]"
     ]
    },
    {
     "name": "stdout",
     "output_type": "stream",
     "text": [
      "8.143192291259766 0.807198703289032\n"
     ]
    },
    {
     "name": "stderr",
     "output_type": "stream",
     "text": [
      "\r",
      " 64%|███████████████████████████████████████████████████▊                             | 96/150 [01:29<00:44,  1.20it/s]"
     ]
    },
    {
     "name": "stdout",
     "output_type": "stream",
     "text": [
      "8.235368728637695 0.7790347337722778\n"
     ]
    },
    {
     "name": "stderr",
     "output_type": "stream",
     "text": [
      "\r",
      " 65%|████████████████████████████████████████████████████▍                            | 97/150 [01:30<00:44,  1.20it/s]"
     ]
    },
    {
     "name": "stdout",
     "output_type": "stream",
     "text": [
      "8.395419120788574 0.8342151641845703\n"
     ]
    },
    {
     "name": "stderr",
     "output_type": "stream",
     "text": [
      "\r",
      " 65%|████████████████████████████████████████████████████▉                            | 98/150 [01:31<00:42,  1.23it/s]"
     ]
    },
    {
     "name": "stdout",
     "output_type": "stream",
     "text": [
      "8.305871963500977 0.7883169651031494\n"
     ]
    },
    {
     "name": "stderr",
     "output_type": "stream",
     "text": [
      "\r",
      " 66%|█████████████████████████████████████████████████████▍                           | 99/150 [01:32<00:40,  1.25it/s]"
     ]
    },
    {
     "name": "stdout",
     "output_type": "stream",
     "text": [
      "8.247819900512695 0.8667175769805908\n"
     ]
    },
    {
     "name": "stderr",
     "output_type": "stream",
     "text": [
      "\r",
      " 67%|█████████████████████████████████████████████████████▎                          | 100/150 [01:32<00:39,  1.27it/s]"
     ]
    },
    {
     "name": "stdout",
     "output_type": "stream",
     "text": [
      "8.494342803955078 0.8290177583694458\n"
     ]
    },
    {
     "name": "stderr",
     "output_type": "stream",
     "text": [
      "\r",
      " 67%|█████████████████████████████████████████████████████▊                          | 101/150 [01:33<00:38,  1.26it/s]"
     ]
    },
    {
     "name": "stdout",
     "output_type": "stream",
     "text": [
      "8.362462043762207 0.7189554572105408\n"
     ]
    },
    {
     "name": "stderr",
     "output_type": "stream",
     "text": [
      "\r",
      " 68%|██████████████████████████████████████████████████████▍                         | 102/150 [01:34<00:37,  1.28it/s]"
     ]
    },
    {
     "name": "stdout",
     "output_type": "stream",
     "text": [
      "8.698585510253906 0.7503333687782288\n"
     ]
    },
    {
     "name": "stderr",
     "output_type": "stream",
     "text": [
      "\r",
      " 69%|██████████████████████████████████████████████████████▉                         | 103/150 [01:35<00:36,  1.30it/s]"
     ]
    },
    {
     "name": "stdout",
     "output_type": "stream",
     "text": [
      "8.569766998291016 0.8877788186073303\n"
     ]
    },
    {
     "name": "stderr",
     "output_type": "stream",
     "text": [
      "\r",
      " 69%|███████████████████████████████████████████████████████▍                        | 104/150 [01:35<00:35,  1.30it/s]"
     ]
    },
    {
     "name": "stdout",
     "output_type": "stream",
     "text": [
      "8.68122673034668 0.7224293351173401\n"
     ]
    },
    {
     "name": "stderr",
     "output_type": "stream",
     "text": [
      "\r",
      " 70%|████████████████████████████████████████████████████████                        | 105/150 [01:36<00:34,  1.30it/s]"
     ]
    },
    {
     "name": "stdout",
     "output_type": "stream",
     "text": [
      "8.810392379760742 0.8273818492889404\n"
     ]
    },
    {
     "name": "stderr",
     "output_type": "stream",
     "text": [
      "\r",
      " 71%|████████████████████████████████████████████████████████▌                       | 106/150 [01:37<00:33,  1.30it/s]"
     ]
    },
    {
     "name": "stdout",
     "output_type": "stream",
     "text": [
      "8.741385459899902 0.6965889930725098\n"
     ]
    },
    {
     "name": "stderr",
     "output_type": "stream",
     "text": [
      "\r",
      " 71%|█████████████████████████████████████████████████████████                       | 107/150 [01:38<00:32,  1.31it/s]"
     ]
    },
    {
     "name": "stdout",
     "output_type": "stream",
     "text": [
      "8.588081359863281 1.1355961561203003\n"
     ]
    },
    {
     "name": "stderr",
     "output_type": "stream",
     "text": [
      "\r",
      " 72%|█████████████████████████████████████████████████████████▌                      | 108/150 [01:38<00:32,  1.31it/s]"
     ]
    },
    {
     "name": "stdout",
     "output_type": "stream",
     "text": [
      "8.59691047668457 1.0343948602676392\n"
     ]
    },
    {
     "name": "stderr",
     "output_type": "stream",
     "text": [
      "\r",
      " 73%|██████████████████████████████████████████████████████████▏                     | 109/150 [01:39<00:31,  1.31it/s]"
     ]
    },
    {
     "name": "stdout",
     "output_type": "stream",
     "text": [
      "8.740985870361328 0.7928411960601807\n"
     ]
    },
    {
     "name": "stderr",
     "output_type": "stream",
     "text": [
      "\r",
      " 73%|██████████████████████████████████████████████████████████▋                     | 110/150 [01:40<00:30,  1.29it/s]"
     ]
    },
    {
     "name": "stdout",
     "output_type": "stream",
     "text": [
      "8.893163681030273 0.7432565093040466\n"
     ]
    },
    {
     "name": "stderr",
     "output_type": "stream",
     "text": [
      "\r",
      " 74%|███████████████████████████████████████████████████████████▏                    | 111/150 [01:41<00:30,  1.30it/s]"
     ]
    },
    {
     "name": "stdout",
     "output_type": "stream",
     "text": [
      "8.766124725341797 0.8571431636810303\n"
     ]
    },
    {
     "name": "stderr",
     "output_type": "stream",
     "text": [
      "\r",
      " 75%|███████████████████████████████████████████████████████████▋                    | 112/150 [01:41<00:29,  1.29it/s]"
     ]
    },
    {
     "name": "stdout",
     "output_type": "stream",
     "text": [
      "8.619865417480469 0.8677952289581299\n"
     ]
    },
    {
     "name": "stderr",
     "output_type": "stream",
     "text": [
      "\r",
      " 75%|████████████████████████████████████████████████████████████▎                   | 113/150 [01:47<01:21,  2.21s/it]"
     ]
    },
    {
     "name": "stdout",
     "output_type": "stream",
     "text": [
      "8.670317649841309 0.9111752510070801\n"
     ]
    },
    {
     "name": "stderr",
     "output_type": "stream",
     "text": [
      "\r",
      " 76%|████████████████████████████████████████████████████████████▊                   | 114/150 [01:48<01:04,  1.79s/it]"
     ]
    },
    {
     "name": "stdout",
     "output_type": "stream",
     "text": [
      "8.903661727905273 0.6381197571754456\n"
     ]
    },
    {
     "name": "stderr",
     "output_type": "stream",
     "text": [
      "\r",
      " 77%|█████████████████████████████████████████████████████████████▎                  | 115/150 [01:49<00:51,  1.48s/it]"
     ]
    },
    {
     "name": "stdout",
     "output_type": "stream",
     "text": [
      "8.603670120239258 0.846275806427002\n"
     ]
    },
    {
     "name": "stderr",
     "output_type": "stream",
     "text": [
      "\r",
      " 77%|█████████████████████████████████████████████████████████████▊                  | 116/150 [01:49<00:42,  1.26s/it]"
     ]
    },
    {
     "name": "stdout",
     "output_type": "stream",
     "text": [
      "8.814891815185547 0.8071084022521973\n"
     ]
    },
    {
     "name": "stderr",
     "output_type": "stream",
     "text": [
      "\r",
      " 78%|██████████████████████████████████████████████████████████████▍                 | 117/150 [01:50<00:36,  1.11s/it]"
     ]
    },
    {
     "name": "stdout",
     "output_type": "stream",
     "text": [
      "8.786365509033203 0.647441029548645\n"
     ]
    },
    {
     "name": "stderr",
     "output_type": "stream",
     "text": [
      "\r",
      " 79%|██████████████████████████████████████████████████████████████▉                 | 118/150 [01:51<00:32,  1.02s/it]"
     ]
    },
    {
     "name": "stdout",
     "output_type": "stream",
     "text": [
      "8.546343803405762 0.967394232749939\n"
     ]
    },
    {
     "name": "stderr",
     "output_type": "stream",
     "text": [
      "\r",
      " 79%|███████████████████████████████████████████████████████████████▍                | 119/150 [01:52<00:29,  1.06it/s]"
     ]
    },
    {
     "name": "stdout",
     "output_type": "stream",
     "text": [
      "8.80628490447998 0.7173966765403748\n"
     ]
    },
    {
     "name": "stderr",
     "output_type": "stream",
     "text": [
      "\r",
      " 80%|████████████████████████████████████████████████████████████████                | 120/150 [01:52<00:26,  1.13it/s]"
     ]
    },
    {
     "name": "stdout",
     "output_type": "stream",
     "text": [
      "8.662528038024902 1.0741167068481445\n"
     ]
    },
    {
     "name": "stderr",
     "output_type": "stream",
     "text": [
      "\r",
      " 81%|████████████████████████████████████████████████████████████████▌               | 121/150 [01:53<00:25,  1.15it/s]"
     ]
    },
    {
     "name": "stdout",
     "output_type": "stream",
     "text": [
      "8.919642448425293 0.8289440870285034\n"
     ]
    },
    {
     "name": "stderr",
     "output_type": "stream",
     "text": [
      "\r",
      " 81%|█████████████████████████████████████████████████████████████████               | 122/150 [01:54<00:23,  1.18it/s]"
     ]
    },
    {
     "name": "stdout",
     "output_type": "stream",
     "text": [
      "9.064971923828125 0.8362946510314941\n"
     ]
    },
    {
     "name": "stderr",
     "output_type": "stream",
     "text": [
      "\r",
      " 82%|█████████████████████████████████████████████████████████████████▌              | 123/150 [01:55<00:22,  1.21it/s]"
     ]
    },
    {
     "name": "stdout",
     "output_type": "stream",
     "text": [
      "8.746824264526367 0.8677470684051514\n"
     ]
    },
    {
     "name": "stderr",
     "output_type": "stream",
     "text": [
      "\r",
      " 83%|██████████████████████████████████████████████████████████████████▏             | 124/150 [01:56<00:21,  1.24it/s]"
     ]
    },
    {
     "name": "stdout",
     "output_type": "stream",
     "text": [
      "8.771587371826172 0.994427502155304\n"
     ]
    },
    {
     "name": "stderr",
     "output_type": "stream",
     "text": [
      "\r",
      " 83%|██████████████████████████████████████████████████████████████████▋             | 125/150 [01:56<00:19,  1.25it/s]"
     ]
    },
    {
     "name": "stdout",
     "output_type": "stream",
     "text": [
      "8.819711685180664 0.9390766024589539\n"
     ]
    },
    {
     "name": "stderr",
     "output_type": "stream",
     "text": [
      "\r",
      " 84%|███████████████████████████████████████████████████████████████████▏            | 126/150 [01:57<00:19,  1.20it/s]"
     ]
    },
    {
     "name": "stdout",
     "output_type": "stream",
     "text": [
      "9.211349487304688 0.5704978704452515\n"
     ]
    },
    {
     "name": "stderr",
     "output_type": "stream",
     "text": [
      "\r",
      " 85%|███████████████████████████████████████████████████████████████████▋            | 127/150 [01:58<00:19,  1.20it/s]"
     ]
    },
    {
     "name": "stdout",
     "output_type": "stream",
     "text": [
      "9.036216735839844 0.8241449594497681\n"
     ]
    },
    {
     "name": "stderr",
     "output_type": "stream",
     "text": [
      "\r",
      " 85%|████████████████████████████████████████████████████████████████████▎           | 128/150 [01:59<00:18,  1.21it/s]"
     ]
    },
    {
     "name": "stdout",
     "output_type": "stream",
     "text": [
      "9.38420581817627 0.9042428135871887\n"
     ]
    },
    {
     "name": "stderr",
     "output_type": "stream",
     "text": [
      "\r",
      " 86%|████████████████████████████████████████████████████████████████████▊           | 129/150 [02:00<00:16,  1.24it/s]"
     ]
    },
    {
     "name": "stdout",
     "output_type": "stream",
     "text": [
      "9.73298454284668 0.6119498610496521\n"
     ]
    },
    {
     "name": "stderr",
     "output_type": "stream",
     "text": [
      "\r",
      " 87%|█████████████████████████████████████████████████████████████████████▎          | 130/150 [02:01<00:16,  1.23it/s]"
     ]
    },
    {
     "name": "stdout",
     "output_type": "stream",
     "text": [
      "9.32697582244873 0.7778255343437195\n"
     ]
    },
    {
     "name": "stderr",
     "output_type": "stream",
     "text": [
      "\r",
      " 87%|█████████████████████████████████████████████████████████████████████▊          | 131/150 [02:01<00:15,  1.25it/s]"
     ]
    },
    {
     "name": "stdout",
     "output_type": "stream",
     "text": [
      "9.589591026306152 0.5248876214027405\n"
     ]
    },
    {
     "name": "stderr",
     "output_type": "stream",
     "text": [
      "\r",
      " 88%|██████████████████████████████████████████████████████████████████████▍         | 132/150 [02:02<00:14,  1.26it/s]"
     ]
    },
    {
     "name": "stdout",
     "output_type": "stream",
     "text": [
      "9.417998313903809 0.6918389797210693\n"
     ]
    },
    {
     "name": "stderr",
     "output_type": "stream",
     "text": [
      "\r",
      " 89%|██████████████████████████████████████████████████████████████████████▉         | 133/150 [02:03<00:13,  1.26it/s]"
     ]
    },
    {
     "name": "stdout",
     "output_type": "stream",
     "text": [
      "9.42817211151123 0.7821676135063171\n"
     ]
    },
    {
     "name": "stderr",
     "output_type": "stream",
     "text": [
      "\r",
      " 89%|███████████████████████████████████████████████████████████████████████▍        | 134/150 [02:04<00:12,  1.28it/s]"
     ]
    },
    {
     "name": "stdout",
     "output_type": "stream",
     "text": [
      "9.429948806762695 0.8022232055664062\n"
     ]
    },
    {
     "name": "stderr",
     "output_type": "stream",
     "text": [
      "\r",
      " 90%|████████████████████████████████████████████████████████████████████████        | 135/150 [02:05<00:12,  1.25it/s]"
     ]
    },
    {
     "name": "stdout",
     "output_type": "stream",
     "text": [
      "9.686929702758789 0.9629733562469482\n"
     ]
    },
    {
     "name": "stderr",
     "output_type": "stream",
     "text": [
      "\r",
      " 91%|████████████████████████████████████████████████████████████████████████▌       | 136/150 [02:05<00:11,  1.25it/s]"
     ]
    },
    {
     "name": "stdout",
     "output_type": "stream",
     "text": [
      "9.806777000427246 0.7282326221466064\n"
     ]
    },
    {
     "name": "stderr",
     "output_type": "stream",
     "text": [
      "\r",
      " 91%|█████████████████████████████████████████████████████████████████████████       | 137/150 [02:06<00:10,  1.24it/s]"
     ]
    },
    {
     "name": "stdout",
     "output_type": "stream",
     "text": [
      "9.657626152038574 0.6437035202980042\n"
     ]
    },
    {
     "name": "stderr",
     "output_type": "stream",
     "text": [
      "\r",
      " 92%|█████████████████████████████████████████████████████████████████████████▌      | 138/150 [02:07<00:09,  1.25it/s]"
     ]
    },
    {
     "name": "stdout",
     "output_type": "stream",
     "text": [
      "9.782644271850586 0.651511549949646\n"
     ]
    },
    {
     "name": "stderr",
     "output_type": "stream",
     "text": [
      "\r",
      " 93%|██████████████████████████████████████████████████████████████████████████▏     | 139/150 [02:08<00:08,  1.27it/s]"
     ]
    },
    {
     "name": "stdout",
     "output_type": "stream",
     "text": [
      "9.815011978149414 0.547455906867981\n"
     ]
    },
    {
     "name": "stderr",
     "output_type": "stream",
     "text": [
      "\r",
      " 93%|██████████████████████████████████████████████████████████████████████████▋     | 140/150 [02:08<00:07,  1.28it/s]"
     ]
    },
    {
     "name": "stdout",
     "output_type": "stream",
     "text": [
      "9.835113525390625 0.6535630226135254\n"
     ]
    },
    {
     "name": "stderr",
     "output_type": "stream",
     "text": [
      "\r",
      " 94%|███████████████████████████████████████████████████████████████████████████▏    | 141/150 [02:14<00:20,  2.24s/it]"
     ]
    },
    {
     "name": "stdout",
     "output_type": "stream",
     "text": [
      "9.82192611694336 0.6337026953697205\n"
     ]
    },
    {
     "name": "stderr",
     "output_type": "stream",
     "text": [
      "\r",
      " 95%|███████████████████████████████████████████████████████████████████████████▋    | 142/150 [02:15<00:14,  1.80s/it]"
     ]
    },
    {
     "name": "stdout",
     "output_type": "stream",
     "text": [
      "10.00864028930664 0.6406517028808594\n"
     ]
    },
    {
     "name": "stderr",
     "output_type": "stream",
     "text": [
      "\r",
      " 95%|████████████████████████████████████████████████████████████████████████████▎   | 143/150 [02:16<00:10,  1.51s/it]"
     ]
    },
    {
     "name": "stdout",
     "output_type": "stream",
     "text": [
      "10.10280990600586 0.6364752054214478\n"
     ]
    },
    {
     "name": "stderr",
     "output_type": "stream",
     "text": [
      "\r",
      " 96%|████████████████████████████████████████████████████████████████████████████▊   | 144/150 [02:16<00:07,  1.29s/it]"
     ]
    },
    {
     "name": "stdout",
     "output_type": "stream",
     "text": [
      "10.327391624450684 0.47238144278526306\n"
     ]
    },
    {
     "name": "stderr",
     "output_type": "stream",
     "text": [
      "\r",
      " 97%|█████████████████████████████████████████████████████████████████████████████▎  | 145/150 [02:17<00:05,  1.13s/it]"
     ]
    },
    {
     "name": "stdout",
     "output_type": "stream",
     "text": [
      "10.168008804321289 0.5705749988555908\n"
     ]
    },
    {
     "name": "stderr",
     "output_type": "stream",
     "text": [
      "\r",
      " 97%|█████████████████████████████████████████████████████████████████████████████▊  | 146/150 [02:18<00:04,  1.03s/it]"
     ]
    },
    {
     "name": "stdout",
     "output_type": "stream",
     "text": [
      "10.084059715270996 0.6282005906105042\n"
     ]
    },
    {
     "name": "stderr",
     "output_type": "stream",
     "text": [
      "\r",
      " 98%|██████████████████████████████████████████████████████████████████████████████▍ | 147/150 [02:19<00:02,  1.04it/s]"
     ]
    },
    {
     "name": "stdout",
     "output_type": "stream",
     "text": [
      "9.976367950439453 0.70644211769104\n"
     ]
    },
    {
     "name": "stderr",
     "output_type": "stream",
     "text": [
      "\r",
      " 99%|██████████████████████████████████████████████████████████████████████████████▉ | 148/150 [02:20<00:01,  1.10it/s]"
     ]
    },
    {
     "name": "stdout",
     "output_type": "stream",
     "text": [
      "9.947565078735352 0.5458572506904602\n"
     ]
    },
    {
     "name": "stderr",
     "output_type": "stream",
     "text": [
      "\r",
      " 99%|███████████████████████████████████████████████████████████████████████████████▍| 149/150 [02:20<00:00,  1.14it/s]"
     ]
    },
    {
     "name": "stdout",
     "output_type": "stream",
     "text": [
      "10.246428489685059 0.6886507868766785\n"
     ]
    },
    {
     "name": "stderr",
     "output_type": "stream",
     "text": [
      "100%|████████████████████████████████████████████████████████████████████████████████| 150/150 [02:21<00:00,  1.06it/s]\n"
     ]
    }
   ],
   "source": [
    "import cma\n",
    "es = cma.CMAEvolutionStrategy(4096 * [0], 1)\n",
    "for i in tqdm(range(150)):\n",
    "    z = es.ask()\n",
    "    z_arr = np.array(z)\n",
    "    imgs = G.visualize(torch.tensor(z_arr).float().cuda())\n",
    "    resp = scorer.score_tsr_wgrad(imgs, B=40)\n",
    "    es.tell(z, (-resp).tolist())\n",
    "    print(\"{} {}\".format(resp.mean(),resp.std()))\n",
    "    with torch.no_grad():\n",
    "        VGG.features(imgs)\n",
    "    del imgs\n",
    "    featFetcher.update_corr(resp.cpu())\n",
    "\n",
    "featFetcher.calc_corr()"
   ]
  },
  {
   "cell_type": "code",
   "execution_count": 10,
   "id": "fab1fce9",
   "metadata": {
    "scrolled": false
   },
   "outputs": [
    {
     "name": "stdout",
     "output_type": "stream",
     "text": [
      "Sparsity after T threshold 0.381\n",
      "NMF explained variance 0.328\n",
      "Factor0 norm 24.66\n",
      "Factor1 norm 27.44\n",
      "Factor2 norm 23.28\n",
      "Correlation to the corr coef tensor 0.600\n"
     ]
    },
    {
     "name": "stderr",
     "output_type": "stream",
     "text": [
      "C:\\ProgramData\\Anaconda3\\lib\\site-packages\\ipykernel\\ipkernel.py:287: DeprecationWarning: `should_run_async` will not call `transform_cell` automatically in the future. Please pass the result to `transformed_cell` argument and any exception that happen during thetransform in `preprocessing_exc_tuple` in IPython 7.17 and above.\n",
      "  and should_run_async(code)\n"
     ]
    },
    {
     "data": {
      "image/png": "[encoded data removed]",
      "text/plain": [
       "<Figure size 432x288 with 1 Axes>"
      ]
     },
     "metadata": {
      "needs_background": "light"
     },
     "output_type": "display_data"
    },
    {
     "data": {
      "image/png": "[encoded data removed]",
      "text/plain": [
       "<Figure size 583.2x360 with 9 Axes>"
      ]
     },
     "metadata": {
      "needs_background": "light"
     },
     "output_type": "display_data"
    }
   ],
   "source": [
    "cctsr = featFetcher.cctsr['conv5_3'].numpy()\n",
    "Ttsr = featFetcher.Ttsr['conv5_3'].numpy()\n",
    "rect_mode = \"Tthresh\"; thresh = (None, 5)\n",
    "bdr = 1; NF = 3\n",
    "Hmat, Hmaps, ccfactor, FactStat = tsr_posneg_factorize(rectify_tsr(cctsr, rect_mode, thresh, Ttsr=Ttsr),\n",
    "                     bdr=bdr, Nfactor=NF, show=True,)"
   ]
  },
  {
   "cell_type": "code",
   "execution_count": 14,
   "id": "00bf68b5",
   "metadata": {},
   "outputs": [
    {
     "name": "stderr",
     "output_type": "stream",
     "text": [
      "C:\\ProgramData\\Anaconda3\\lib\\site-packages\\ipykernel\\ipkernel.py:287: DeprecationWarning: `should_run_async` will not call `transform_cell` automatically in the future. Please pass the result to `transformed_cell` argument and any exception that happen during thetransform in `preprocessing_exc_tuple` in IPython 7.17 and above.\n",
      "  and should_run_async(code)\n"
     ]
    },
    {
     "data": {
      "image/png": "[encoded data removed]",
      "text/plain": [
       "<Figure size 432x288 with 2 Axes>"
      ]
     },
     "metadata": {
      "needs_background": "light"
     },
     "output_type": "display_data"
    }
   ],
   "source": [
    "plt.imshow(np.abs(cctsr).max(axis=0))\n",
    "plt.colorbar()\n",
    "plt.show()"
   ]
  },
  {
   "cell_type": "code",
   "execution_count": 13,
   "id": "2570117c",
   "metadata": {},
   "outputs": [
    {
     "name": "stderr",
     "output_type": "stream",
     "text": [
      "C:\\ProgramData\\Anaconda3\\lib\\site-packages\\ipykernel\\ipkernel.py:287: DeprecationWarning: `should_run_async` will not call `transform_cell` automatically in the future. Please pass the result to `transformed_cell` argument and any exception that happen during thetransform in `preprocessing_exc_tuple` in IPython 7.17 and above.\n",
      "  and should_run_async(code)\n"
     ]
    },
    {
     "data": {
      "image/png": "[encoded data removed]",
      "text/plain": [
       "<Figure size 432x288 with 2 Axes>"
      ]
     },
     "metadata": {
      "needs_background": "light"
     },
     "output_type": "display_data"
    }
   ],
   "source": [
    "plt.imshow(np.abs(cctsr).mean(axis=0))\n",
    "plt.colorbar()\n",
    "plt.show()"
   ]
  },
  {
   "cell_type": "code",
   "execution_count": 15,
   "id": "f9d3673f",
   "metadata": {},
   "outputs": [
    {
     "name": "stdout",
     "output_type": "stream",
     "text": [
      "Sparsity after T threshold 0.381\n"
     ]
    },
    {
     "name": "stderr",
     "output_type": "stream",
     "text": [
      "C:\\ProgramData\\Anaconda3\\lib\\site-packages\\ipykernel\\ipkernel.py:287: DeprecationWarning: `should_run_async` will not call `transform_cell` automatically in the future. Please pass the result to `transformed_cell` argument and any exception that happen during thetransform in `preprocessing_exc_tuple` in IPython 7.17 and above.\n",
      "  and should_run_async(code)\n"
     ]
    }
   ],
   "source": [
    "layer = 'conv5_3'\n",
    "netname = \"vgg16\"\n",
    "cctsr_rect = rectify_tsr(cctsr, rect_mode, thresh, Ttsr=Ttsr)\n",
    "model_scorer = CorrFeatScore()\n",
    "model_scorer.register_hooks(VGG, layer, netname=netname)\n",
    "# model_scorer.register_weights({layer: cctsr_rect})\n",
    "model_scorer.register_weights({layer: cctsr})"
   ]
  },
  {
   "cell_type": "code",
   "execution_count": 16,
   "id": "bc609519",
   "metadata": {
    "scrolled": true
   },
   "outputs": [
    {
     "name": "stderr",
     "output_type": "stream",
     "text": [
      "C:\\ProgramData\\Anaconda3\\lib\\site-packages\\ipykernel\\ipkernel.py:287: DeprecationWarning: `should_run_async` will not call `transform_cell` automatically in the future. Please pass the result to `transformed_cell` argument and any exception that happen during thetransform in `preprocessing_exc_tuple` in IPython 7.17 and above.\n",
      "  and should_run_async(code)\n",
      "100%|█████████████████████████████████████████████████████████████████████████████████| 40/40 [00:00<00:00, 103.33it/s]\n",
      "100%|██████████████████████████████████████████████████████████████████████████████████| 40/40 [00:00<00:00, 95.24it/s]\n",
      "100%|██████████████████████████████████████████████████████████████████████████████████| 40/40 [00:00<00:00, 95.47it/s]\n",
      "100%|██████████████████████████████████████████████████████████████████████████████████| 40/40 [00:00<00:00, 96.12it/s]\n",
      "100%|█████████████████████████████████████████████████████████████████████████████████| 40/40 [00:00<00:00, 101.51it/s]\n",
      "100%|█████████████████████████████████████████████████████████████████████████████████| 40/40 [00:00<00:00, 100.25it/s]\n",
      "100%|██████████████████████████████████████████████████████████████████████████████████| 40/40 [00:00<00:00, 97.33it/s]\n",
      "100%|██████████████████████████████████████████████████████████████████████████████████| 40/40 [00:00<00:00, 94.30it/s]\n",
      "100%|██████████████████████████████████████████████████████████████████████████████████| 40/40 [00:00<00:00, 96.62it/s]\n",
      "100%|█████████████████████████████████████████████████████████████████████████████████| 40/40 [00:00<00:00, 101.01it/s]\n",
      "100%|██████████████████████████████████████████████████████████████████████████████████| 40/40 [00:00<00:00, 97.87it/s]\n",
      "100%|██████████████████████████████████████████████████████████████████████████████████| 40/40 [00:00<00:00, 97.09it/s]\n",
      "100%|██████████████████████████████████████████████████████████████████████████████████| 40/40 [00:00<00:00, 95.10it/s]\n",
      "100%|██████████████████████████████████████████████████████████████████████████████████| 40/40 [00:00<00:00, 97.32it/s]\n",
      "100%|█████████████████████████████████████████████████████████████████████████████████| 40/40 [00:00<00:00, 100.72it/s]\n",
      "100%|██████████████████████████████████████████████████████████████████████████████████| 40/40 [00:00<00:00, 95.92it/s]\n",
      "100%|██████████████████████████████████████████████████████████████████████████████████| 40/40 [00:00<00:00, 94.12it/s]\n",
      "100%|██████████████████████████████████████████████████████████████████████████████████| 40/40 [00:00<00:00, 94.75it/s]\n",
      "100%|██████████████████████████████████████████████████████████████████████████████████| 40/40 [00:00<00:00, 97.32it/s]\n",
      "100%|██████████████████████████████████████████████████████████████████████████████████| 40/40 [00:00<00:00, 98.04it/s]\n",
      "100%|██████████████████████████████████████████████████████████████████████████████████| 40/40 [00:00<00:00, 97.32it/s]\n",
      "100%|██████████████████████████████████████████████████████████████████████████████████| 40/40 [00:00<00:00, 98.85it/s]\n",
      "100%|██████████████████████████████████████████████████████████████████████████████████| 40/40 [00:00<00:00, 96.38it/s]\n",
      "100%|██████████████████████████████████████████████████████████████████████████████████| 40/40 [00:00<00:00, 97.09it/s]\n",
      "100%|██████████████████████████████████████████████████████████████████████████████████| 40/40 [00:00<00:00, 97.91it/s]\n"
     ]
    },
    {
     "data": {
      "image/png": "[encoded data removed]",
      "text/plain": [
       "<Figure size 432x288 with 1 Axes>"
      ]
     },
     "metadata": {
      "needs_background": "light"
     },
     "output_type": "display_data"
    }
   ],
   "source": [
    "pred_resp_all = []\n",
    "resp_all = []\n",
    "for i in range(25):\n",
    "    imgtsr = G.visualize(2*torch.randn(40,4096).cuda())\n",
    "    pred_resp = score_images(VGG.features, model_scorer, layer, imgtsr, preprocessor=lambda x:x)\n",
    "    resp = scorer.score_tsr_wgrad(imgtsr, B=40).cpu()\n",
    "    del imgtsr\n",
    "    pred_resp_all.append(pred_resp)\n",
    "    resp_all.append(resp)\n",
    "pred_resp = torch.cat(pred_resp_all,dim=0)\n",
    "resp = torch.cat(resp_all,dim=0)\n",
    "\n",
    "corr = np.corrcoef(pred_resp.numpy(),resp.numpy())[0,1]\n",
    "plt.scatter(pred_resp.numpy(),resp.numpy())\n",
    "plt.ylabel(\"target response\")\n",
    "plt.xlabel(\"predicted response\")\n",
    "plt.title(\"corr:{:.3f}\".format(corr))\n",
    "plt.show()"
   ]
  },
  {
   "cell_type": "markdown",
   "id": "0021861d",
   "metadata": {},
   "source": [
    "Seems using correlation of one trajectory to build model for the neuron does not generalize to images far from the peak. \n",
    "\n"
   ]
  },
  {
   "cell_type": "code",
   "execution_count": null,
   "id": "86d06b3f",
   "metadata": {},
   "outputs": [],
   "source": [
    "imgN = len(imgfullpath_vect)\n",
    "if type(score_vect) is not list:\n",
    "    score_tsr = torch.tensor(score_vect).float()  # torchify the score vector\n",
    "    rep_score = False\n",
    "else:\n",
    "    rep_score = True\n",
    "csr = 0\n",
    "pbar = tqdm(total=imgN)\n",
    "while csr < imgN:\n",
    "    cend = min(csr + batchsize, imgN)\n",
    "    input_tsr = imgload_func(imgfullpath_vect[csr:cend])  #\n",
    "    # input_tsr = loadimg_embed_preprocess(imgfullpath_vect[csr:cend], imgpix=imgpix, fullimgsz=(256, 256))\n",
    "    # Pool through VGG\n",
    "    with torch.no_grad():\n",
    "        net(input_tsr.cuda()).cpu()\n",
    "    if rep_score:\n",
    "        featFetcher.update_corr_rep(score_vect[csr:cend])\n",
    "    else:\n",
    "        featFetcher.update_corr(score_tsr[csr:cend])\n",
    "    # update bar!\n",
    "    pbar.update(cend - csr)\n",
    "    csr = cend\n",
    "pbar.close()\n",
    "featFetcher.calc_corr()"
   ]
  }
 ],
 "metadata": {
  "kernelspec": {
   "display_name": "Python 3",
   "language": "python",
   "name": "python3"
  },
  "language_info": {
   "codemirror_mode": {
    "name": "ipython",
    "version": 3
   },
   "file_extension": ".py",
   "mimetype": "text/x-python",
   "name": "python",
   "nbconvert_exporter": "python",
   "pygments_lexer": "ipython3",
   "version": "3.8.8"
  },
  "toc": {
   "base_numbering": 1,
   "nav_menu": {},
   "number_sections": true,
   "sideBar": true,
   "skip_h1_title": false,
   "title_cell": "Table of Contents",
   "title_sidebar": "Contents",
   "toc_cell": false,
   "toc_position": {},
   "toc_section_display": true,
   "toc_window_display": false
  },
  "varInspector": {
   "cols": {
    "lenName": 16,
    "lenType": 16,
    "lenVar": 40
   },
   "kernels_config": {
    "python": {
     "delete_cmd_postfix": "",
     "delete_cmd_prefix": "del ",
     "library": "var_list.py",
     "varRefreshCmd": "print(var_dic_list())"
    },
    "r": {
     "delete_cmd_postfix": ") ",
     "delete_cmd_prefix": "rm(",
     "library": "var_list.r",
     "varRefreshCmd": "cat(var_dic_list()) "
    }
   },
   "types_to_exclude": [
    "module",
    "function",
    "builtin_function_or_method",
    "instance",
    "_Feature"
   ],
   "window_display": false
  }
 },
 "nbformat": 4,
 "nbformat_minor": 5
}
